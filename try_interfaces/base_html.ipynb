{
 "cells": [
  {
   "cell_type": "code",
   "execution_count": 1,
   "id": "887020d2",
   "metadata": {},
   "outputs": [],
   "source": [
    "def start_html(type_list:list):\n",
    "    big_structure=\"\"  \n",
    "    \n",
    "    from bs4 import BeautifulSoup\n",
    "    soup = BeautifulSoup()\n",
    "    \n",
    "    main_div=soup.new_tag(\"div\")\n",
    "    main_div.attrs[\"class\"]=\"main\"\n",
    "    \n",
    "    num_in=0\n",
    "    num_di=0\n",
    "    \n",
    "    for ii in type_list:\n",
    "        num_in+=1\n",
    "        in_div=soup.new_tag(\"div\")\n",
    "        in_div.attrs[\"class\"]=\"in\"+str(num_in)+\" \"+\"in\"\n",
    "        for jj in ii:\n",
    "            num_di+=1\n",
    "            k=soup.new_tag(\"div\")\n",
    "            k.attrs[\"class\"]=\"di\"+str(num_di)+\" \"+\"di\"\n",
    "            in_div.append(k)\n",
    "        main_div.append(in_div)\n",
    "    soup.append(main_div)\n",
    "    return soup\n",
    "    \n"
   ]
  },
  {
   "cell_type": "code",
   "execution_count": 2,
   "id": "9adbf560",
   "metadata": {},
   "outputs": [],
   "source": [
    "style=\"\"\"\n",
    "<style>\n",
    "  .main {\n",
    "    display: flex;\n",
    "    flex-direction: row;\n",
    "    max-width: 183px;\n",
    "    justify-content: flex-start;\n",
    "    align-items: flex-start;\n",
    "    padding-top: 2px;\n",
    "    padding-bottom: 2px;\n",
    "    padding-right: 2px;\n",
    "    padding-left: 2px;\n",
    "    background-color: rgba(27, 27, 27, 1);\n",
    "  }\n",
    "  .in {\n",
    "    display: flex;\n",
    "    flex-direction: column;\n",
    "    max-width: 31px;\n",
    "    justify-content: flex-start;\n",
    "    align-items: flex-start;\n",
    "    margin-left: 4px;\n",
    "  }\n",
    "  .di {\n",
    "    display: flex;\n",
    "    max-width: 31px;\n",
    "    height: 31px;\n",
    "    width: 31px;\n",
    "    margin-top: 4px;\n",
    "    border-radius: 3px;\n",
    "    background-color: rgba(29, 85, 227, 1);\n",
    "  }\n",
    "</style>\n",
    "\"\"\""
   ]
  },
  {
   "cell_type": "code",
   "execution_count": null,
   "id": "7678da4f",
   "metadata": {},
   "outputs": [],
   "source": [
    "def style_gen(li:list):\n",
    "    get=0\n",
    "    ret=\"<style>\"\n",
    "    for ii in li:\n",
    "        for i in ii:\n",
    "            get+=1\n",
    "            ret+=\".di\"+str(get)+\" {background-color: rgba\"+str(i)+\";}\"\n",
    "    return ret+\"</style>\""
   ]
  },
  {
   "cell_type": "code",
   "execution_count": null,
   "id": "2506c26c",
   "metadata": {},
   "outputs": [],
   "source": []
  },
  {
   "cell_type": "code",
   "execution_count": null,
   "id": "ca7a1452",
   "metadata": {},
   "outputs": [],
   "source": []
  }
 ],
 "metadata": {
  "kernelspec": {
   "display_name": "Python 3 (ipykernel)",
   "language": "python",
   "name": "python3"
  },
  "language_info": {
   "codemirror_mode": {
    "name": "ipython",
    "version": 3
   },
   "file_extension": ".py",
   "mimetype": "text/x-python",
   "name": "python",
   "nbconvert_exporter": "python",
   "pygments_lexer": "ipython3",
   "version": "3.9.7"
  }
 },
 "nbformat": 4,
 "nbformat_minor": 5
}
