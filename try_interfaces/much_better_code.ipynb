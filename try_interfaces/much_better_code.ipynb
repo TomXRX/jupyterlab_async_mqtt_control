{
 "cells": [
  {
   "cell_type": "code",
   "execution_count": 1,
   "id": "7477638e",
   "metadata": {},
   "outputs": [
    {
     "data": {
      "text/plain": [
       "[[(0, 0, 0), (0, 0, 0), (0, 0, 0), (0, 0, 0), (0, 0, 0)],\n",
       " [(32, 32, 32), (32, 32, 32), (32, 32, 32), (32, 32, 32), (32, 32, 32)],\n",
       " [(64, 64, 64), (64, 64, 64), (64, 64, 64), (64, 64, 64), (64, 64, 64)],\n",
       " [(96, 96, 96), (96, 96, 96), (96, 96, 96), (96, 96, 96), (96, 96, 96)],\n",
       " [(128, 128, 128),\n",
       "  (128, 128, 128),\n",
       "  (128, 128, 128),\n",
       "  (128, 128, 128),\n",
       "  (128, 128, 128)]]"
      ]
     },
     "execution_count": 1,
     "metadata": {},
     "output_type": "execute_result"
    }
   ],
   "source": [
    "def fo_matrix(p=0):\n",
    "    def go(j):\n",
    "        return list((j,j,j) for i in range(5))\n",
    "    return list(go(i*32+p) for i in range(5))\n",
    "fo_matrix()"
   ]
  },
  {
   "cell_type": "code",
   "execution_count": 2,
   "id": "f5a79867",
   "metadata": {},
   "outputs": [],
   "source": [
    "%run base_html.ipynb"
   ]
  },
  {
   "cell_type": "code",
   "execution_count": 3,
   "id": "7f3b95f4",
   "metadata": {},
   "outputs": [],
   "source": [
    "g=start_html(fo_matrix())"
   ]
  },
  {
   "cell_type": "code",
   "execution_count": null,
   "id": "6fca63c6",
   "metadata": {},
   "outputs": [],
   "source": []
  },
  {
   "cell_type": "code",
   "execution_count": 4,
   "id": "559db9b5",
   "metadata": {},
   "outputs": [],
   "source": [
    "import asyncio\n",
    "\n",
    "from IPython.display import display,HTML,clear_output\n",
    "\n",
    "from functools import partial\n",
    "\n",
    "import ipywidgets\n",
    "from ipywidgets import IntSlider, Output"
   ]
  },
  {
   "cell_type": "code",
   "execution_count": null,
   "id": "d145fa5f",
   "metadata": {},
   "outputs": [],
   "source": []
  },
  {
   "cell_type": "code",
   "execution_count": 5,
   "id": "dd8fc296",
   "metadata": {},
   "outputs": [
    {
     "data": {
      "text/html": [
       "<div class=\"main\"><div class=\"in1 in\"><div class=\"di1 di\"></div><div class=\"di2 di\"></div><div class=\"di3 di\"></div><div class=\"di4 di\"></div><div class=\"di5 di\"></div></div><div class=\"in2 in\"><div class=\"di6 di\"></div><div class=\"di7 di\"></div><div class=\"di8 di\"></div><div class=\"di9 di\"></div><div class=\"di10 di\"></div></div><div class=\"in3 in\"><div class=\"di11 di\"></div><div class=\"di12 di\"></div><div class=\"di13 di\"></div><div class=\"di14 di\"></div><div class=\"di15 di\"></div></div><div class=\"in4 in\"><div class=\"di16 di\"></div><div class=\"di17 di\"></div><div class=\"di18 di\"></div><div class=\"di19 di\"></div><div class=\"di20 di\"></div></div><div class=\"in5 in\"><div class=\"di21 di\"></div><div class=\"di22 di\"></div><div class=\"di23 di\"></div><div class=\"di24 di\"></div><div class=\"di25 di\"></div></div></div>"
      ],
      "text/plain": [
       "<IPython.core.display.HTML object>"
      ]
     },
     "metadata": {},
     "output_type": "display_data"
    },
    {
     "data": {
      "text/html": [
       "\n",
       "<style>\n",
       "  .main {\n",
       "    display: flex;\n",
       "    flex-direction: row;\n",
       "    max-width: 183px;\n",
       "    justify-content: flex-start;\n",
       "    align-items: flex-start;\n",
       "    padding-top: 2px;\n",
       "    padding-bottom: 2px;\n",
       "    padding-right: 2px;\n",
       "    padding-left: 2px;\n",
       "    background-color: rgba(27, 27, 27, 1);\n",
       "  }\n",
       "  .in {\n",
       "    display: flex;\n",
       "    flex-direction: column;\n",
       "    max-width: 31px;\n",
       "    justify-content: flex-start;\n",
       "    align-items: flex-start;\n",
       "    margin-left: 4px;\n",
       "  }\n",
       "  .di {\n",
       "    display: flex;\n",
       "    max-width: 31px;\n",
       "    height: 31px;\n",
       "    width: 31px;\n",
       "    margin-top: 4px;\n",
       "    border-radius: 3px;\n",
       "    background-color: rgba(29, 85, 227, 1);\n",
       "  }\n",
       "</style>\n"
      ],
      "text/plain": [
       "<IPython.core.display.HTML object>"
      ]
     },
     "metadata": {},
     "output_type": "display_data"
    }
   ],
   "source": [
    "display(HTML(str(g)))\n",
    "display(HTML(style))"
   ]
  },
  {
   "cell_type": "code",
   "execution_count": null,
   "id": "90fa020e",
   "metadata": {},
   "outputs": [],
   "source": []
  },
  {
   "cell_type": "code",
   "execution_count": 6,
   "id": "4e7a225d",
   "metadata": {},
   "outputs": [],
   "source": [
    "class StateKeeper:\n",
    "    state=0\n",
    "    buttoned=False\n",
    "s=StateKeeper()"
   ]
  },
  {
   "cell_type": "code",
   "execution_count": null,
   "id": "d472d19d",
   "metadata": {},
   "outputs": [],
   "source": []
  },
  {
   "cell_type": "code",
   "execution_count": null,
   "id": "4661ff57",
   "metadata": {},
   "outputs": [],
   "source": []
  },
  {
   "cell_type": "code",
   "execution_count": null,
   "id": "ccc7469c",
   "metadata": {},
   "outputs": [],
   "source": []
  },
  {
   "cell_type": "code",
   "execution_count": 18,
   "id": "adaa3b5f",
   "metadata": {},
   "outputs": [],
   "source": [
    "setattr(s,\"state\",1)"
   ]
  },
  {
   "cell_type": "code",
   "execution_count": 7,
   "id": "9cdf39b4",
   "metadata": {},
   "outputs": [
    {
     "data": {
      "application/vnd.jupyter.widget-view+json": {
       "model_id": "6251dd6563a84e5a845dada1a4c238cd",
       "version_major": 2,
       "version_minor": 0
      },
      "text/plain": [
       "Button(description='Click Me!', style=ButtonStyle())"
      ]
     },
     "metadata": {},
     "output_type": "display_data"
    }
   ],
   "source": [
    "button = ipywidgets.Button(description=\"Click Me!\")\n",
    "def on_button(p,state):\n",
    "    state.buttoned=True\n",
    "    if state.state>50:\n",
    "        state.state=10\n",
    "    else:\n",
    "        state.state=100\n",
    "\n",
    "button.on_click(partial(on_button,state=s))\n",
    "button"
   ]
  },
  {
   "cell_type": "code",
   "execution_count": 8,
   "id": "1b502a73",
   "metadata": {},
   "outputs": [
    {
     "data": {
      "application/vnd.jupyter.widget-view+json": {
       "model_id": "ee3982733ded47de90e9c1c3dfb0ae43",
       "version_major": 2,
       "version_minor": 0
      },
      "text/plain": [
       "IntSlider(value=10, max=255)"
      ]
     },
     "metadata": {},
     "output_type": "display_data"
    }
   ],
   "source": [
    "slider = IntSlider()\n",
    "\n",
    "async def sync_slider(state):\n",
    "    while 1:\n",
    "        await asyncio.sleep(0.1)\n",
    "        if state.buttoned:\n",
    "            slider.value=state.state\n",
    "            state.buttoned=False\n",
    "        else:\n",
    "            state.state=slider.value\n",
    "\n",
    "T=asyncio.create_task(sync_slider(s))\n",
    "\n",
    "slider.value=10\n",
    "slider.max=255\n",
    "slider"
   ]
  },
  {
   "cell_type": "code",
   "execution_count": null,
   "id": "99c9fea6",
   "metadata": {},
   "outputs": [],
   "source": []
  },
  {
   "cell_type": "code",
   "execution_count": 9,
   "id": "c12882e2",
   "metadata": {},
   "outputs": [],
   "source": [
    "async def sync_style(state):\n",
    "    k=display(\"\",display_id=True)\n",
    "    while 1:\n",
    "        await asyncio.sleep(0.1)\n",
    "        k.update(HTML(style_gen(fo_matrix(state.state))))"
   ]
  },
  {
   "cell_type": "code",
   "execution_count": null,
   "id": "bbac21bb",
   "metadata": {},
   "outputs": [],
   "source": []
  },
  {
   "cell_type": "code",
   "execution_count": 10,
   "id": "cebc606f",
   "metadata": {},
   "outputs": [],
   "source": [
    "T=asyncio.create_task(sync_style(s))"
   ]
  },
  {
   "cell_type": "code",
   "execution_count": null,
   "id": "125c5d0b",
   "metadata": {},
   "outputs": [],
   "source": []
  },
  {
   "cell_type": "code",
   "execution_count": 11,
   "id": "907db26f",
   "metadata": {},
   "outputs": [
    {
     "data": {
      "application/vnd.jupyter.widget-view+json": {
       "model_id": "ee3982733ded47de90e9c1c3dfb0ae43",
       "version_major": 2,
       "version_minor": 0
      },
      "text/plain": [
       "IntSlider(value=10, max=255)"
      ]
     },
     "metadata": {},
     "output_type": "display_data"
    },
    {
     "data": {
      "application/vnd.jupyter.widget-view+json": {
       "model_id": "6251dd6563a84e5a845dada1a4c238cd",
       "version_major": 2,
       "version_minor": 0
      },
      "text/plain": [
       "Button(description='Click Me!', style=ButtonStyle())"
      ]
     },
     "metadata": {},
     "output_type": "display_data"
    }
   ],
   "source": [
    "display(slider)\n",
    "display(button)"
   ]
  },
  {
   "cell_type": "code",
   "execution_count": 12,
   "id": "066f9710",
   "metadata": {},
   "outputs": [
    {
     "data": {
      "text/html": [
       "<div class=\"main\"><div class=\"in1 in\"><div class=\"di1 di\"></div><div class=\"di2 di\"></div><div class=\"di3 di\"></div><div class=\"di4 di\"></div><div class=\"di5 di\"></div></div><div class=\"in2 in\"><div class=\"di6 di\"></div><div class=\"di7 di\"></div><div class=\"di8 di\"></div><div class=\"di9 di\"></div><div class=\"di10 di\"></div></div><div class=\"in3 in\"><div class=\"di11 di\"></div><div class=\"di12 di\"></div><div class=\"di13 di\"></div><div class=\"di14 di\"></div><div class=\"di15 di\"></div></div><div class=\"in4 in\"><div class=\"di16 di\"></div><div class=\"di17 di\"></div><div class=\"di18 di\"></div><div class=\"di19 di\"></div><div class=\"di20 di\"></div></div><div class=\"in5 in\"><div class=\"di21 di\"></div><div class=\"di22 di\"></div><div class=\"di23 di\"></div><div class=\"di24 di\"></div><div class=\"di25 di\"></div></div></div>"
      ],
      "text/plain": [
       "<IPython.core.display.HTML object>"
      ]
     },
     "metadata": {},
     "output_type": "display_data"
    },
    {
     "data": {
      "text/html": [
       "\n",
       "<style>\n",
       "  .main {\n",
       "    display: flex;\n",
       "    flex-direction: row;\n",
       "    max-width: 183px;\n",
       "    justify-content: flex-start;\n",
       "    align-items: flex-start;\n",
       "    padding-top: 2px;\n",
       "    padding-bottom: 2px;\n",
       "    padding-right: 2px;\n",
       "    padding-left: 2px;\n",
       "    background-color: rgba(27, 27, 27, 1);\n",
       "  }\n",
       "  .in {\n",
       "    display: flex;\n",
       "    flex-direction: column;\n",
       "    max-width: 31px;\n",
       "    justify-content: flex-start;\n",
       "    align-items: flex-start;\n",
       "    margin-left: 4px;\n",
       "  }\n",
       "  .di {\n",
       "    display: flex;\n",
       "    max-width: 31px;\n",
       "    height: 31px;\n",
       "    width: 31px;\n",
       "    margin-top: 4px;\n",
       "    border-radius: 3px;\n",
       "    background-color: rgba(29, 85, 227, 1);\n",
       "  }\n",
       "</style>\n"
      ],
      "text/plain": [
       "<IPython.core.display.HTML object>"
      ]
     },
     "metadata": {},
     "output_type": "display_data"
    }
   ],
   "source": [
    "display(HTML(str(g)))\n",
    "display(HTML(style))"
   ]
  },
  {
   "cell_type": "code",
   "execution_count": 13,
   "id": "0d5887a0",
   "metadata": {},
   "outputs": [
    {
     "ename": "SyntaxError",
     "evalue": "'break' outside loop (668683560.py, line 1)",
     "output_type": "error",
     "traceback": [
      "\u001b[0;36m  File \u001b[0;32m\"/tmp/ipykernel_864/668683560.py\"\u001b[0;36m, line \u001b[0;32m1\u001b[0m\n\u001b[0;31m    break\u001b[0m\n\u001b[0m    ^\u001b[0m\n\u001b[0;31mSyntaxError\u001b[0m\u001b[0;31m:\u001b[0m 'break' outside loop\n"
     ]
    }
   ],
   "source": [
    "break"
   ]
  },
  {
   "cell_type": "code",
   "execution_count": 14,
   "id": "62e019e2",
   "metadata": {},
   "outputs": [
    {
     "data": {
      "text/plain": [
       "True"
      ]
     },
     "execution_count": 14,
     "metadata": {},
     "output_type": "execute_result"
    }
   ],
   "source": [
    "T.cancel()"
   ]
  },
  {
   "cell_type": "code",
   "execution_count": null,
   "id": "077878cb",
   "metadata": {},
   "outputs": [],
   "source": []
  }
 ],
 "metadata": {
  "kernelspec": {
   "display_name": "Python 3 (ipykernel)",
   "language": "python",
   "name": "python3"
  },
  "language_info": {
   "codemirror_mode": {
    "name": "ipython",
    "version": 3
   },
   "file_extension": ".py",
   "mimetype": "text/x-python",
   "name": "python",
   "nbconvert_exporter": "python",
   "pygments_lexer": "ipython3",
   "version": "3.9.7"
  }
 },
 "nbformat": 4,
 "nbformat_minor": 5
}
