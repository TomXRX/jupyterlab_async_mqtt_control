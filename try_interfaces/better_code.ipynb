{
 "cells": [
  {
   "cell_type": "code",
   "execution_count": 3,
   "id": "036660a6",
   "metadata": {},
   "outputs": [],
   "source": [
    "# TODO:button"
   ]
  },
  {
   "cell_type": "code",
   "execution_count": 4,
   "id": "7477638e",
   "metadata": {},
   "outputs": [
    {
     "data": {
      "text/plain": [
       "[[(0, 0, 0), (0, 0, 0), (0, 0, 0), (0, 0, 0), (0, 0, 0)],\n",
       " [(32, 32, 32), (32, 32, 32), (32, 32, 32), (32, 32, 32), (32, 32, 32)],\n",
       " [(64, 64, 64), (64, 64, 64), (64, 64, 64), (64, 64, 64), (64, 64, 64)],\n",
       " [(96, 96, 96), (96, 96, 96), (96, 96, 96), (96, 96, 96), (96, 96, 96)],\n",
       " [(128, 128, 128),\n",
       "  (128, 128, 128),\n",
       "  (128, 128, 128),\n",
       "  (128, 128, 128),\n",
       "  (128, 128, 128)]]"
      ]
     },
     "execution_count": 4,
     "metadata": {},
     "output_type": "execute_result"
    }
   ],
   "source": [
    "def fo_matrix(p=0):\n",
    "    def go(j):\n",
    "        return list((j,j,j) for i in range(5))\n",
    "    return list(go(i*32+p) for i in range(5))\n",
    "fo_matrix()"
   ]
  },
  {
   "cell_type": "code",
   "execution_count": null,
   "id": "f5a79867",
   "metadata": {},
   "outputs": [],
   "source": []
  },
  {
   "cell_type": "code",
   "execution_count": 5,
   "id": "7f3b95f4",
   "metadata": {},
   "outputs": [
    {
     "data": {
      "text/plain": [
       "'<div class=\"main\"><div class=\"in1 in\"><div class=\"di1 di\"></div><div class=\"di2 di\"></div><div class=\"di3 di\"></div><div class=\"di4 di\"></div><div class=\"di5 di\"></div></div><div class=\"in2 in\"><div class=\"di6 di\"></div><div class=\"di7 di\"></div><div class=\"di8 di\"></div><div class=\"di9 di\"></div><div class=\"di10 di\"></div></div><div class=\"in3 in\"><div class=\"di11 di\"></div><div class=\"di12 di\"></div><div class=\"di13 di\"></div><div class=\"di14 di\"></div><div class=\"di15 di\"></div></div><div class=\"in4 in\"><div class=\"di16 di\"></div><div class=\"di17 di\"></div><div class=\"di18 di\"></div><div class=\"di19 di\"></div><div class=\"di20 di\"></div></div><div class=\"in5 in\"><div class=\"di21 di\"></div><div class=\"di22 di\"></div><div class=\"di23 di\"></div><div class=\"di24 di\"></div><div class=\"di25 di\"></div></div></div>'"
      ]
     },
     "execution_count": 5,
     "metadata": {},
     "output_type": "execute_result"
    }
   ],
   "source": [
    "def start_html(type_list:list):\n",
    "    big_structure=\"\"  \n",
    "    \n",
    "    from bs4 import BeautifulSoup\n",
    "    soup = BeautifulSoup()\n",
    "    \n",
    "    main_div=soup.new_tag(\"div\")\n",
    "    main_div.attrs[\"class\"]=\"main\"\n",
    "    \n",
    "    num_in=0\n",
    "    num_di=0\n",
    "    \n",
    "    for ii in type_list:\n",
    "        num_in+=1\n",
    "        in_div=soup.new_tag(\"div\")\n",
    "        in_div.attrs[\"class\"]=\"in\"+str(num_in)+\" \"+\"in\"\n",
    "        for jj in ii:\n",
    "            num_di+=1\n",
    "            k=soup.new_tag(\"div\")\n",
    "            k.attrs[\"class\"]=\"di\"+str(num_di)+\" \"+\"di\"\n",
    "            in_div.append(k)\n",
    "        main_div.append(in_div)\n",
    "    soup.append(main_div)\n",
    "    return soup\n",
    "    \n",
    "g=start_html(fo_matrix())\n",
    "# print(g.prettify())\n",
    "str(g)"
   ]
  },
  {
   "cell_type": "code",
   "execution_count": null,
   "id": "9d97ca9c",
   "metadata": {},
   "outputs": [],
   "source": []
  },
  {
   "cell_type": "code",
   "execution_count": 6,
   "id": "a4fb3275",
   "metadata": {},
   "outputs": [],
   "source": [
    "style=\"\"\"\n",
    "<style>\n",
    "  .main {\n",
    "    display: flex;\n",
    "    flex-direction: row;\n",
    "    max-width: 183px;\n",
    "    justify-content: flex-start;\n",
    "    align-items: flex-start;\n",
    "    padding-top: 2px;\n",
    "    padding-bottom: 2px;\n",
    "    padding-right: 2px;\n",
    "    padding-left: 2px;\n",
    "    background-color: rgba(27, 27, 27, 1);\n",
    "  }\n",
    "  .in {\n",
    "    display: flex;\n",
    "    flex-direction: column;\n",
    "    max-width: 31px;\n",
    "    justify-content: flex-start;\n",
    "    align-items: flex-start;\n",
    "    margin-left: 4px;\n",
    "  }\n",
    "  .di {\n",
    "    display: flex;\n",
    "    max-width: 31px;\n",
    "    height: 31px;\n",
    "    width: 31px;\n",
    "    margin-top: 4px;\n",
    "    border-radius: 3px;\n",
    "    background-color: rgba(29, 85, 227, 1);\n",
    "  }\n",
    "</style>\n",
    "\"\"\""
   ]
  },
  {
   "cell_type": "code",
   "execution_count": 7,
   "id": "1bc5a462",
   "metadata": {},
   "outputs": [
    {
     "data": {
      "text/plain": [
       "'<style>.di1 {background-color: rgba(0, 0, 0);}.di2 {background-color: rgba(0, 0, 0);}.di3 {background-color: rgba(0, 0, 0);}.di4 {background-color: rgba(0, 0, 0);}.di5 {background-color: rgba(0, 0, 0);}.di6 {background-color: rgba(32, 32, 32);}.di7 {background-color: rgba(32, 32, 32);}.di8 {background-color: rgba(32, 32, 32);}.di9 {background-color: rgba(32, 32, 32);}.di10 {background-color: rgba(32, 32, 32);}.di11 {background-color: rgba(64, 64, 64);}.di12 {background-color: rgba(64, 64, 64);}.di13 {background-color: rgba(64, 64, 64);}.di14 {background-color: rgba(64, 64, 64);}.di15 {background-color: rgba(64, 64, 64);}.di16 {background-color: rgba(96, 96, 96);}.di17 {background-color: rgba(96, 96, 96);}.di18 {background-color: rgba(96, 96, 96);}.di19 {background-color: rgba(96, 96, 96);}.di20 {background-color: rgba(96, 96, 96);}.di21 {background-color: rgba(128, 128, 128);}.di22 {background-color: rgba(128, 128, 128);}.di23 {background-color: rgba(128, 128, 128);}.di24 {background-color: rgba(128, 128, 128);}.di25 {background-color: rgba(128, 128, 128);}</style>'"
      ]
     },
     "execution_count": 7,
     "metadata": {},
     "output_type": "execute_result"
    }
   ],
   "source": [
    "def style_gen(li:list):\n",
    "    get=0\n",
    "    ret=\"<style>\"\n",
    "    for ii in li:\n",
    "        for i in ii:\n",
    "            get+=1\n",
    "            ret+=\".di\"+str(get)+\" {background-color: rgba\"+str(i)+\";}\"\n",
    "    return ret+\"</style>\"\n",
    "style_gen(fo_matrix())"
   ]
  },
  {
   "cell_type": "code",
   "execution_count": null,
   "id": "ef5afed2",
   "metadata": {},
   "outputs": [],
   "source": []
  },
  {
   "cell_type": "code",
   "execution_count": null,
   "id": "bc992421",
   "metadata": {},
   "outputs": [],
   "source": []
  },
  {
   "cell_type": "code",
   "execution_count": null,
   "id": "cb287e9b",
   "metadata": {},
   "outputs": [],
   "source": []
  },
  {
   "cell_type": "code",
   "execution_count": 8,
   "id": "559db9b5",
   "metadata": {},
   "outputs": [],
   "source": [
    "from IPython.display import display,HTML,clear_output\n",
    "import time"
   ]
  },
  {
   "cell_type": "code",
   "execution_count": null,
   "id": "d145fa5f",
   "metadata": {},
   "outputs": [],
   "source": []
  },
  {
   "cell_type": "code",
   "execution_count": 9,
   "id": "dd8fc296",
   "metadata": {},
   "outputs": [
    {
     "data": {
      "text/html": [
       "<div class=\"main\"><div class=\"in1 in\"><div class=\"di1 di\"></div><div class=\"di2 di\"></div><div class=\"di3 di\"></div><div class=\"di4 di\"></div><div class=\"di5 di\"></div></div><div class=\"in2 in\"><div class=\"di6 di\"></div><div class=\"di7 di\"></div><div class=\"di8 di\"></div><div class=\"di9 di\"></div><div class=\"di10 di\"></div></div><div class=\"in3 in\"><div class=\"di11 di\"></div><div class=\"di12 di\"></div><div class=\"di13 di\"></div><div class=\"di14 di\"></div><div class=\"di15 di\"></div></div><div class=\"in4 in\"><div class=\"di16 di\"></div><div class=\"di17 di\"></div><div class=\"di18 di\"></div><div class=\"di19 di\"></div><div class=\"di20 di\"></div></div><div class=\"in5 in\"><div class=\"di21 di\"></div><div class=\"di22 di\"></div><div class=\"di23 di\"></div><div class=\"di24 di\"></div><div class=\"di25 di\"></div></div></div>"
      ],
      "text/plain": [
       "<IPython.core.display.HTML object>"
      ]
     },
     "metadata": {},
     "output_type": "display_data"
    },
    {
     "data": {
      "text/html": [
       "\n",
       "<style>\n",
       "  .main {\n",
       "    display: flex;\n",
       "    flex-direction: row;\n",
       "    max-width: 183px;\n",
       "    justify-content: flex-start;\n",
       "    align-items: flex-start;\n",
       "    padding-top: 2px;\n",
       "    padding-bottom: 2px;\n",
       "    padding-right: 2px;\n",
       "    padding-left: 2px;\n",
       "    background-color: rgba(27, 27, 27, 1);\n",
       "  }\n",
       "  .in {\n",
       "    display: flex;\n",
       "    flex-direction: column;\n",
       "    max-width: 31px;\n",
       "    justify-content: flex-start;\n",
       "    align-items: flex-start;\n",
       "    margin-left: 4px;\n",
       "  }\n",
       "  .di {\n",
       "    display: flex;\n",
       "    max-width: 31px;\n",
       "    height: 31px;\n",
       "    width: 31px;\n",
       "    margin-top: 4px;\n",
       "    border-radius: 3px;\n",
       "    background-color: rgba(29, 85, 227, 1);\n",
       "  }\n",
       "</style>\n"
      ],
      "text/plain": [
       "<IPython.core.display.HTML object>"
      ]
     },
     "metadata": {},
     "output_type": "display_data"
    }
   ],
   "source": [
    "display(HTML(str(g)))\n",
    "display(HTML(style))"
   ]
  },
  {
   "cell_type": "code",
   "execution_count": null,
   "id": "90fa020e",
   "metadata": {},
   "outputs": [],
   "source": []
  },
  {
   "cell_type": "code",
   "execution_count": 10,
   "id": "4e7a225d",
   "metadata": {},
   "outputs": [],
   "source": [
    "class StateKeeper:\n",
    "    state=0\n",
    "    "
   ]
  },
  {
   "cell_type": "code",
   "execution_count": 11,
   "id": "d472d19d",
   "metadata": {},
   "outputs": [],
   "source": [
    "s=StateKeeper()"
   ]
  },
  {
   "cell_type": "code",
   "execution_count": null,
   "id": "99c9fea6",
   "metadata": {},
   "outputs": [],
   "source": []
  },
  {
   "cell_type": "code",
   "execution_count": 12,
   "id": "c12882e2",
   "metadata": {},
   "outputs": [],
   "source": [
    "import asyncio\n",
    "async def blink_style(state):\n",
    "    k=display(\"\",display_id=True)\n",
    "    while 1:\n",
    "        await asyncio.sleep(0.1)\n",
    "        i=state.state\n",
    "        if i%2:\n",
    "            k.update(HTML(style_gen(fo_matrix(128))))\n",
    "        else:\n",
    "            k.update(HTML(style_gen(fo_matrix())))\n",
    "        \n",
    "\n",
    "async def printer(state):\n",
    "    while 1:\n",
    "        await asyncio.sleep(0.1)\n",
    "        state.state+=1\n",
    "        print(state.state)"
   ]
  },
  {
   "cell_type": "code",
   "execution_count": 13,
   "id": "4197eb75",
   "metadata": {},
   "outputs": [],
   "source": [
    "loop=asyncio.get_event_loop()"
   ]
  },
  {
   "cell_type": "code",
   "execution_count": 14,
   "id": "cebc606f",
   "metadata": {},
   "outputs": [],
   "source": [
    "T=loop.create_task(blink_style(s))"
   ]
  },
  {
   "cell_type": "code",
   "execution_count": 15,
   "id": "309b399d",
   "metadata": {},
   "outputs": [],
   "source": [
    "T2=loop.create_task(printer(s))"
   ]
  },
  {
   "cell_type": "code",
   "execution_count": 16,
   "id": "150cff04",
   "metadata": {},
   "outputs": [
    {
     "data": {
      "text/plain": [
       "True"
      ]
     },
     "execution_count": 16,
     "metadata": {},
     "output_type": "execute_result"
    }
   ],
   "source": [
    "T2.cancel()"
   ]
  },
  {
   "cell_type": "code",
   "execution_count": 17,
   "id": "62e019e2",
   "metadata": {},
   "outputs": [
    {
     "data": {
      "text/plain": [
       "True"
      ]
     },
     "execution_count": 17,
     "metadata": {},
     "output_type": "execute_result"
    }
   ],
   "source": [
    "T.cancel()"
   ]
  },
  {
   "cell_type": "code",
   "execution_count": null,
   "id": "8fd2a902",
   "metadata": {},
   "outputs": [],
   "source": []
  },
  {
   "cell_type": "code",
   "execution_count": 18,
   "id": "066f9710",
   "metadata": {},
   "outputs": [
    {
     "data": {
      "text/html": [
       "<div class=\"main\"><div class=\"in1 in\"><div class=\"di1 di\"></div><div class=\"di2 di\"></div><div class=\"di3 di\"></div><div class=\"di4 di\"></div><div class=\"di5 di\"></div></div><div class=\"in2 in\"><div class=\"di6 di\"></div><div class=\"di7 di\"></div><div class=\"di8 di\"></div><div class=\"di9 di\"></div><div class=\"di10 di\"></div></div><div class=\"in3 in\"><div class=\"di11 di\"></div><div class=\"di12 di\"></div><div class=\"di13 di\"></div><div class=\"di14 di\"></div><div class=\"di15 di\"></div></div><div class=\"in4 in\"><div class=\"di16 di\"></div><div class=\"di17 di\"></div><div class=\"di18 di\"></div><div class=\"di19 di\"></div><div class=\"di20 di\"></div></div><div class=\"in5 in\"><div class=\"di21 di\"></div><div class=\"di22 di\"></div><div class=\"di23 di\"></div><div class=\"di24 di\"></div><div class=\"di25 di\"></div></div></div>"
      ],
      "text/plain": [
       "<IPython.core.display.HTML object>"
      ]
     },
     "metadata": {},
     "output_type": "display_data"
    },
    {
     "data": {
      "text/html": [
       "\n",
       "<style>\n",
       "  .main {\n",
       "    display: flex;\n",
       "    flex-direction: row;\n",
       "    max-width: 183px;\n",
       "    justify-content: flex-start;\n",
       "    align-items: flex-start;\n",
       "    padding-top: 2px;\n",
       "    padding-bottom: 2px;\n",
       "    padding-right: 2px;\n",
       "    padding-left: 2px;\n",
       "    background-color: rgba(27, 27, 27, 1);\n",
       "  }\n",
       "  .in {\n",
       "    display: flex;\n",
       "    flex-direction: column;\n",
       "    max-width: 31px;\n",
       "    justify-content: flex-start;\n",
       "    align-items: flex-start;\n",
       "    margin-left: 4px;\n",
       "  }\n",
       "  .di {\n",
       "    display: flex;\n",
       "    max-width: 31px;\n",
       "    height: 31px;\n",
       "    width: 31px;\n",
       "    margin-top: 4px;\n",
       "    border-radius: 3px;\n",
       "    background-color: rgba(29, 85, 227, 1);\n",
       "  }\n",
       "</style>\n"
      ],
      "text/plain": [
       "<IPython.core.display.HTML object>"
      ]
     },
     "metadata": {},
     "output_type": "display_data"
    }
   ],
   "source": [
    "display(HTML(str(g)))\n",
    "display(HTML(style))"
   ]
  },
  {
   "cell_type": "code",
   "execution_count": null,
   "id": "0d5887a0",
   "metadata": {},
   "outputs": [],
   "source": []
  },
  {
   "cell_type": "code",
   "execution_count": 19,
   "id": "c00e598e",
   "metadata": {},
   "outputs": [
    {
     "data": {
      "application/vnd.jupyter.widget-view+json": {
       "model_id": "464a75472875436196a5f072a3a4a5a7",
       "version_major": 2,
       "version_minor": 0
      },
      "text/plain": [
       "IntSlider(value=0)"
      ]
     },
     "metadata": {},
     "output_type": "display_data"
    }
   ],
   "source": [
    "from ipywidgets import IntSlider, Output\n",
    "slider = IntSlider()\n",
    "display(slider)"
   ]
  },
  {
   "cell_type": "code",
   "execution_count": 20,
   "id": "6119b1bd",
   "metadata": {},
   "outputs": [],
   "source": [
    "async def print_slider(slider):\n",
    "    while 1:\n",
    "        await asyncio.sleep(1)\n",
    "        print(slider.value)"
   ]
  },
  {
   "cell_type": "code",
   "execution_count": 21,
   "id": "12d05e07",
   "metadata": {},
   "outputs": [],
   "source": [
    "ps=loop.create_task(print_slider(slider))"
   ]
  },
  {
   "cell_type": "code",
   "execution_count": 22,
   "id": "517dbf01",
   "metadata": {},
   "outputs": [
    {
     "data": {
      "text/plain": [
       "True"
      ]
     },
     "execution_count": 22,
     "metadata": {},
     "output_type": "execute_result"
    }
   ],
   "source": [
    "ps.cancel()"
   ]
  },
  {
   "cell_type": "code",
   "execution_count": null,
   "id": "c437f8b5",
   "metadata": {},
   "outputs": [],
   "source": []
  },
  {
   "cell_type": "code",
   "execution_count": null,
   "id": "8d64cbfa",
   "metadata": {},
   "outputs": [],
   "source": []
  },
  {
   "cell_type": "code",
   "execution_count": 23,
   "id": "1773878a",
   "metadata": {},
   "outputs": [],
   "source": [
    "def light_matrix(go_in:list):\n",
    "    \"\"\"\n",
    "    [[(0,0,0),(0,0,0),...],[(0,0,0),(0,0,0),...],...]\n",
    "    \"\"\"\n",
    "    \n",
    "    \n",
    "    for i in go_in:\n",
    "        pass\n",
    "\n",
    "\n",
    "    \n",
    "light_matrix(fo_matrix())"
   ]
  },
  {
   "cell_type": "code",
   "execution_count": 24,
   "id": "5d39fc61",
   "metadata": {},
   "outputs": [
    {
     "data": {
      "text/html": [
       "<div class=\"main\"><div class=\"in1 in\"><div class=\"di1 di\"></div><div class=\"di2 di\"></div><div class=\"di3 di\"></div><div class=\"di4 di\"></div><div class=\"di5 di\"></div></div><div class=\"in2 in\"><div class=\"di6 di\"></div><div class=\"di7 di\"></div><div class=\"di8 di\"></div><div class=\"di9 di\"></div><div class=\"di10 di\"></div></div><div class=\"in3 in\"><div class=\"di11 di\"></div><div class=\"di12 di\"></div><div class=\"di13 di\"></div><div class=\"di14 di\"></div><div class=\"di15 di\"></div></div><div class=\"in4 in\"><div class=\"di16 di\"></div><div class=\"di17 di\"></div><div class=\"di18 di\"></div><div class=\"di19 di\"></div><div class=\"di20 di\"></div></div><div class=\"in5 in\"><div class=\"di21 di\"></div><div class=\"di22 di\"></div><div class=\"di23 di\"></div><div class=\"di24 di\"></div><div class=\"di25 di\"></div></div></div>"
      ],
      "text/plain": [
       "<IPython.core.display.HTML object>"
      ]
     },
     "metadata": {},
     "output_type": "display_data"
    }
   ],
   "source": [
    "from IPython.display import display,HTML,clear_output\n",
    "display(HTML(str(g)))\n",
    "# display(HTML(style_gen(fo_matrix())))"
   ]
  },
  {
   "cell_type": "code",
   "execution_count": 25,
   "id": "61d39046",
   "metadata": {},
   "outputs": [
    {
     "data": {
      "text/html": [
       "\n",
       "<style>\n",
       "  .main {\n",
       "    display: flex;\n",
       "    flex-direction: row;\n",
       "    max-width: 183px;\n",
       "    justify-content: flex-start;\n",
       "    align-items: flex-start;\n",
       "    padding-top: 2px;\n",
       "    padding-bottom: 2px;\n",
       "    padding-right: 2px;\n",
       "    padding-left: 2px;\n",
       "    background-color: rgba(27, 27, 27, 1);\n",
       "  }\n",
       "  .in {\n",
       "    display: flex;\n",
       "    flex-direction: column;\n",
       "    max-width: 31px;\n",
       "    justify-content: flex-start;\n",
       "    align-items: flex-start;\n",
       "    margin-left: 4px;\n",
       "  }\n",
       "  .di {\n",
       "    display: flex;\n",
       "    max-width: 31px;\n",
       "    height: 31px;\n",
       "    width: 31px;\n",
       "    margin-top: 4px;\n",
       "    border-radius: 3px;\n",
       "    background-color: rgba(29, 85, 227, 1);\n",
       "  }\n",
       "</style>\n"
      ],
      "text/plain": [
       "<IPython.core.display.HTML object>"
      ]
     },
     "metadata": {},
     "output_type": "display_data"
    }
   ],
   "source": [
    "display(HTML(style))"
   ]
  },
  {
   "cell_type": "code",
   "execution_count": null,
   "id": "2ddeed73",
   "metadata": {},
   "outputs": [],
   "source": []
  },
  {
   "cell_type": "code",
   "execution_count": null,
   "id": "65aeb3f6",
   "metadata": {},
   "outputs": [],
   "source": []
  },
  {
   "cell_type": "code",
   "execution_count": 26,
   "id": "8f8f0cef",
   "metadata": {},
   "outputs": [],
   "source": [
    "import asyncio\n",
    "def wait_for_change(widget, value):\n",
    "    future = asyncio.Future()\n",
    "    def getvalue(change):\n",
    "        # make the new value available\n",
    "        future.set_result(change.new)\n",
    "        widget.unobserve(getvalue, value)\n",
    "    widget.observe(getvalue, value)\n",
    "    return future"
   ]
  },
  {
   "cell_type": "code",
   "execution_count": 27,
   "id": "ab0fc7fe",
   "metadata": {},
   "outputs": [
    {
     "data": {
      "application/vnd.jupyter.widget-view+json": {
       "model_id": "755db262fe1640b092609b0aae5b0d2a",
       "version_major": 2,
       "version_minor": 0
      },
      "text/plain": [
       "IntSlider(value=0)"
      ]
     },
     "metadata": {},
     "output_type": "display_data"
    }
   ],
   "source": [
    "from ipywidgets import IntSlider, Output\n",
    "slider = IntSlider()\n",
    "# out = Output()\n",
    "\n",
    "async def f():\n",
    "    for i in range(10):\n",
    "#         out.append_stdout('did work ' + str(i) + '\\n')\n",
    "        x = await wait_for_change(slider, 'value')\n",
    "#         out.append_stdout('async function continued with value ' + str(x) + '\\n')\n",
    "# asyncio.ensure_future(f())\n",
    "\n",
    "slider"
   ]
  },
  {
   "cell_type": "code",
   "execution_count": 28,
   "id": "47125742",
   "metadata": {},
   "outputs": [],
   "source": [
    "sl=loop.create_task(f())"
   ]
  },
  {
   "cell_type": "code",
   "execution_count": 29,
   "id": "ae0b466e",
   "metadata": {},
   "outputs": [
    {
     "data": {
      "application/vnd.jupyter.widget-view+json": {
       "model_id": "755db262fe1640b092609b0aae5b0d2a",
       "version_major": 2,
       "version_minor": 0
      },
      "text/plain": [
       "IntSlider(value=0)"
      ]
     },
     "metadata": {},
     "output_type": "display_data"
    }
   ],
   "source": [
    "slider"
   ]
  },
  {
   "cell_type": "code",
   "execution_count": 30,
   "id": "af5dbbb3",
   "metadata": {},
   "outputs": [
    {
     "data": {
      "text/plain": [
       "True"
      ]
     },
     "execution_count": 30,
     "metadata": {},
     "output_type": "execute_result"
    }
   ],
   "source": [
    "sl.cancel()"
   ]
  },
  {
   "cell_type": "code",
   "execution_count": null,
   "id": "b427d0dd",
   "metadata": {},
   "outputs": [],
   "source": []
  },
  {
   "cell_type": "code",
   "execution_count": 31,
   "id": "4083f17a",
   "metadata": {},
   "outputs": [
    {
     "data": {
      "text/plain": [
       "0"
      ]
     },
     "execution_count": 31,
     "metadata": {},
     "output_type": "execute_result"
    }
   ],
   "source": [
    "slider.value"
   ]
  },
  {
   "cell_type": "code",
   "execution_count": 32,
   "id": "60103523",
   "metadata": {},
   "outputs": [
    {
     "data": {
      "text/plain": [
       "True"
      ]
     },
     "execution_count": 32,
     "metadata": {},
     "output_type": "execute_result"
    }
   ],
   "source": [
    "T.cancel()"
   ]
  },
  {
   "cell_type": "code",
   "execution_count": null,
   "id": "cb65c338",
   "metadata": {},
   "outputs": [],
   "source": []
  },
  {
   "cell_type": "code",
   "execution_count": null,
   "id": "bdb351b7",
   "metadata": {},
   "outputs": [],
   "source": []
  },
  {
   "cell_type": "code",
   "execution_count": 33,
   "id": "fbd719ed",
   "metadata": {},
   "outputs": [
    {
     "data": {
      "text/html": [
       "<div class=\"main\"><div class=\"in1 in\"><div class=\"di1 di\"></div><div class=\"di2 di\"></div><div class=\"di3 di\"></div><div class=\"di4 di\"></div><div class=\"di5 di\"></div></div><div class=\"in2 in\"><div class=\"di6 di\"></div><div class=\"di7 di\"></div><div class=\"di8 di\"></div><div class=\"di9 di\"></div><div class=\"di10 di\"></div></div><div class=\"in3 in\"><div class=\"di11 di\"></div><div class=\"di12 di\"></div><div class=\"di13 di\"></div><div class=\"di14 di\"></div><div class=\"di15 di\"></div></div><div class=\"in4 in\"><div class=\"di16 di\"></div><div class=\"di17 di\"></div><div class=\"di18 di\"></div><div class=\"di19 di\"></div><div class=\"di20 di\"></div></div><div class=\"in5 in\"><div class=\"di21 di\"></div><div class=\"di22 di\"></div><div class=\"di23 di\"></div><div class=\"di24 di\"></div><div class=\"di25 di\"></div></div></div>"
      ],
      "text/plain": [
       "<IPython.core.display.HTML object>"
      ]
     },
     "metadata": {},
     "output_type": "display_data"
    },
    {
     "data": {
      "text/html": [
       "\n",
       "<style>\n",
       "  .main {\n",
       "    display: flex;\n",
       "    flex-direction: row;\n",
       "    max-width: 183px;\n",
       "    justify-content: flex-start;\n",
       "    align-items: flex-start;\n",
       "    padding-top: 2px;\n",
       "    padding-bottom: 2px;\n",
       "    padding-right: 2px;\n",
       "    padding-left: 2px;\n",
       "    background-color: rgba(27, 27, 27, 1);\n",
       "  }\n",
       "  .in {\n",
       "    display: flex;\n",
       "    flex-direction: column;\n",
       "    max-width: 31px;\n",
       "    justify-content: flex-start;\n",
       "    align-items: flex-start;\n",
       "    margin-left: 4px;\n",
       "  }\n",
       "  .di {\n",
       "    display: flex;\n",
       "    max-width: 31px;\n",
       "    height: 31px;\n",
       "    width: 31px;\n",
       "    margin-top: 4px;\n",
       "    border-radius: 3px;\n",
       "    background-color: rgba(29, 85, 227, 1);\n",
       "  }\n",
       "</style>\n"
      ],
      "text/plain": [
       "<IPython.core.display.HTML object>"
      ]
     },
     "metadata": {},
     "output_type": "display_data"
    }
   ],
   "source": [
    "display(HTML(str(g)))\n",
    "display(HTML(style))"
   ]
  },
  {
   "cell_type": "code",
   "execution_count": 34,
   "id": "61191b61",
   "metadata": {},
   "outputs": [],
   "source": [
    "import ipywidgets"
   ]
  },
  {
   "cell_type": "code",
   "execution_count": 35,
   "id": "9cdf39b4",
   "metadata": {},
   "outputs": [],
   "source": [
    "button = ipywidgets.Button(description=\"Click Me!\")\n",
    "def on_c(p,state):\n",
    "    s.state+=1"
   ]
  },
  {
   "cell_type": "code",
   "execution_count": 36,
   "id": "33ccd505",
   "metadata": {},
   "outputs": [],
   "source": [
    "from functools import partial"
   ]
  },
  {
   "cell_type": "code",
   "execution_count": null,
   "id": "9da2717c",
   "metadata": {},
   "outputs": [],
   "source": []
  },
  {
   "cell_type": "code",
   "execution_count": 37,
   "id": "47e1fc9b",
   "metadata": {},
   "outputs": [],
   "source": [
    "s=StateKeeper()"
   ]
  },
  {
   "cell_type": "code",
   "execution_count": 38,
   "id": "dfecdc5e",
   "metadata": {},
   "outputs": [
    {
     "data": {
      "text/plain": [
       "0"
      ]
     },
     "execution_count": 38,
     "metadata": {},
     "output_type": "execute_result"
    }
   ],
   "source": [
    "s.state"
   ]
  },
  {
   "cell_type": "code",
   "execution_count": 39,
   "id": "4f11b5a6",
   "metadata": {},
   "outputs": [],
   "source": [
    "button.on_click(partial(on_c,state=s))"
   ]
  },
  {
   "cell_type": "code",
   "execution_count": 40,
   "id": "b1e2f46c",
   "metadata": {},
   "outputs": [
    {
     "data": {
      "application/vnd.jupyter.widget-view+json": {
       "model_id": "3250b506dc054169a7b85106675fde9f",
       "version_major": 2,
       "version_minor": 0
      },
      "text/plain": [
       "Button(description='Click Me!', style=ButtonStyle())"
      ]
     },
     "metadata": {},
     "output_type": "display_data"
    },
    {
     "data": {
      "text/plain": [
       "<DisplayHandle display_id=1d67ea36941338721c6960408fb77da1>"
      ]
     },
     "execution_count": 40,
     "metadata": {},
     "output_type": "execute_result"
    }
   ],
   "source": [
    "display(button,display_id=True)"
   ]
  },
  {
   "cell_type": "code",
   "execution_count": 43,
   "id": "d2b388ea",
   "metadata": {},
   "outputs": [
    {
     "data": {
      "text/html": [
       "<style>.di1 {background-color: rgba(128, 128, 128);}.di2 {background-color: rgba(128, 128, 128);}.di3 {background-color: rgba(128, 128, 128);}.di4 {background-color: rgba(128, 128, 128);}.di5 {background-color: rgba(128, 128, 128);}.di6 {background-color: rgba(160, 160, 160);}.di7 {background-color: rgba(160, 160, 160);}.di8 {background-color: rgba(160, 160, 160);}.di9 {background-color: rgba(160, 160, 160);}.di10 {background-color: rgba(160, 160, 160);}.di11 {background-color: rgba(192, 192, 192);}.di12 {background-color: rgba(192, 192, 192);}.di13 {background-color: rgba(192, 192, 192);}.di14 {background-color: rgba(192, 192, 192);}.di15 {background-color: rgba(192, 192, 192);}.di16 {background-color: rgba(224, 224, 224);}.di17 {background-color: rgba(224, 224, 224);}.di18 {background-color: rgba(224, 224, 224);}.di19 {background-color: rgba(224, 224, 224);}.di20 {background-color: rgba(224, 224, 224);}.di21 {background-color: rgba(256, 256, 256);}.di22 {background-color: rgba(256, 256, 256);}.di23 {background-color: rgba(256, 256, 256);}.di24 {background-color: rgba(256, 256, 256);}.di25 {background-color: rgba(256, 256, 256);}</style>"
      ],
      "text/plain": [
       "<IPython.core.display.HTML object>"
      ]
     },
     "metadata": {},
     "output_type": "display_data"
    }
   ],
   "source": [
    "T=loop.create_task(blink_style(s))"
   ]
  },
  {
   "cell_type": "code",
   "execution_count": 42,
   "id": "b1835b26",
   "metadata": {},
   "outputs": [
    {
     "data": {
      "text/plain": [
       "True"
      ]
     },
     "execution_count": 42,
     "metadata": {},
     "output_type": "execute_result"
    }
   ],
   "source": [
    "T.cancel()"
   ]
  },
  {
   "cell_type": "code",
   "execution_count": null,
   "id": "11e8370a",
   "metadata": {},
   "outputs": [],
   "source": []
  }
 ],
 "metadata": {
  "kernelspec": {
   "display_name": "Python 3 (ipykernel)",
   "language": "python",
   "name": "python3"
  },
  "language_info": {
   "codemirror_mode": {
    "name": "ipython",
    "version": 3
   },
   "file_extension": ".py",
   "mimetype": "text/x-python",
   "name": "python",
   "nbconvert_exporter": "python",
   "pygments_lexer": "ipython3",
   "version": "3.9.7"
  }
 },
 "nbformat": 4,
 "nbformat_minor": 5
}
