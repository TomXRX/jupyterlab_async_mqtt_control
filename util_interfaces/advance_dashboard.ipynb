{
 "cells": [
  {
   "cell_type": "code",
   "execution_count": 1,
   "id": "fed4e2a3",
   "metadata": {},
   "outputs": [
    {
     "name": "stdout",
     "output_type": "stream",
     "text": [
      "info\n",
      "        \n",
      "        Always be aware that this version of dashboard is instanced when defination.\n",
      "        Which means that there cannot be two dashboard in the same ipynb kernel.\n",
      "        \n",
      "        \n"
     ]
    }
   ],
   "source": [
    "%run buttons_text_dashboard.ipynb"
   ]
  },
  {
   "cell_type": "code",
   "execution_count": null,
   "id": "62eb07c3-c56c-4adb-9272-f9c353e53512",
   "metadata": {},
   "outputs": [],
   "source": []
  },
  {
   "cell_type": "code",
   "execution_count": 2,
   "id": "592861e3-75f3-48be-a9d6-b498da7b6b4d",
   "metadata": {},
   "outputs": [],
   "source": [
    "def button_widgets(task):\n",
    "    butt_1=ipywidgets.Button(description=\"is_running\",disabled=True)\n",
    "    butt_2=ipywidgets.Button(description=\"False\",)\n",
    "    # butt_2.on_click=task.state.find_func_by_name(\"loop_timer\")\n",
    "    task.start()\n",
    "    return (butt_1,butt_2)\n",
    "\n",
    "@add_to_state_button(s,button_widgets)\n",
    "async def buttoner(task,sleep_interval=0.1):\n",
    "    task.box.children=tuple(i for i in task.box.children if i.description not in [\"start\",\"stop\"])\n",
    "    \n",
    "    lt=task.state.find_func_by_name(\"loop_timer\")\n",
    "    view_button=[i for i in task.box.children if i.description == \"False\"][0]\n",
    "    while 1:\n",
    "        await asyncio.sleep(sleep_interval)\n",
    "        view_button.description=str(lt.is_running)\n",
    "    "
   ]
  },
  {
   "cell_type": "raw",
   "id": "1ca8e7fe-b803-486b-9f94-98cdf044ea18",
   "metadata": {},
   "source": [
    "buttoner(\"buttoner\")"
   ]
  },
  {
   "cell_type": "code",
   "execution_count": null,
   "id": "31bb8cc6",
   "metadata": {},
   "outputs": [],
   "source": []
  },
  {
   "cell_type": "raw",
   "id": "91166316-0b52-4205-93d3-eb3c5ba3862d",
   "metadata": {},
   "source": [
    "s.display()"
   ]
  },
  {
   "cell_type": "code",
   "execution_count": null,
   "id": "788f95ca-cecf-4083-9d1b-58f99abf2675",
   "metadata": {},
   "outputs": [],
   "source": []
  }
 ],
 "metadata": {
  "kernelspec": {
   "display_name": "Python 3 (ipykernel)",
   "language": "python",
   "name": "python3"
  },
  "language_info": {
   "codemirror_mode": {
    "name": "ipython",
    "version": 3
   },
   "file_extension": ".py",
   "mimetype": "text/x-python",
   "name": "python",
   "nbconvert_exporter": "python",
   "pygments_lexer": "ipython3",
   "version": "3.9.7"
  }
 },
 "nbformat": 4,
 "nbformat_minor": 5
}
