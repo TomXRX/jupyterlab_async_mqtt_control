{
 "cells": [
  {
   "cell_type": "raw",
   "id": "9a44754a-a5c4-4725-a8fc-fcea4f28460c",
   "metadata": {},
   "source": [
    "%run buttons_text_dashboard.ipynb"
   ]
  },
  {
   "cell_type": "code",
   "execution_count": 1,
   "id": "62eb07c3-c56c-4adb-9272-f9c353e53512",
   "metadata": {},
   "outputs": [
    {
     "name": "stdout",
     "output_type": "stream",
     "text": [
      "info\n",
      "        \n",
      "        Always be aware that this version of dashboard is instanced when defination.\n",
      "        Which means that there cannot be two dashboard in the same ipynb kernel.\n",
      "        \n",
      "        \n"
     ]
    }
   ],
   "source": [
    "%run advance_dashboard.py"
   ]
  },
  {
   "cell_type": "code",
   "execution_count": 2,
   "id": "592861e3-75f3-48be-a9d6-b498da7b6b4d",
   "metadata": {},
   "outputs": [],
   "source": [
    "def button_widgets(task):\n",
    "    butt_1=ipywidgets.Button(description=\"is_running\",disabled=True)\n",
    "    butt_2=ipywidgets.Button(description=\"False\",)\n",
    "    # butt_2.on_click=task.state.find_func_by_name(\"loop_timer\")\n",
    "    task.start()\n",
    "    return (butt_1,butt_2)\n",
    "\n",
    "@add_to_state_button(s,button_widgets)\n",
    "async def buttoner(task,sleep_interval=0.1):\n",
    "    task.box.children=tuple(i for i in task.box.children if i.description not in [\"start\",\"stop\"])\n",
    "    \n",
    "    lt=task.state.find_func_by_name(\"loop_timer\")\n",
    "    view_button=[i for i in task.box.children if i.description == \"False\"][0]\n",
    "    while 1:\n",
    "        await asyncio.sleep(sleep_interval)\n",
    "        view_button.description=str(lt.is_running)\n",
    "    "
   ]
  },
  {
   "cell_type": "raw",
   "id": "1ca8e7fe-b803-486b-9f94-98cdf044ea18",
   "metadata": {},
   "source": [
    "buttoner(\"buttoner\")"
   ]
  },
  {
   "cell_type": "code",
   "execution_count": 3,
   "id": "2bf7e42c-a458-4883-b2af-5bab8e675c87",
   "metadata": {},
   "outputs": [],
   "source": [
    "@TaskHandlerButtonAdvanced.add_to_state_button(s, text_widgets)\n",
    "async def loop_timer(task, sleep_interval=0.1, keep_len=10):\n",
    "    # the variable used is called \"loop_time\"\n",
    "\n",
    "    # TODO: better timing function to reduce execution time\n",
    "    from collections import deque\n",
    "    import time\n",
    "    timed_list = deque((), keep_len)\n",
    "\n",
    "    # state.loop_time=-1\n",
    "    # old version no load loop time:1.0171284675598145\n",
    "    # used \"asyncio.create_task(sync_value(s,t,\"loop_time\"))\" at outside\n",
    "\n",
    "    # new version no load loop time:1.0043690204620361\n",
    "    text_time = task.widgets[0]\n",
    "\n",
    "    for _ in range(keep_len):\n",
    "        await asyncio.sleep(sleep_interval)\n",
    "        timed_list.append(time.time())\n",
    "\n",
    "    while 1:\n",
    "        await asyncio.sleep(sleep_interval)\n",
    "        t = time.time()\n",
    "        text_time.value = t - timed_list.popleft()\n",
    "        timed_list.append(t)\n"
   ]
  },
  {
   "cell_type": "code",
   "execution_count": 4,
   "id": "31bb8cc6",
   "metadata": {},
   "outputs": [],
   "source": [
    "loop_timer(\"loop_timer\")"
   ]
  },
  {
   "cell_type": "code",
   "execution_count": 5,
   "id": "fa5c0e1b-1a27-4a2b-b33c-a8699e7bc084",
   "metadata": {},
   "outputs": [
    {
     "data": {
      "application/vnd.jupyter.widget-view+json": {
       "model_id": "29cbefea5fa84c4ebe323d70def414dd",
       "version_major": 2,
       "version_minor": 0
      },
      "text/plain": [
       "Box(children=(StateButton(description='loop_timer', layout=Layout(height='30px'), style=ButtonStyle(button_col…"
      ]
     },
     "metadata": {},
     "output_type": "display_data"
    }
   ],
   "source": [
    "s.display()"
   ]
  },
  {
   "cell_type": "code",
   "execution_count": null,
   "id": "1346dcc2-4949-4dc3-bc97-469cd11e76d6",
   "metadata": {},
   "outputs": [],
   "source": []
  }
 ],
 "metadata": {
  "kernelspec": {
   "display_name": "Python 3 (ipykernel)",
   "language": "python",
   "name": "python3"
  },
  "language_info": {
   "codemirror_mode": {
    "name": "ipython",
    "version": 3
   },
   "file_extension": ".py",
   "mimetype": "text/x-python",
   "name": "python",
   "nbconvert_exporter": "python",
   "pygments_lexer": "ipython3",
   "version": "3.9.7"
  }
 },
 "nbformat": 4,
 "nbformat_minor": 5
}
