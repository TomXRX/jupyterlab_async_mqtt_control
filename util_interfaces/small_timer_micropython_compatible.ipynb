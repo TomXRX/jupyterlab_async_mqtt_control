{
 "cells": [
  {
   "cell_type": "code",
   "execution_count": 1,
   "id": "93714a34",
   "metadata": {},
   "outputs": [],
   "source": [
    "import asyncio"
   ]
  },
  {
   "cell_type": "code",
   "execution_count": 2,
   "id": "3de6d5b4",
   "metadata": {},
   "outputs": [],
   "source": [
    "#性能监视器？"
   ]
  },
  {
   "cell_type": "code",
   "execution_count": 3,
   "id": "a6fd78c1",
   "metadata": {},
   "outputs": [],
   "source": [
    "class StateKeeper:pass\n",
    "s=StateKeeper()\n"
   ]
  },
  {
   "cell_type": "code",
   "execution_count": null,
   "id": "82328963",
   "metadata": {},
   "outputs": [],
   "source": []
  },
  {
   "cell_type": "code",
   "execution_count": null,
   "id": "f8219fc7",
   "metadata": {},
   "outputs": [],
   "source": []
  },
  {
   "cell_type": "code",
   "execution_count": 4,
   "id": "397fc6ab",
   "metadata": {},
   "outputs": [],
   "source": [
    "async def loop_timer(state,sleep_interval=0.1,keep_len=10):\n",
    "    #TODO: better timing function to reduce execution time\n",
    "    from collections import deque\n",
    "    import time\n",
    "    timed_list=deque((),keep_len)\n",
    "\n",
    "    state.loop_time=-1\n",
    "    \n",
    "    for _ in range(keep_len):\n",
    "        await asyncio.sleep(sleep_interval)\n",
    "        timed_list.append(time.time())\n",
    "        \n",
    "    while 1:\n",
    "        await asyncio.sleep(sleep_interval)\n",
    "        t=time.time()\n",
    "        state.loop_time=t-timed_list.popleft()\n",
    "        timed_list.append(t)\n",
    "        \n",
    "    \n",
    "T=asyncio.create_task(loop_timer(s))"
   ]
  },
  {
   "cell_type": "code",
   "execution_count": null,
   "id": "a6e122d6",
   "metadata": {},
   "outputs": [],
   "source": []
  },
  {
   "cell_type": "code",
   "execution_count": null,
   "id": "fe7db638",
   "metadata": {},
   "outputs": [],
   "source": []
  },
  {
   "cell_type": "code",
   "execution_count": 5,
   "id": "cc97f8de",
   "metadata": {},
   "outputs": [],
   "source": []
  },
  {
   "cell_type": "code",
   "execution_count": 6,
   "id": "3a68eb35",
   "metadata": {},
   "outputs": [
    {
     "ename": "SyntaxError",
     "evalue": "'break' outside loop (668683560.py, line 1)",
     "output_type": "error",
     "traceback": [
      "\u001b[0;36m  File \u001b[0;32m\"/tmp/ipykernel_1232/668683560.py\"\u001b[0;36m, line \u001b[0;32m1\u001b[0m\n\u001b[0;31m    break\u001b[0m\n\u001b[0m    ^\u001b[0m\n\u001b[0;31mSyntaxError\u001b[0m\u001b[0;31m:\u001b[0m 'break' outside loop\n"
     ]
    }
   ],
   "source": [
    "break"
   ]
  },
  {
   "cell_type": "code",
   "execution_count": null,
   "id": "7dc40ddd",
   "metadata": {},
   "outputs": [],
   "source": []
  },
  {
   "cell_type": "code",
   "execution_count": 17,
   "id": "07b92a1e",
   "metadata": {},
   "outputs": [],
   "source": [
    "try:T.result()\n",
    "except asyncio.CancelledError:pass"
   ]
  },
  {
   "cell_type": "code",
   "execution_count": null,
   "id": "93ffea51",
   "metadata": {},
   "outputs": [],
   "source": []
  },
  {
   "cell_type": "code",
   "execution_count": null,
   "id": "dc6ec5c1",
   "metadata": {},
   "outputs": [],
   "source": [
    "s.loop_time"
   ]
  },
  {
   "cell_type": "code",
   "execution_count": 18,
   "id": "03664587",
   "metadata": {},
   "outputs": [
    {
     "data": {
      "text/plain": [
       "<_UnixSelectorEventLoop running=True closed=False debug=False>"
      ]
     },
     "execution_count": 18,
     "metadata": {},
     "output_type": "execute_result"
    }
   ],
   "source": [
    "T.get_loop()"
   ]
  },
  {
   "cell_type": "code",
   "execution_count": null,
   "id": "49df16d6",
   "metadata": {},
   "outputs": [],
   "source": []
  },
  {
   "cell_type": "code",
   "execution_count": null,
   "id": "dc582de2",
   "metadata": {},
   "outputs": [],
   "source": [
    "T.cancel()"
   ]
  },
  {
   "cell_type": "code",
   "execution_count": 12,
   "id": "e6fda62b",
   "metadata": {},
   "outputs": [
    {
     "data": {
      "text/plain": [
       "True"
      ]
     },
     "execution_count": 12,
     "metadata": {},
     "output_type": "execute_result"
    }
   ],
   "source": [
    "T.done()"
   ]
  },
  {
   "cell_type": "code",
   "execution_count": null,
   "id": "95d9c21f",
   "metadata": {},
   "outputs": [],
   "source": []
  }
 ],
 "metadata": {
  "kernelspec": {
   "display_name": "Python 3 (ipykernel)",
   "language": "python",
   "name": "python3"
  },
  "language_info": {
   "codemirror_mode": {
    "name": "ipython",
    "version": 3
   },
   "file_extension": ".py",
   "mimetype": "text/x-python",
   "name": "python",
   "nbconvert_exporter": "python",
   "pygments_lexer": "ipython3",
   "version": "3.9.7"
  }
 },
 "nbformat": 4,
 "nbformat_minor": 5
}
