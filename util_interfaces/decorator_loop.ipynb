{
 "cells": [
  {
   "cell_type": "code",
   "execution_count": 1,
   "id": "7c512407-b5ca-4d4d-9c60-265dcb8be026",
   "metadata": {},
   "outputs": [],
   "source": [
    "from functools import wraps"
   ]
  },
  {
   "cell_type": "code",
   "execution_count": 2,
   "id": "11f5864f-de88-4696-bf1a-9ac23eaf75cf",
   "metadata": {},
   "outputs": [],
   "source": [
    "import asyncio"
   ]
  },
  {
   "cell_type": "code",
   "execution_count": 3,
   "id": "9d1dccfa-7f68-4486-8da8-102d0e4de0ae",
   "metadata": {},
   "outputs": [],
   "source": [
    "def loop(t=0.001):\n",
    "    def wrapper(func):\n",
    "        @wraps(func)\n",
    "        async def wrapped(*args, **kwargs):\n",
    "            import asyncio\n",
    "            while 1:\n",
    "                await asyncio.sleep(t)\n",
    "                ret=await func(*args, **kwargs)\n",
    "                if ret:break\n",
    "            return\n",
    "        return wrapped\n",
    "    return wrapper"
   ]
  },
  {
   "cell_type": "code",
   "execution_count": 19,
   "id": "b8ed3b46-8631-48ce-b9da-15d40d5582b2",
   "metadata": {},
   "outputs": [],
   "source": [
    "import asyncio\n",
    "def try_loop(t=0.001,skip_errors=(),jump_errors=(asyncio.CancelledError,KeyboardInterrupt)):\n",
    "    def wrapper(func):\n",
    "        @wraps(func)\n",
    "        async def wrapped(*args, **kwargs):\n",
    "            while 1:\n",
    "                await asyncio.sleep(t)\n",
    "                try:\n",
    "                    ret=await func(*args, **kwargs)\n",
    "                    if ret:break\n",
    "                except tuple(jump_errors):\n",
    "                    return\n",
    "                except tuple(skip_errors):\n",
    "                    pass\n",
    "                except Exception as e:\n",
    "                    print(\"\")\n",
    "                    print(e)\n",
    "                    print(\"continue running\")\n",
    "            return\n",
    "        return wrapped\n",
    "    return wrapper"
   ]
  }
 ],
 "metadata": {
  "kernelspec": {
   "display_name": "Python 3 (ipykernel)",
   "language": "python",
   "name": "python3"
  },
  "language_info": {
   "codemirror_mode": {
    "name": "ipython",
    "version": 3
   },
   "file_extension": ".py",
   "mimetype": "text/x-python",
   "name": "python",
   "nbconvert_exporter": "python",
   "pygments_lexer": "ipython3",
   "version": "3.9.7"
  }
 },
 "nbformat": 4,
 "nbformat_minor": 5
}
