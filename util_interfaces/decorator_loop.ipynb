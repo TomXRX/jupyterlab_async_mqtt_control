{
 "cells": [
  {
   "cell_type": "code",
   "execution_count": 1,
   "id": "0bf4ff0b-8ca5-473a-b338-14438d668e3d",
   "metadata": {},
   "outputs": [],
   "source": [
    "from functools import wraps\n",
    "import asyncio"
   ]
  },
  {
   "cell_type": "code",
   "execution_count": 1,
   "id": "33762936-d139-4cb5-830e-0218d9101ca6",
   "metadata": {},
   "outputs": [],
   "source": [
    "def loop(t=0.001):\n",
    "    def wrapper(func):\n",
    "        @wraps(func)\n",
    "        async def wrapped(*args, **kwargs):\n",
    "            import asyncio\n",
    "            while 1:\n",
    "                await asyncio.sleep(t)\n",
    "                ret=await func(*args, **kwargs)\n",
    "                if ret:break\n",
    "            return\n",
    "        return wrapped\n",
    "    return wrapper\n",
    "\n",
    "import asyncio\n",
    "def try_loop(t=0.001,skip_errors=(),jump_errors=(asyncio.CancelledError,KeyboardInterrupt)):\n",
    "    def wrapper(func):\n",
    "        @wraps(func)\n",
    "        async def wrapped(*args, **kwargs):\n",
    "            while 1:\n",
    "                await asyncio.sleep(t)\n",
    "                try:\n",
    "                    ret=await func(*args, **kwargs)\n",
    "                    if ret:break\n",
    "                except tuple(jump_errors):\n",
    "                    return\n",
    "                except tuple(skip_errors):\n",
    "                    pass\n",
    "                except Exception as e:\n",
    "                    print(\"\")\n",
    "                    print(e)\n",
    "                    print(\"continue running\")\n",
    "            return\n",
    "        return wrapped\n",
    "    return wrapper"
   ]
  }
 ],
 "metadata": {
  "kernelspec": {
   "display_name": "Python 3 (ipykernel)",
   "language": "python",
   "name": "python3"
  },
  "language_info": {
   "codemirror_mode": {
    "name": "ipython",
    "version": 3
   },
   "file_extension": ".py",
   "mimetype": "text/x-python",
   "name": "python",
   "nbconvert_exporter": "python",
   "pygments_lexer": "ipython3",
   "version": "3.9.7"
  }
 },
 "nbformat": 4,
 "nbformat_minor": 5
}
