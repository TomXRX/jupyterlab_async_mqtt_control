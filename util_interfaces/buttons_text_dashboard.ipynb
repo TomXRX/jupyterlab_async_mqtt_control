{
 "cells": [
  {
   "cell_type": "code",
   "execution_count": 1,
   "id": "72554921",
   "metadata": {},
   "outputs": [],
   "source": [
    "import asyncio"
   ]
  },
  {
   "cell_type": "code",
   "execution_count": 2,
   "id": "11ab4e6f",
   "metadata": {},
   "outputs": [],
   "source": [
    "\"\"\"\n",
    "先用最简单的方式实现：\n",
    "    thread的启停（使用state?保存函数名称，在外部。\n",
    "    timer的加入\n",
    "    button sync\n",
    "    list button\n",
    "\"\"\"\n",
    "None"
   ]
  },
  {
   "cell_type": "code",
   "execution_count": 3,
   "id": "15de60c5",
   "metadata": {},
   "outputs": [],
   "source": [
    "class State:\n",
    "    funclist=[]    #for TaskHandler\n"
   ]
  },
  {
   "cell_type": "code",
   "execution_count": 4,
   "id": "3220540c",
   "metadata": {},
   "outputs": [],
   "source": [
    "class TaskHandler:\n",
    "    def __init__(self,func,*args,**kwargs):\n",
    "        self.func=func\n",
    "        self.task=None\n",
    "        self.args=args\n",
    "        self.kwargs=kwargs\n",
    "    def start(self,l=None):\n",
    "        if not self.is_running:\n",
    "            self.task=asyncio.create_task(self.func(*self.args,**self.kwargs))\n",
    "    \n",
    "    error=None\n",
    "    @property\n",
    "    def is_running(self):\n",
    "        if self.task is None:return False\n",
    "        if not self.task.done():return True\n",
    "        self.end()\n",
    "        del self.task\n",
    "        self.task=None\n",
    "        \n",
    "        \n",
    "    \n",
    "    def cancel(self):\n",
    "        if not self.is_running:return\n",
    "        self.task.cancel()\n",
    "        \n",
    "            \n",
    "    def stop(self,l=None):\n",
    "        self.cancel()\n",
    "        \n",
    "    def end(self):\n",
    "        try:self.task.result()\n",
    "        except asyncio.CancelledError:pass\n",
    "        except asyncio.InvalidStateError:print(\"result not good\")\n",
    "        except Exception as e:self.error=e\n",
    "\n",
    "    name=\"\"\n",
    "    def __str__(self):\n",
    "        return self.name"
   ]
  },
  {
   "cell_type": "code",
   "execution_count": 5,
   "id": "c7843e48",
   "metadata": {},
   "outputs": [],
   "source": [
    "from functools import wraps\n",
    "def add_to_state(state):\n",
    "    def wrapper(func):\n",
    "        @wraps(func)\n",
    "        def wrapped(*args, **kwargs):\n",
    "            state.funclist.append(TaskHandler(func,*args, **kwargs))\n",
    "            return\n",
    "        return wrapped\n",
    "    return wrapper"
   ]
  },
  {
   "cell_type": "code",
   "execution_count": null,
   "id": "dbd6abae",
   "metadata": {},
   "outputs": [],
   "source": []
  },
  {
   "cell_type": "code",
   "execution_count": 6,
   "id": "9f6333fa-899c-4dde-9b26-5ef868646ad1",
   "metadata": {},
   "outputs": [
    {
     "name": "stdout",
     "output_type": "stream",
     "text": [
      "info\n",
      "        \n",
      "        Always be aware that this version of dashboard is instanced when defination.\n",
      "        Which means that there cannot be two dashboard in the same ipynb kernel.\n",
      "        \n",
      "        \n"
     ]
    }
   ],
   "source": [
    "class StateT(State):\n",
    "    def __init__(self):\n",
    "        print(\"\"\"info\n",
    "        \n",
    "        Always be aware that this version of dashboard is instanced when defination.\n",
    "        Which means that there cannot be two dashboard in the same ipynb kernel.\n",
    "        \n",
    "        \"\"\")\n",
    "    def find_func_by_name(self,name):\n",
    "        for i in self.funclist:\n",
    "            if i.name==name:return i\n",
    "\n",
    "    def start_func(self):\n",
    "        ...\n",
    "    \n",
    "    def display(self):\n",
    "        for i in self.funclist:\n",
    "            i.display()\n",
    "\n",
    "\n",
    "s=StateT()"
   ]
  },
  {
   "cell_type": "code",
   "execution_count": null,
   "id": "8aa5cdc6",
   "metadata": {},
   "outputs": [],
   "source": []
  },
  {
   "cell_type": "code",
   "execution_count": 7,
   "id": "3aa0d79c",
   "metadata": {},
   "outputs": [],
   "source": [
    "import ipywidgets\n",
    "class TaskHandlerButton(TaskHandler):\n",
    "    def __init__(self,name,state,func,widgets,*args,**kwargs):\n",
    "        self.name=name\n",
    "        self.state=state        \n",
    "        \n",
    "        self.func=func\n",
    "        self.task=None\n",
    "        self.args=[self,*args]\n",
    "        self.kwargs=kwargs\n",
    "\n",
    "        self.widgets=widgets(self)\n",
    "        self.create_buttons(self.widgets)\n",
    "        \n",
    "    def change_name(self,name):\n",
    "        self.name=name\n",
    "        self.name_button.description=self.name\n",
    "    \n",
    "    @property\n",
    "    def default_layout(self):\n",
    "        return ipywidgets.Layout(width='auto', height='30px')\n",
    "    \n",
    "    def button(self,*args,**kwargs):\n",
    "        if \"layout\" not in kwargs:\n",
    "            kwargs[\"layout\"]=self.default_layout\n",
    "        return ipywidgets.Button(*args,**kwargs)\n",
    "    \n",
    "    def create_buttons(self,widgets):\n",
    "        self.name_button = self.button(description=self.name,disabled=True)\n",
    "        self.start_button = self.button(description=\"start\")\n",
    "        self.start_button.on_click(self.start)\n",
    "        self.stop_button = self.button(description=\"stop\")\n",
    "        self.stop_button.on_click(self.stop)\n",
    "        # self.box=ipywidgets.Box([self.start_button,self.stop_button])\n",
    "        self.box=ipywidgets.Box([self.name_button,self.start_button,self.stop_button,*widgets])\n",
    "        \n",
    "    def display(self):\n",
    "        display(self.box)\n",
    "\n",
    "def add_to_state_button(state,widgets):\n",
    "    def wrapper(func):\n",
    "        @wraps(func)\n",
    "        def wrapped(name,*args, **kwargs):\n",
    "            state.funclist.append(TaskHandlerButton(name,state,func,widgets,*args, **kwargs))\n",
    "            return\n",
    "        return wrapped\n",
    "    return wrapper"
   ]
  },
  {
   "cell_type": "code",
   "execution_count": null,
   "id": "0651e51d",
   "metadata": {},
   "outputs": [],
   "source": []
  },
  {
   "cell_type": "code",
   "execution_count": 8,
   "id": "89016b29",
   "metadata": {},
   "outputs": [],
   "source": [
    "async def sync_value(from_value,to_value,\n",
    "                     from_value_name=\"value\",to_value_name=\"value\",\n",
    "                     sync_time=0.01):\n",
    "    while 1:\n",
    "        await asyncio.sleep(sync_time)\n",
    "        if hasattr(to_value,to_value_name) and hasattr(from_value,from_value_name):break\n",
    "    while 1:\n",
    "        await asyncio.sleep(sync_time)\n",
    "        x=getattr(from_value,from_value_name)\n",
    "        if x==getattr(to_value,to_value_name):continue\n",
    "        setattr(to_value,to_value_name,x)\n",
    "\n"
   ]
  },
  {
   "cell_type": "code",
   "execution_count": null,
   "id": "fed4e2a3",
   "metadata": {},
   "outputs": [],
   "source": []
  },
  {
   "cell_type": "code",
   "execution_count": null,
   "id": "6eb4635a-83db-42a2-81de-fe4799fe7277",
   "metadata": {},
   "outputs": [],
   "source": []
  },
  {
   "cell_type": "code",
   "execution_count": 9,
   "id": "3fe419d0",
   "metadata": {},
   "outputs": [],
   "source": [
    "def text_widgets(task):\n",
    "    return (ipywidgets.BoundedFloatText(),)\n",
    "@add_to_state_button(s,text_widgets)\n",
    "async def loop_timer(task,sleep_interval=0.1,keep_len=10):\n",
    "    #the variable used is called \"loop_time\"\n",
    "    \n",
    "    #TODO: better timing function to reduce execution time\n",
    "    from collections import deque\n",
    "    import time\n",
    "    timed_list=deque((),keep_len)\n",
    "\n",
    "    #state.loop_time=-1\n",
    "    #old version no load loop time:1.0171284675598145\n",
    "    #used \"asyncio.create_task(sync_value(s,t,\"loop_time\"))\" at outside\n",
    "    \n",
    "    #new version no load loop time:1.0043690204620361\n",
    "    text_time=task.widgets[0]\n",
    "    \n",
    "    \n",
    "    for _ in range(keep_len):\n",
    "        await asyncio.sleep(sleep_interval)\n",
    "        timed_list.append(time.time())\n",
    "        \n",
    "    while 1:\n",
    "        await asyncio.sleep(sleep_interval)\n",
    "        t=time.time()\n",
    "        text_time.value=t-timed_list.popleft()\n",
    "        timed_list.append(t)\n",
    "        \n",
    "loop_timer(\"loop_timer\")"
   ]
  },
  {
   "cell_type": "code",
   "execution_count": null,
   "id": "fa20bd49-4214-4339-b3b1-865ab0ecb14d",
   "metadata": {},
   "outputs": [],
   "source": []
  },
  {
   "cell_type": "code",
   "execution_count": 10,
   "id": "3fc6751d-dbab-4987-9dc8-ad9f5fa3367c",
   "metadata": {},
   "outputs": [
    {
     "data": {
      "text/plain": [
       "[<__main__.TaskHandlerButton at 0x7f222c3db760>]"
      ]
     },
     "execution_count": 10,
     "metadata": {},
     "output_type": "execute_result"
    }
   ],
   "source": [
    "s.funclist"
   ]
  },
  {
   "cell_type": "raw",
   "id": "efe7c62c-33bd-451c-99b8-6af1ad39716d",
   "metadata": {},
   "source": [
    "s.display()"
   ]
  },
  {
   "cell_type": "code",
   "execution_count": 11,
   "id": "c2e32cf6",
   "metadata": {},
   "outputs": [
    {
     "data": {
      "text/plain": [
       "False"
      ]
     },
     "execution_count": 11,
     "metadata": {},
     "output_type": "execute_result"
    }
   ],
   "source": [
    "s.funclist[0].is_running"
   ]
  },
  {
   "cell_type": "code",
   "execution_count": 12,
   "id": "42a7daae",
   "metadata": {},
   "outputs": [],
   "source": [
    "s.funclist[0].task"
   ]
  },
  {
   "cell_type": "code",
   "execution_count": null,
   "id": "2f994247",
   "metadata": {},
   "outputs": [],
   "source": []
  }
 ],
 "metadata": {
  "kernelspec": {
   "display_name": "Python 3 (ipykernel)",
   "language": "python",
   "name": "python3"
  },
  "language_info": {
   "codemirror_mode": {
    "name": "ipython",
    "version": 3
   },
   "file_extension": ".py",
   "mimetype": "text/x-python",
   "name": "python",
   "nbconvert_exporter": "python",
   "pygments_lexer": "ipython3",
   "version": "3.9.7"
  }
 },
 "nbformat": 4,
 "nbformat_minor": 5
}
