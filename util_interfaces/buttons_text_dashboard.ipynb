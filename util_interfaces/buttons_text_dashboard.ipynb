{
 "cells": [
  {
   "cell_type": "code",
   "execution_count": 1,
   "id": "72554921",
   "metadata": {},
   "outputs": [],
   "source": [
    "import asyncio"
   ]
  },
  {
   "cell_type": "code",
   "execution_count": 2,
   "id": "11ab4e6f",
   "metadata": {},
   "outputs": [],
   "source": [
    "\"\"\"\n",
    "先用最简单的方式实现：\n",
    "    thread的启停（使用state?保存函数名称，在外部。\n",
    "    timer的加入\n",
    "    button sync\n",
    "    list button\n",
    "\"\"\"\n",
    "None"
   ]
  },
  {
   "cell_type": "code",
   "execution_count": 4,
   "id": "15de60c5",
   "metadata": {},
   "outputs": [],
   "source": [
    "class State:\n",
    "    funclist=[]    #for TaskHandler\n"
   ]
  },
  {
   "cell_type": "code",
   "execution_count": 5,
   "id": "3220540c",
   "metadata": {},
   "outputs": [],
   "source": [
    "class TaskHandler:\n",
    "    def __init__(self,func,*args,**kwargs):\n",
    "        self.func=func\n",
    "        self.task=None\n",
    "        self.args=args\n",
    "        self.kwargs=kwargs\n",
    "    def start(self,l=None):\n",
    "        if not self.is_running():\n",
    "            self.task=asyncio.create_task(self.func(*self.args,**self.kwargs))\n",
    "    \n",
    "    error=None\n",
    "    def is_running(self):\n",
    "        if self.task is None:return False\n",
    "        if not self.task.done():return True\n",
    "        self.end()\n",
    "        del self.task\n",
    "        self.task=None\n",
    "        \n",
    "        \n",
    "    \n",
    "    def cancel(self):\n",
    "        if not self.is_running():return\n",
    "        self.task.cancel()\n",
    "        \n",
    "            \n",
    "    def stop(self,l=None):\n",
    "        self.cancel()\n",
    "        \n",
    "    def end(self):\n",
    "        try:self.task.result()\n",
    "        except asyncio.CancelledError:pass\n",
    "        except asyncio.InvalidStateError:print(\"result not good\")\n",
    "        except Exception as e:self.error=e\n",
    "\n",
    "    name=\"\"\n",
    "    def __str__(self):\n",
    "        return self.name"
   ]
  },
  {
   "cell_type": "code",
   "execution_count": 6,
   "id": "c7843e48",
   "metadata": {},
   "outputs": [],
   "source": [
    "from functools import wraps\n",
    "\n",
    "def add_to_state(state):\n",
    "    def wrapper(func):\n",
    "        @wraps(func)\n",
    "        async def wrapped(*args, **kwargs):\n",
    "            state.funclist.append(func(*args, **kwargs))\n",
    "            return await func(*args, **kwargs)\n",
    "        return wrapped\n",
    "    return wrapper\n",
    "def add_to_state(state):\n",
    "    def wrapper(func):\n",
    "        @wraps(func)\n",
    "        def wrapped(*args, **kwargs):\n",
    "            state.funclist.append(TaskHandler(func,*args, **kwargs))\n",
    "            return\n",
    "        return wrapped\n",
    "    return wrapper"
   ]
  },
  {
   "cell_type": "code",
   "execution_count": null,
   "id": "dbd6abae",
   "metadata": {},
   "outputs": [],
   "source": []
  },
  {
   "cell_type": "code",
   "execution_count": 7,
   "id": "7438b6e5",
   "metadata": {},
   "outputs": [],
   "source": [
    "class StateT(State):\n",
    "    def find_func_by_name():\n",
    "#         for i in \n",
    "        ...\n",
    "    def start_func():\n",
    "        ...\n",
    "\n",
    "\n",
    "s=StateT()"
   ]
  },
  {
   "cell_type": "code",
   "execution_count": null,
   "id": "8aa5cdc6",
   "metadata": {},
   "outputs": [],
   "source": []
  },
  {
   "cell_type": "code",
   "execution_count": 8,
   "id": "3aa0d79c",
   "metadata": {},
   "outputs": [],
   "source": [
    "import ipywidgets\n",
    "class TaskHandlerButton(TaskHandler):\n",
    "    def __init__(self,func,*args,**kwargs):\n",
    "        self.func=func\n",
    "        self.task=None\n",
    "        self.args=args\n",
    "        self.kwargs=kwargs\n",
    "        self.create_buttons()\n",
    "        \n",
    "    def create_buttons(self):\n",
    "        self.start_button = ipywidgets.Button(description=\"start\")\n",
    "        self.start_button.on_click(self.start)\n",
    "        self.stop_button = ipywidgets.Button(description=\"stop\")\n",
    "        self.stop_button.on_click(self.stop)\n",
    "        self.box=ipywidgets.Box([self.start_button,self.stop_button])\n",
    "        \n",
    "    def display(self):\n",
    "        display(self.box)\n",
    "\n",
    "def add_to_state_button(state):\n",
    "    def wrapper(func):\n",
    "        @wraps(func)\n",
    "        def wrapped(*args, **kwargs):\n",
    "            state.funclist.append(TaskHandlerButton(func,*args, **kwargs))\n",
    "            return\n",
    "        return wrapped\n",
    "    return wrapper"
   ]
  },
  {
   "cell_type": "code",
   "execution_count": null,
   "id": "0651e51d",
   "metadata": {},
   "outputs": [],
   "source": []
  },
  {
   "cell_type": "code",
   "execution_count": 9,
   "id": "89016b29",
   "metadata": {},
   "outputs": [],
   "source": [
    "async def sync_value(from_value,to_value,\n",
    "                     from_value_name=\"value\",to_value_name=\"value\",\n",
    "                     sync_time=0.01):\n",
    "    while 1:\n",
    "        await asyncio.sleep(sync_time)\n",
    "        if hasattr(to_value,to_value_name) and hasattr(from_value,from_value_name):break\n",
    "    while 1:\n",
    "        await asyncio.sleep(sync_time)\n",
    "        x=getattr(from_value,from_value_name)\n",
    "        if x==getattr(to_value,to_value_name):continue\n",
    "        setattr(to_value,to_value_name,x)\n",
    "\n"
   ]
  },
  {
   "cell_type": "code",
   "execution_count": null,
   "id": "fed4e2a3",
   "metadata": {},
   "outputs": [],
   "source": []
  },
  {
   "cell_type": "code",
   "execution_count": 10,
   "id": "3fe419d0",
   "metadata": {},
   "outputs": [],
   "source": [
    "@add_to_state_button(s)\n",
    "async def loop_timer(state,sleep_interval=0.1,keep_len=10):\n",
    "    #TODO: better timing function to reduce execution time\n",
    "    from collections import deque\n",
    "    import time\n",
    "    timed_list=deque((),keep_len)\n",
    "\n",
    "    state.loop_time=-1\n",
    "    \n",
    "    for _ in range(keep_len):\n",
    "        await asyncio.sleep(sleep_interval)\n",
    "        timed_list.append(time.time())\n",
    "        \n",
    "    while 1:\n",
    "        await asyncio.sleep(sleep_interval)\n",
    "        t=time.time()\n",
    "        state.loop_time=t-timed_list.popleft()\n",
    "        timed_list.append(t)\n",
    "loop_timer(s)"
   ]
  },
  {
   "cell_type": "code",
   "execution_count": null,
   "id": "31bb8cc6",
   "metadata": {},
   "outputs": [],
   "source": []
  },
  {
   "cell_type": "code",
   "execution_count": 11,
   "id": "1515dfe9",
   "metadata": {},
   "outputs": [
    {
     "data": {
      "application/vnd.jupyter.widget-view+json": {
       "model_id": "f0d6250219d147809e5abc72869588e2",
       "version_major": 2,
       "version_minor": 0
      },
      "text/plain": [
       "BoundedFloatText(value=0.0)"
      ]
     },
     "metadata": {},
     "output_type": "display_data"
    }
   ],
   "source": [
    "t=ipywidgets.BoundedFloatText()\n",
    "thing1=asyncio.create_task(sync_value(s,t,\"loop_time\"))\n",
    "t"
   ]
  },
  {
   "cell_type": "code",
   "execution_count": 12,
   "id": "57701601",
   "metadata": {},
   "outputs": [],
   "source": [
    "t.value=1"
   ]
  },
  {
   "cell_type": "code",
   "execution_count": 13,
   "id": "785abce3",
   "metadata": {},
   "outputs": [
    {
     "data": {
      "text/plain": [
       "[<__main__.TaskHandlerButton at 0x7f49586dee20>]"
      ]
     },
     "execution_count": 13,
     "metadata": {},
     "output_type": "execute_result"
    }
   ],
   "source": [
    "s.funclist"
   ]
  },
  {
   "cell_type": "code",
   "execution_count": 14,
   "id": "48ac67e1",
   "metadata": {},
   "outputs": [],
   "source": [
    "go=s.funclist[0]"
   ]
  },
  {
   "cell_type": "code",
   "execution_count": 15,
   "id": "38d460f1",
   "metadata": {},
   "outputs": [
    {
     "data": {
      "application/vnd.jupyter.widget-view+json": {
       "model_id": "d14bc0f17d414b98b3e5d1c3348d4537",
       "version_major": 2,
       "version_minor": 0
      },
      "text/plain": [
       "Box(children=(Button(description='start', style=ButtonStyle()), Button(description='stop', style=ButtonStyle()…"
      ]
     },
     "metadata": {},
     "output_type": "display_data"
    }
   ],
   "source": [
    "go.display()"
   ]
  },
  {
   "cell_type": "code",
   "execution_count": null,
   "id": "0e6ae3fa",
   "metadata": {},
   "outputs": [],
   "source": []
  },
  {
   "cell_type": "code",
   "execution_count": null,
   "id": "b10c2d33",
   "metadata": {},
   "outputs": [],
   "source": []
  },
  {
   "cell_type": "code",
   "execution_count": null,
   "id": "4d9b0e6f",
   "metadata": {},
   "outputs": [],
   "source": []
  },
  {
   "cell_type": "code",
   "execution_count": 16,
   "id": "c2e32cf6",
   "metadata": {},
   "outputs": [
    {
     "data": {
      "text/plain": [
       "False"
      ]
     },
     "execution_count": 16,
     "metadata": {},
     "output_type": "execute_result"
    }
   ],
   "source": [
    "go.is_running()"
   ]
  },
  {
   "cell_type": "code",
   "execution_count": 17,
   "id": "42a7daae",
   "metadata": {},
   "outputs": [],
   "source": [
    "go.task"
   ]
  },
  {
   "cell_type": "code",
   "execution_count": 18,
   "id": "cb58cd3b",
   "metadata": {},
   "outputs": [
    {
     "ename": "AttributeError",
     "evalue": "'NoneType' object has no attribute 'result'",
     "output_type": "error",
     "traceback": [
      "\u001b[0;31m---------------------------------------------------------------------------\u001b[0m",
      "\u001b[0;31mAttributeError\u001b[0m                            Traceback (most recent call last)",
      "\u001b[0;32m/tmp/ipykernel_2000/131205529.py\u001b[0m in \u001b[0;36m<module>\u001b[0;34m\u001b[0m\n\u001b[0;32m----> 1\u001b[0;31m \u001b[0mgo\u001b[0m\u001b[0;34m.\u001b[0m\u001b[0mtask\u001b[0m\u001b[0;34m.\u001b[0m\u001b[0mresult\u001b[0m\u001b[0;34m\u001b[0m\u001b[0;34m\u001b[0m\u001b[0m\n\u001b[0m",
      "\u001b[0;31mAttributeError\u001b[0m: 'NoneType' object has no attribute 'result'"
     ]
    }
   ],
   "source": [
    "go.task.result"
   ]
  },
  {
   "cell_type": "code",
   "execution_count": null,
   "id": "6739c2e0",
   "metadata": {},
   "outputs": [],
   "source": []
  },
  {
   "cell_type": "code",
   "execution_count": null,
   "id": "cbc0ec79",
   "metadata": {},
   "outputs": [],
   "source": []
  },
  {
   "cell_type": "code",
   "execution_count": null,
   "id": "1d95eb0a",
   "metadata": {},
   "outputs": [],
   "source": [
    "go.func"
   ]
  },
  {
   "cell_type": "code",
   "execution_count": null,
   "id": "3ec98995",
   "metadata": {},
   "outputs": [],
   "source": [
    "break"
   ]
  },
  {
   "cell_type": "code",
   "execution_count": null,
   "id": "ef092a38",
   "metadata": {},
   "outputs": [],
   "source": [
    "asyncio.create_task(go.func)"
   ]
  },
  {
   "cell_type": "code",
   "execution_count": null,
   "id": "43d9fc49",
   "metadata": {},
   "outputs": [],
   "source": [
    "go.task=asyncio.create_task(go.func)"
   ]
  },
  {
   "cell_type": "code",
   "execution_count": null,
   "id": "0285b8f1",
   "metadata": {},
   "outputs": [],
   "source": [
    "go.task"
   ]
  },
  {
   "cell_type": "code",
   "execution_count": null,
   "id": "fc47e05a",
   "metadata": {},
   "outputs": [],
   "source": []
  },
  {
   "cell_type": "code",
   "execution_count": null,
   "id": "9136202c",
   "metadata": {},
   "outputs": [],
   "source": [
    "go.task.done()"
   ]
  },
  {
   "cell_type": "code",
   "execution_count": null,
   "id": "f08fea71",
   "metadata": {},
   "outputs": [],
   "source": [
    "go.error"
   ]
  },
  {
   "cell_type": "code",
   "execution_count": null,
   "id": "6bf4e655",
   "metadata": {},
   "outputs": [],
   "source": []
  },
  {
   "cell_type": "code",
   "execution_count": null,
   "id": "f4d515d5",
   "metadata": {},
   "outputs": [],
   "source": []
  },
  {
   "cell_type": "code",
   "execution_count": null,
   "id": "de42c669",
   "metadata": {},
   "outputs": [],
   "source": [
    "dir(ipywidgets)"
   ]
  },
  {
   "cell_type": "code",
   "execution_count": null,
   "id": "4a0773d8",
   "metadata": {},
   "outputs": [],
   "source": []
  },
  {
   "cell_type": "code",
   "execution_count": null,
   "id": "05cb8b36",
   "metadata": {},
   "outputs": [],
   "source": [
    "def cancel_from_funclist():\n",
    "    for i in asyncio.all_tasks():\n",
    "        "
   ]
  },
  {
   "cell_type": "code",
   "execution_count": null,
   "id": "2f994247",
   "metadata": {},
   "outputs": [],
   "source": []
  }
 ],
 "metadata": {
  "kernelspec": {
   "display_name": "Python 3 (ipykernel)",
   "language": "python",
   "name": "python3"
  },
  "language_info": {
   "codemirror_mode": {
    "name": "ipython",
    "version": 3
   },
   "file_extension": ".py",
   "mimetype": "text/x-python",
   "name": "python",
   "nbconvert_exporter": "python",
   "pygments_lexer": "ipython3",
   "version": "3.9.7"
  }
 },
 "nbformat": 4,
 "nbformat_minor": 5
}
