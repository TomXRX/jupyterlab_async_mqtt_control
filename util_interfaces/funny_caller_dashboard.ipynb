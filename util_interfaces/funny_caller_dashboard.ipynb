{
 "cells": [
  {
   "cell_type": "code",
   "execution_count": 1,
   "id": "962914c5-334f-413c-a8a4-43aab4f05b48",
   "metadata": {},
   "outputs": [
    {
     "name": "stdout",
     "output_type": "stream",
     "text": [
      "info\n",
      "        \n",
      "        Always be aware that this version of dashboard is instanced when defination.\n",
      "        Which means that there cannot be two dashboard in the same ipynb kernel.\n",
      "        \n",
      "        \n"
     ]
    }
   ],
   "source": [
    "%run advance_dashboard.ipynb"
   ]
  },
  {
   "cell_type": "code",
   "execution_count": 2,
   "id": "ef84fcee-92f1-4739-ac26-6fa6b8fb8030",
   "metadata": {},
   "outputs": [],
   "source": [
    "# TODO: not in the mood...so.\n",
    "# try to be funny next time."
   ]
  },
  {
   "cell_type": "code",
   "execution_count": 3,
   "id": "835a968a-0d41-4530-8ea0-c75f00b01a07",
   "metadata": {},
   "outputs": [],
   "source": [
    "def button_widgets(task):\n",
    "    butt_1=ipywidgets.Button(description=\"is_running\",disabled=True)\n",
    "    butt_2=ipywidgets.Button(description=\"False\",)\n",
    "    # butt_2.on_click=task.state.find_func_by_name(\"loop_timer\")\n",
    "    task.start()\n",
    "    return (butt_1,butt_2)\n",
    "\n",
    "@add_to_state_button(s,button_widgets)\n",
    "async def buttoner(task,sleep_interval=0.1):\n",
    "    task.box.children=tuple(i for i in task.box.children if i.description not in [\"start\",\"stop\"])\n",
    "    \n",
    "    lt=task.state.find_func_by_name(\"loop_timer\")\n",
    "    view_button=[i for i in task.box.children if i.description == \"False\"][0]\n",
    "    while 1:\n",
    "        await asyncio.sleep(sleep_interval)\n",
    "        view_button.description=str(lt.is_running)\n",
    "    \n",
    "        \n",
    "buttoner(\"buttoner\")"
   ]
  },
  {
   "cell_type": "code",
   "execution_count": 4,
   "id": "e59f8e53-14d1-48a5-90a2-07cd39ebf1c1",
   "metadata": {},
   "outputs": [
    {
     "data": {
      "application/vnd.jupyter.widget-view+json": {
       "model_id": "8f6f090cc43d426bbf4131c7387595d9",
       "version_major": 2,
       "version_minor": 0
      },
      "text/plain": [
       "Box(children=(Button(description='loop_timer', disabled=True, layout=Layout(height='30px', width='auto'), styl…"
      ]
     },
     "metadata": {},
     "output_type": "display_data"
    },
    {
     "data": {
      "application/vnd.jupyter.widget-view+json": {
       "model_id": "5d1ef1ee6c3e4b64bdd86f7684c8913d",
       "version_major": 2,
       "version_minor": 0
      },
      "text/plain": [
       "Box(children=(Button(description='buttoner', disabled=True, layout=Layout(height='30px', width='auto'), style=…"
      ]
     },
     "metadata": {},
     "output_type": "display_data"
    }
   ],
   "source": [
    "s.display()"
   ]
  }
 ],
 "metadata": {
  "kernelspec": {
   "display_name": "Python 3 (ipykernel)",
   "language": "python",
   "name": "python3"
  },
  "language_info": {
   "codemirror_mode": {
    "name": "ipython",
    "version": 3
   },
   "file_extension": ".py",
   "mimetype": "text/x-python",
   "name": "python",
   "nbconvert_exporter": "python",
   "pygments_lexer": "ipython3",
   "version": "3.9.7"
  }
 },
 "nbformat": 4,
 "nbformat_minor": 5
}
