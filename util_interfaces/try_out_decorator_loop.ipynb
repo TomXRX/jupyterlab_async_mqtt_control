{
 "cells": [
  {
   "cell_type": "raw",
   "id": "c01cae81-490b-4795-904f-11c251d23720",
   "metadata": {},
   "source": [
    "def add_to_state(state):\n",
    "    def wrapper(func):\n",
    "        @wraps(func)\n",
    "        async def wrapped(*args, **kwargs):\n",
    "            state.funclist.append(func(*args, **kwargs))\n",
    "            return await func(*args, **kwargs)\n",
    "        return wrapped\n",
    "    return wrapper"
   ]
  },
  {
   "cell_type": "code",
   "execution_count": 1,
   "id": "7c512407-b5ca-4d4d-9c60-265dcb8be026",
   "metadata": {},
   "outputs": [],
   "source": [
    "from functools import wraps"
   ]
  },
  {
   "cell_type": "code",
   "execution_count": 2,
   "id": "11f5864f-de88-4696-bf1a-9ac23eaf75cf",
   "metadata": {},
   "outputs": [],
   "source": [
    "import asyncio"
   ]
  },
  {
   "cell_type": "code",
   "execution_count": 3,
   "id": "9d1dccfa-7f68-4486-8da8-102d0e4de0ae",
   "metadata": {},
   "outputs": [],
   "source": [
    "def loop(t=0.001):\n",
    "    def wrapper(func):\n",
    "        @wraps(func)\n",
    "        async def wrapped(*args, **kwargs):\n",
    "            import asyncio\n",
    "            while 1:\n",
    "                await asyncio.sleep(t)\n",
    "                ret=await func(*args, **kwargs)\n",
    "                if ret:break\n",
    "            return\n",
    "        return wrapped\n",
    "    return wrapper"
   ]
  },
  {
   "cell_type": "code",
   "execution_count": 3,
   "id": "19d83e65-7fde-4bd6-94b0-1d4f98a3c7b2",
   "metadata": {},
   "outputs": [],
   "source": [
    "def watch_dog_loop(t=0.001):\n",
    "    #TODO:another watch_dog for this\n",
    "    def wrapper(func):\n",
    "        @wraps(func)\n",
    "        async def wrapped(*args, **kwargs):\n",
    "            import asyncio\n",
    "            while 1:\n",
    "                await asyncio.sleep(t)\n",
    "                ret=await func(*args, **kwargs)\n",
    "                if ret:break\n",
    "            return\n",
    "        return wrapped\n",
    "    return wrapper"
   ]
  },
  {
   "cell_type": "code",
   "execution_count": 19,
   "id": "b8ed3b46-8631-48ce-b9da-15d40d5582b2",
   "metadata": {},
   "outputs": [],
   "source": [
    "import asyncio\n",
    "def try_loop(t=0.001,skip_errors=(),jump_errors=(asyncio.CancelledError,KeyboardInterrupt)):\n",
    "    def wrapper(func):\n",
    "        @wraps(func)\n",
    "        async def wrapped(*args, **kwargs):\n",
    "            while 1:\n",
    "                await asyncio.sleep(t)\n",
    "                try:\n",
    "                    ret=await func(*args, **kwargs)\n",
    "                    if ret:break\n",
    "                except tuple(jump_errors):\n",
    "                    return\n",
    "                except tuple(skip_errors):\n",
    "                    pass\n",
    "                except Exception as e:\n",
    "                    print(\"\")\n",
    "                    print(e)\n",
    "                    print(\"continue running\")\n",
    "            return\n",
    "        return wrapped\n",
    "    return wrapper"
   ]
  },
  {
   "cell_type": "code",
   "execution_count": null,
   "id": "518e2a07-fa08-4ddc-839d-fb2151387150",
   "metadata": {},
   "outputs": [],
   "source": []
  },
  {
   "cell_type": "code",
   "execution_count": 21,
   "id": "959deedb-7c31-4d75-9233-d1e6a88c5f3a",
   "metadata": {},
   "outputs": [],
   "source": [
    "try:\n",
    "    raise KeyboardInterrupt\n",
    "except tuple([AssertionError,KeyboardInterrupt,]) as e:pass"
   ]
  },
  {
   "cell_type": "code",
   "execution_count": 33,
   "id": "14c8b8c0-a941-41d0-9718-601719aa88fe",
   "metadata": {},
   "outputs": [],
   "source": [
    "@loop(0.1)\n",
    "async def p():\n",
    "    print(\"h\",end=\"\")"
   ]
  },
  {
   "cell_type": "code",
   "execution_count": 39,
   "id": "ff78d9df-68df-4472-9afe-92e3985f3cf9",
   "metadata": {},
   "outputs": [
    {
     "name": "stdout",
     "output_type": "stream",
     "text": [
      "hobject NoneType can't be used in 'await' expression\n",
      "continue running\n",
      "hobject NoneType can't be used in 'await' expression\n",
      "continue running\n"
     ]
    },
    {
     "ename": "CancelledError",
     "evalue": "",
     "output_type": "error",
     "traceback": [
      "\u001b[0;31m---------------------------------------------------------------------------\u001b[0m",
      "\u001b[0;31mCancelledError\u001b[0m                            Traceback (most recent call last)",
      "\u001b[0;32m/tmp/ipykernel_559/103101121.py\u001b[0m in \u001b[0;36m<module>\u001b[0;34m\u001b[0m\n\u001b[1;32m      3\u001b[0m     \u001b[0mprint\u001b[0m\u001b[0;34m(\u001b[0m\u001b[0;34m\"h\"\u001b[0m\u001b[0;34m,\u001b[0m\u001b[0mend\u001b[0m\u001b[0;34m=\u001b[0m\u001b[0;34m\"\"\u001b[0m\u001b[0;34m)\u001b[0m\u001b[0;34m\u001b[0m\u001b[0;34m\u001b[0m\u001b[0m\n\u001b[1;32m      4\u001b[0m     \u001b[0;31m# 0/0\u001b[0m\u001b[0;34m\u001b[0m\u001b[0;34m\u001b[0m\u001b[0m\n\u001b[0;32m----> 5\u001b[0;31m \u001b[0;32mawait\u001b[0m \u001b[0mp\u001b[0m\u001b[0;34m(\u001b[0m\u001b[0;34m)\u001b[0m\u001b[0;34m\u001b[0m\u001b[0;34m\u001b[0m\u001b[0m\n\u001b[0m\u001b[1;32m      6\u001b[0m \u001b[0;31m#bad example\u001b[0m\u001b[0;34m\u001b[0m\u001b[0;34m\u001b[0m\u001b[0m\n",
      "\u001b[0;32m/tmp/ipykernel_559/863322773.py\u001b[0m in \u001b[0;36mwrapped\u001b[0;34m(*args, **kwargs)\u001b[0m\n\u001b[1;32m      5\u001b[0m         \u001b[0;32masync\u001b[0m \u001b[0;32mdef\u001b[0m \u001b[0mwrapped\u001b[0m\u001b[0;34m(\u001b[0m\u001b[0;34m*\u001b[0m\u001b[0margs\u001b[0m\u001b[0;34m,\u001b[0m \u001b[0;34m**\u001b[0m\u001b[0mkwargs\u001b[0m\u001b[0;34m)\u001b[0m\u001b[0;34m:\u001b[0m\u001b[0;34m\u001b[0m\u001b[0;34m\u001b[0m\u001b[0m\n\u001b[1;32m      6\u001b[0m             \u001b[0;32mwhile\u001b[0m \u001b[0;36m1\u001b[0m\u001b[0;34m:\u001b[0m\u001b[0;34m\u001b[0m\u001b[0;34m\u001b[0m\u001b[0m\n\u001b[0;32m----> 7\u001b[0;31m                 \u001b[0;32mawait\u001b[0m \u001b[0masyncio\u001b[0m\u001b[0;34m.\u001b[0m\u001b[0msleep\u001b[0m\u001b[0;34m(\u001b[0m\u001b[0mt\u001b[0m\u001b[0;34m)\u001b[0m\u001b[0;34m\u001b[0m\u001b[0;34m\u001b[0m\u001b[0m\n\u001b[0m\u001b[1;32m      8\u001b[0m                 \u001b[0;32mtry\u001b[0m\u001b[0;34m:\u001b[0m\u001b[0;34m\u001b[0m\u001b[0;34m\u001b[0m\u001b[0m\n\u001b[1;32m      9\u001b[0m                     \u001b[0mret\u001b[0m\u001b[0;34m=\u001b[0m\u001b[0;32mawait\u001b[0m \u001b[0mfunc\u001b[0m\u001b[0;34m(\u001b[0m\u001b[0;34m*\u001b[0m\u001b[0margs\u001b[0m\u001b[0;34m,\u001b[0m \u001b[0;34m**\u001b[0m\u001b[0mkwargs\u001b[0m\u001b[0;34m)\u001b[0m\u001b[0;34m\u001b[0m\u001b[0;34m\u001b[0m\u001b[0m\n",
      "\u001b[0;32m/opt/conda/lib/python3.9/asyncio/tasks.py\u001b[0m in \u001b[0;36msleep\u001b[0;34m(delay, result, loop)\u001b[0m\n\u001b[1;32m    653\u001b[0m                         future, result)\n\u001b[1;32m    654\u001b[0m     \u001b[0;32mtry\u001b[0m\u001b[0;34m:\u001b[0m\u001b[0;34m\u001b[0m\u001b[0;34m\u001b[0m\u001b[0m\n\u001b[0;32m--> 655\u001b[0;31m         \u001b[0;32mreturn\u001b[0m \u001b[0;32mawait\u001b[0m \u001b[0mfuture\u001b[0m\u001b[0;34m\u001b[0m\u001b[0;34m\u001b[0m\u001b[0m\n\u001b[0m\u001b[1;32m    656\u001b[0m     \u001b[0;32mfinally\u001b[0m\u001b[0;34m:\u001b[0m\u001b[0;34m\u001b[0m\u001b[0;34m\u001b[0m\u001b[0m\n\u001b[1;32m    657\u001b[0m         \u001b[0mh\u001b[0m\u001b[0;34m.\u001b[0m\u001b[0mcancel\u001b[0m\u001b[0;34m(\u001b[0m\u001b[0;34m)\u001b[0m\u001b[0;34m\u001b[0m\u001b[0;34m\u001b[0m\u001b[0m\n",
      "\u001b[0;31mCancelledError\u001b[0m: "
     ]
    }
   ],
   "source": [
    "@try_loop(0.1)\n",
    "def p():\n",
    "    print(\"h\",end=\"\")\n",
    "    # 0/0\n",
    "await p()\n",
    "#bad example"
   ]
  },
  {
   "cell_type": "code",
   "execution_count": 38,
   "id": "9efadf3a-a0bd-4d02-b8ab-1c72b5c459c3",
   "metadata": {},
   "outputs": [],
   "source": [
    "@try_loop(0.1)\n",
    "def p():\n",
    "    print(\"h\",end=\"\")\n",
    "    0/0\n",
    "await p()\n",
    "#CancelledErrorHappend on a high level"
   ]
  },
  {
   "cell_type": "code",
   "execution_count": null,
   "id": "4fdf15fe-6905-4eaa-92b3-181edd8a207f",
   "metadata": {},
   "outputs": [],
   "source": []
  },
  {
   "cell_type": "code",
   "execution_count": null,
   "id": "f57276bd-cb06-4332-9290-f26508f01bbd",
   "metadata": {},
   "outputs": [],
   "source": []
  },
  {
   "cell_type": "code",
   "execution_count": null,
   "id": "83ca0a4a-8683-4744-847f-16b72da14ed1",
   "metadata": {},
   "outputs": [],
   "source": []
  }
 ],
 "metadata": {
  "kernelspec": {
   "display_name": "Python 3 (ipykernel)",
   "language": "python",
   "name": "python3"
  },
  "language_info": {
   "codemirror_mode": {
    "name": "ipython",
    "version": 3
   },
   "file_extension": ".py",
   "mimetype": "text/x-python",
   "name": "python",
   "nbconvert_exporter": "python",
   "pygments_lexer": "ipython3",
   "version": "3.9.7"
  }
 },
 "nbformat": 4,
 "nbformat_minor": 5
}
