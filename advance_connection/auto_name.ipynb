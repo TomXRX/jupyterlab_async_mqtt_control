{
 "cells": [
  {
   "cell_type": "code",
   "execution_count": 7,
   "id": "ae380a08-76fc-4a88-91ac-ba9106e832a4",
   "metadata": {},
   "outputs": [],
   "source": [
    "#not random, just number sequence\n",
    "#1: request others name and record name (ask everyone?)\n",
    "#2: generate its own name, publish it to let others confirm there is no conflicts\n",
    "#3: one own channel is created, if no confilct, json format reading.\n",
    "#3: if conflict, random a number to wait on their \"own\" chanel, and claim it as its own. the other start from 1.\n",
    "#4: in their own channel, when other want to send some special message like raw data, a new channel is created.\n",
    "#4: may have two different channel to send and recieve data for a client. "
   ]
  },
  {
   "cell_type": "code",
   "execution_count": null,
   "id": "b22f4c66-eae2-4ca4-93d1-61bd8d0f9ede",
   "metadata": {},
   "outputs": [],
   "source": []
  },
  {
   "cell_type": "code",
   "execution_count": null,
   "id": "07be6ca3-2e74-4ea1-8e88-2c93e650b394",
   "metadata": {},
   "outputs": [],
   "source": [
    "%run ../util_interfaces/decorator_loop.ipynb"
   ]
  },
  {
   "cell_type": "code",
   "execution_count": null,
   "id": "94943758-d124-41d1-97ba-c968fd7e1bff",
   "metadata": {},
   "outputs": [],
   "source": []
  },
  {
   "cell_type": "code",
   "execution_count": 1,
   "id": "0e3954dd-1471-4442-ba0a-fa88dc48a53f",
   "metadata": {},
   "outputs": [],
   "source": [
    "%run util_py_2.ipynb"
   ]
  },
  {
   "cell_type": "code",
   "execution_count": 20,
   "id": "121befdc-575f-49d6-b6a1-9d2024911169",
   "metadata": {},
   "outputs": [],
   "source": [
    "from collections import defaultdict,deque\n",
    "import asyncio\n",
    "class ControlA(ControlAdvance):\n",
    "    def on_connect(self,client, userdata, flags, rc):\n",
    "        print(\"ControlA:Connected with result code \"+str(rc))\n",
    "        client.subscribe(\"control\")\n",
    "    \n",
    "    def pipeline_checker(self,topic):\n",
    "        #decrypted\n",
    "        #should let others give a callback to it then let it use caller when state updated.\n",
    "        #TODO:\n",
    "        #I mean, it's good to do, but writing this kind of function is a little bit mind blowing.\n",
    "        return self.pipeline.state_dict[topic]\n",
    "    \n",
    "    \n",
    "    @loop()\n",
    "    async def pipeline_caller(self):\n",
    "        if not self.new_message:return\n",
    "        self.new_message-=1\n",
    "        for key,item in self.pipeline.state_dict.items():\n",
    "            if len(item):\n",
    "                i=item.popleft()\n",
    "                ret=self.requests_all(key,i)\n",
    "                if ret is None:\n",
    "                    print(\"request not handled\")\n",
    "                    item.append(i)\n",
    "\n",
    "    def start(self):\n",
    "        import asyncio\n",
    "        # start\n",
    "        # self.pipeline_caller()\n",
    "                        \n",
    "    # def update(self):\n",
    "        # self.pipeline_caller()\n",
    "    \n",
    "    requests_func_list=list()\n",
    "    def requests_all(self,topic,payload):\n",
    "        for func in self.requests_func_list:\n",
    "            #(C,S,t,p)\n",
    "            ret=func(self,self.pipeline,topic,payload)\n",
    "            if ret is None:continue\n",
    "            return ret\n",
    "    \n",
    "    class Channel:\n",
    "        json=False\n",
    "        auto_define=True\n",
    "        sended=False\n",
    "        def set_json(self):\n",
    "            self.auto_define=False\n",
    "            self.json=True\n",
    "    \n",
    "    sended_warned=0\n",
    "    channels=defaultdict(Channel)\n",
    "    new_message=0\n",
    "    def on_message(self,client,userdata,msg):\n",
    "        \n",
    "        topic=msg.topic\n",
    "        payload=msg.payload\n",
    "\n",
    "        print(f\"Have a message that is ({topic},{payload})\")\n",
    "        if self.do_not_hear_itself_publish(topic,payload):return\n",
    "        print(\"is recieved\")\n",
    "        \n",
    "        channel=self.channels[topic]\n",
    "        if channel.auto_define and not self.sended_warned and not channel.sended:\n",
    "            print(\"impossible to auto_define without sending data first\")\n",
    "            self.sended_warned=1\n",
    "            \n",
    "        self.new_message+=1\n",
    "            \n",
    "        if channel.json:\n",
    "            import json\n",
    "            payload=json.loads(payload.decode())\n",
    "            return self.pipeline(topic,payload)\n",
    "        return self.pipeline(topic,payload)\n",
    "        \n",
    "    subscribed=list()\n",
    "    def subscribe(self,topic:str):\n",
    "        self.client.subscribe(topic)\n",
    "        return self.subscribed.append(topic)\n",
    "        \n",
    "    pop_next_recv=list()\n",
    "    def do_not_hear_itself_publish(self,topic,payload):\n",
    "        #I mean, if you subscribe to a channel contians itself.\n",
    "        #being able to send in that channel is hard.(without bringing a long self id)\n",
    "        tu=(topic,payload)\n",
    "        if not tu in self.pop_next_recv:return\n",
    "        #do not go through pipeline (state_saver). handle all by itself.\n",
    "        \n",
    "        self.pop_next_recv.remove(tu)\n",
    "        return True\n",
    "        \n",
    "        \n",
    "        \n",
    "    def publish(self,topic,payload):\n",
    "        def json_transform(payload):\n",
    "            import json\n",
    "            return json.dumps(payload).encode()\n",
    "        channel=self.channels[topic]\n",
    "        \n",
    "        if channel.auto_define and not channel.sended:\n",
    "            channel.json=not payload is bytes\n",
    "            \n",
    "        \n",
    "        if channel.json:\n",
    "            payload=json_transform(payload)\n",
    "        \n",
    "        if topic in self.subscribed:\n",
    "            self.pop_next_recv.append((topic,payload))\n",
    "        \n",
    "        self.client.publish(topic,payload)\n",
    "        \n",
    "        channel.sended=True\n",
    "        \n",
    "        "
   ]
  },
  {
   "cell_type": "code",
   "execution_count": 3,
   "id": "57575465-6cbd-41b2-b2b4-06c497ab81cf",
   "metadata": {},
   "outputs": [
    {
     "name": "stdout",
     "output_type": "stream",
     "text": [
      "ControlA:Connected with result code 0\n"
     ]
    }
   ],
   "source": [
    "C=ControlA()"
   ]
  },
  {
   "cell_type": "code",
   "execution_count": null,
   "id": "600a1b4c-e6e1-465b-92f2-e001f0e691c6",
   "metadata": {},
   "outputs": [],
   "source": []
  },
  {
   "cell_type": "code",
   "execution_count": 44,
   "id": "bfb75911-c525-410a-9fdb-b9bcd2036807",
   "metadata": {},
   "outputs": [
    {
     "data": {
      "text/plain": [
       "True"
      ]
     },
     "execution_count": 44,
     "metadata": {},
     "output_type": "execute_result"
    }
   ],
   "source": [
    "type(b\"\") is bytes"
   ]
  },
  {
   "cell_type": "code",
   "execution_count": null,
   "id": "60815596-464a-4097-8e90-d78d429ae5fb",
   "metadata": {},
   "outputs": [],
   "source": []
  },
  {
   "cell_type": "code",
   "execution_count": null,
   "id": "bae84d63-0825-4956-aa03-a332932cd476",
   "metadata": {},
   "outputs": [],
   "source": []
  },
  {
   "cell_type": "code",
   "execution_count": 7,
   "id": "525eafd2-f3ab-422f-b036-95195718c637",
   "metadata": {},
   "outputs": [],
   "source": [
    "def name_iterator(name_list):\n",
    "    for i in range(int(10e5)):\n",
    "        i=str(i)\n",
    "        if i not in name_list:\n",
    "            return i"
   ]
  },
  {
   "cell_type": "code",
   "execution_count": null,
   "id": "b3f6516e-0ace-4d1d-b4e8-4ddbd6aee4b1",
   "metadata": {},
   "outputs": [],
   "source": []
  },
  {
   "cell_type": "code",
   "execution_count": 54,
   "id": "5c4559df-1f99-4fd3-884d-feb608641965",
   "metadata": {},
   "outputs": [
    {
     "data": {
      "text/plain": [
       "{1, '1', 2, 3}"
      ]
     },
     "execution_count": 54,
     "metadata": {},
     "output_type": "execute_result"
    }
   ],
   "source": [
    "set([\"1\",1,\"1\",1,2,3])"
   ]
  },
  {
   "cell_type": "code",
   "execution_count": 36,
   "id": "9d81c33a-0353-48a6-b64a-aaf058400f4b",
   "metadata": {},
   "outputs": [
    {
     "data": {
      "text/plain": [
       "b'\\xf0\\x9f\\x8c\\xbb'"
      ]
     },
     "execution_count": 36,
     "metadata": {},
     "output_type": "execute_result"
    }
   ],
   "source": [
    "\"🌻\".encode()"
   ]
  },
  {
   "cell_type": "code",
   "execution_count": 41,
   "id": "8e0e9fc7-0667-4aad-8b68-49d8d58d99a7",
   "metadata": {},
   "outputs": [
    {
     "data": {
      "text/plain": [
       "1"
      ]
     },
     "execution_count": 41,
     "metadata": {},
     "output_type": "execute_result"
    }
   ],
   "source": [
    "import json\n",
    "json.loads(json.dumps(1))"
   ]
  },
  {
   "cell_type": "code",
   "execution_count": null,
   "id": "3f2d426e-62f0-4788-866b-09294ab369b5",
   "metadata": {},
   "outputs": [],
   "source": []
  },
  {
   "cell_type": "code",
   "execution_count": null,
   "id": "934cb256-5f95-480a-be27-845965d43562",
   "metadata": {},
   "outputs": [],
   "source": [
    "def names(C,S,topic,payload):\n",
    "    if not topic==\"requests_all\":return\n",
    "    if not payload==\"names\":return\n",
    "    C.publish(\"names\",list(S.names))\n",
    "    return True\n",
    "    \n",
    "C.requests_func_list.append(names)"
   ]
  },
  {
   "cell_type": "code",
   "execution_count": null,
   "id": "09f3ca68-3ab6-48ab-8951-2b5b70f0fabc",
   "metadata": {},
   "outputs": [],
   "source": []
  },
  {
   "cell_type": "code",
   "execution_count": 8,
   "id": "3299b7ba-30fa-44c9-bf13-1cfdc9139d1b",
   "metadata": {},
   "outputs": [],
   "source": [
    "import asyncio\n",
    "async def task_1(C,S):\n",
    "    #1: request others name and record name (ask everyone?)\n",
    "    C.subscribe(\"names\")\n",
    "    C.channels[\"names\"].set_json()\n",
    "    C.publish(\"requests_all\",\"names\")\n",
    "    # get_others requested name\n",
    "    await asyncio.sleep(0.1)\n",
    "    li=C.pipeline_checker(\"names\")\n",
    "    eli=[]\n",
    "    haved_len=0\n",
    "    for i in range(len(li)):\n",
    "        lii=li.pop()\n",
    "        eli.extend(lii)\n",
    "        if haved_len!=len(lii):\n",
    "            if haved_len==0:\n",
    "                haved_len=len(lii)\n",
    "            else:\n",
    "                print(\"not identical name list, should be error\")\n",
    "                print(lii,haved_len)\n",
    "                print(\"=\"*20)\n",
    "    S.names=set(eli)\n",
    "    return True\n",
    "    "
   ]
  },
  {
   "cell_type": "code",
   "execution_count": null,
   "id": "ba168dc5-787b-4302-aa42-13d70b20e9c1",
   "metadata": {},
   "outputs": [],
   "source": []
  },
  {
   "cell_type": "code",
   "execution_count": 51,
   "id": "6b499235-de53-4250-9a31-cfca04ad03b3",
   "metadata": {},
   "outputs": [
    {
     "data": {
      "text/plain": [
       "({1, 2, 3}, True)"
      ]
     },
     "execution_count": 51,
     "metadata": {},
     "output_type": "execute_result"
    }
   ],
   "source": [
    "s=set((1,2))\n",
    "s.add(3)\n",
    "s,3 in s"
   ]
  },
  {
   "cell_type": "code",
   "execution_count": null,
   "id": "7e1502c9-4c12-4b59-bfae-c478ef2940d6",
   "metadata": {},
   "outputs": [],
   "source": []
  },
  {
   "cell_type": "code",
   "execution_count": 45,
   "id": "6aa92507-e9fc-4c8f-beb9-b0cb53a259dd",
   "metadata": {},
   "outputs": [],
   "source": [
    "def record_names(C,S,topic,payload):\n",
    "    if not topic==\"name\":return\n",
    "    print(\"let's GO\")\n",
    "    name=payload\n",
    "    if name in S.names:\n",
    "        C.publish(S.name,\"name already taken\")\n",
    "        print(name)\n",
    "        if name == S.name:\n",
    "            C.publish(S.name,\"That Is My Name\")\n",
    "            print(\"my name run in to confict\")\n",
    "    else:S.names.add(name)\n",
    "    return True\n",
    "    \n",
    "C.requests_func_list.append(record_names)\n",
    "\n",
    "\n",
    "async def task_2(C,S):\n",
    "    import time\n",
    "    #2: generate its own name, publish it to let others confirm there is no conflicts\n",
    "    C.subscribe(\"requests_all\")\n",
    "    S.name=name_iterator(S.names)\n",
    "    S.name_time=time.time()\n",
    "    S.names.add(S.name)\n",
    "    \n",
    "    # C.publish(\"name\",S.name)\n",
    "    # C.subscribe(\"name\")\n",
    "    # not yet?\n",
    "\n",
    "    await asyncio.sleep(0.1)\n",
    "    \n",
    "    #3: one own channel is created, for reciving data.\n",
    "    C.publish(S.name,\"I should be first and only.\")\n",
    "    C.subscribe(S.name)\n",
    "    \n",
    "    await asyncio.sleep(0.1)\n",
    "    \n",
    "    return True"
   ]
  },
  {
   "cell_type": "code",
   "execution_count": null,
   "id": "e6a939ed-fbe3-4b7f-9bbf-5dacaaafe9a8",
   "metadata": {},
   "outputs": [],
   "source": []
  },
  {
   "cell_type": "code",
   "execution_count": 52,
   "id": "93940e07-2ef2-40c4-9d09-16ec0ef8664f",
   "metadata": {},
   "outputs": [
    {
     "data": {
      "text/plain": [
       "7"
      ]
     },
     "execution_count": 52,
     "metadata": {},
     "output_type": "execute_result"
    }
   ],
   "source": [
    "import random\n",
    "random.randint(1,10)"
   ]
  },
  {
   "cell_type": "code",
   "execution_count": null,
   "id": "0442b905-0ca4-45d3-86ce-6f28b7f5e608",
   "metadata": {},
   "outputs": [],
   "source": []
  },
  {
   "cell_type": "code",
   "execution_count": null,
   "id": "4a93c093-44af-4d15-9b72-c942e8a07bb5",
   "metadata": {},
   "outputs": [],
   "source": []
  },
  {
   "cell_type": "code",
   "execution_count": 45,
   "id": "8ca54c3e-f197-4531-8c80-eb114655a2a8",
   "metadata": {},
   "outputs": [],
   "source": [
    "def respond_names(C,S,topic,payload):\n",
    "    if not topic==S.name:return\n",
    "    name=payload\n",
    "    print(\"responding\")\n",
    "    if name in S.names:\n",
    "        C.publish(S.name,\"name already taken\")\n",
    "        print(name)\n",
    "        if name == S.name:\n",
    "            import time\n",
    "            C.publish(S.name,f\"That Is My Name for {time.time()-S.name_time} seconds\")\n",
    "            print(\"my name run in to confict\")\n",
    "    else:S.names.add(name)\n",
    "    return True\n",
    "    \n",
    "C.requests_func_list.append(respond_names)\n",
    "\n",
    "import asyncio\n",
    "async def task_3(C,S):\n",
    "    #3:  if confilct, random a number to wait on their \"own\" chanel, and claim it as its own. the other start from 1.\n",
    "    import random\n",
    "    for i in range(3):\n",
    "        await asyncio.sleep(random.randint(1,100)*0.001)\n",
    "        li=C.pipeline_checker(\"name\")\n",
    "        if not li:break\n",
    "        print(li)\n",
    "        print(\"TODOTODOTODO\")\n",
    "    \n",
    "    else:\n",
    "        print(\"bad_luck\")\n",
    "    \n",
    "    if li:\n",
    "        return False\n",
    "    \n",
    "    C.publish(\"name\",S.name)\n",
    "    C.subscribe(\"name\")\n",
    "    \n",
    "    await asyncio.sleep(0.1)\n",
    "    \n",
    "    #3: \n",
    "    C.publish(S.name,\"I should be first and only.\")\n",
    "    C.subscribe(S.name)\n",
    "    \n",
    "    await asyncio.sleep(0.1)\n",
    "    return True\n",
    "    \n",
    "    \n",
    "    \n",
    "    "
   ]
  },
  {
   "cell_type": "code",
   "execution_count": null,
   "id": "db33336c-e716-492d-a435-f0c68c00ced2",
   "metadata": {},
   "outputs": [],
   "source": []
  },
  {
   "cell_type": "code",
   "execution_count": 7,
   "id": "6db1941f-1cba-46f4-8d5f-f2ec59cba3ff",
   "metadata": {},
   "outputs": [],
   "source": [
    "\n",
    "#3: if conflict, random a number to wait on their \"own\" chanel, and claim it as its own. the other start from 1.\n"
   ]
  },
  {
   "cell_type": "code",
   "execution_count": 45,
   "id": "2f8253cd-d181-4104-94cf-55b68d16de73",
   "metadata": {
    "tags": []
   },
   "outputs": [],
   "source": [
    "def hihi(C,S,topic,payload):\n",
    "    print(\"hihi\",topic,payload)\n",
    "    return True\n",
    "C.pipeline.func_list=[hihi,]\n",
    "\n",
    "def recv_data(C,S,topic,payload):\n",
    "    if not topic.startswith(S.name):return\n",
    "    for func in S.func_list:\n",
    "        func(C,S,topic,payload)\n",
    "    \n",
    "C.requests_func_list.append(recv_data)\n",
    "\n",
    "\n",
    "async def task_4(C,S):\n",
    "    #3:  if no confilct, json format reading.\n",
    "    C.subscribe(S.name+\"/#\")\n",
    "    #4: in their own channel, when other want to send some special message like raw data, new channels are created.\n",
    "    \n",
    "    return True\n",
    "    \n",
    "    "
   ]
  },
  {
   "cell_type": "code",
   "execution_count": null,
   "id": "49d7c213-a3c0-47f8-9ecc-7e9ed3080323",
   "metadata": {},
   "outputs": [],
   "source": []
  },
  {
   "cell_type": "code",
   "execution_count": 53,
   "id": "9c0adf52-7b21-43f0-a640-bcf50c289e8d",
   "metadata": {},
   "outputs": [],
   "source": [
    "async def await_tasks(C):\n",
    "    S=C.pipeline\n",
    "    first=True\n",
    "    while 1:\n",
    "        if not first:print(\"TODO~!!!,need to clear pipeline if need to restart\")\n",
    "        first=False\n",
    "        if not await task_1(C,S):continue\n",
    "        if not await task_2(C,S):continue    \n",
    "        if not await task_3(C,S):continue    \n",
    "        if not await task_4(C,S):continue\n",
    "        break\n",
    "    return True"
   ]
  },
  {
   "cell_type": "code",
   "execution_count": null,
   "id": "76a9307e-8010-4882-8d29-8ad02492d2bf",
   "metadata": {},
   "outputs": [],
   "source": []
  },
  {
   "cell_type": "code",
   "execution_count": null,
   "id": "713ab266-5523-474e-adfe-502421426798",
   "metadata": {},
   "outputs": [],
   "source": []
  },
  {
   "cell_type": "code",
   "execution_count": null,
   "id": "7fa204f8-dbb8-4f30-9643-860396fbd879",
   "metadata": {},
   "outputs": [],
   "source": [
    "class StateMachine:\n",
    "    def __init__(self,):\n",
    "        ...\n",
    "    def state(self,):\n",
    "        ...\n",
    "    def next_step(self,):\n",
    "        ...\n",
    "    "
   ]
  },
  {
   "cell_type": "code",
   "execution_count": null,
   "id": "d5df707a-8695-4eb9-a94d-ea0654271e3c",
   "metadata": {},
   "outputs": [],
   "source": []
  },
  {
   "cell_type": "code",
   "execution_count": null,
   "id": "754fd643-f93a-477a-9af9-2c7f5f8fb293",
   "metadata": {},
   "outputs": [],
   "source": []
  },
  {
   "cell_type": "code",
   "execution_count": null,
   "id": "6eff44c4-c15f-48b4-9a24-07d4eed28929",
   "metadata": {},
   "outputs": [],
   "source": []
  },
  {
   "cell_type": "code",
   "execution_count": null,
   "id": "9897bf53-7402-4130-bf85-852afb1f91b6",
   "metadata": {},
   "outputs": [],
   "source": []
  },
  {
   "cell_type": "code",
   "execution_count": null,
   "id": "981f464e-15fd-4872-b189-d177400114b3",
   "metadata": {},
   "outputs": [],
   "source": []
  }
 ],
 "metadata": {
  "kernelspec": {
   "display_name": "Python 3 (ipykernel)",
   "language": "python",
   "name": "python3"
  },
  "language_info": {
   "codemirror_mode": {
    "name": "ipython",
    "version": 3
   },
   "file_extension": ".py",
   "mimetype": "text/x-python",
   "name": "python",
   "nbconvert_exporter": "python",
   "pygments_lexer": "ipython3",
   "version": "3.9.7"
  }
 },
 "nbformat": 4,
 "nbformat_minor": 5
}
