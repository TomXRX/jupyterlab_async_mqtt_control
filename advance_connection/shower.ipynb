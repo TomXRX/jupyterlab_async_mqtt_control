{
 "cells": [
  {
   "cell_type": "code",
   "execution_count": 1,
   "id": "38b1a21f-985a-4c5a-ac5d-280a2aaafc2c",
   "metadata": {},
   "outputs": [],
   "source": [
    "# TODO:symmetric_link。\n",
    "#即，有一个自己的按钮，然后有几个别人的按钮"
   ]
  },
  {
   "cell_type": "code",
   "execution_count": 2,
   "id": "1919152f-824c-41bc-96f6-18296e79fc0f",
   "metadata": {},
   "outputs": [
    {
     "name": "stdout",
     "output_type": "stream",
     "text": [
      "\n",
      "    be aware that names are not updated.\n",
      "    names can get very long if not having a full rest, with every client restart.\n",
      "    \n",
      "    ControlA:Connected with result code 0\n",
      "\n"
     ]
    }
   ],
   "source": [
    "%run auto_name.ipynb"
   ]
  },
  {
   "cell_type": "code",
   "execution_count": 3,
   "id": "0e7b3cbd-1933-48a4-8301-46edb51690ec",
   "metadata": {},
   "outputs": [
    {
     "name": "stdout",
     "output_type": "stream",
     "text": [
      "info\n",
      "        \n",
      "        Always be aware that this version of dashboard is instanced when defination.\n",
      "        Which means that there cannot be two dashboard in the same ipynb kernel.\n",
      "        \n",
      "        \n"
     ]
    }
   ],
   "source": [
    "%run ../util_interfaces/buttons_text_dashboard.ipynb"
   ]
  },
  {
   "cell_type": "code",
   "execution_count": null,
   "id": "5d4c3c19-b7a0-4c28-a316-dbc03f776198",
   "metadata": {},
   "outputs": [],
   "source": []
  },
  {
   "cell_type": "code",
   "execution_count": 4,
   "id": "835a968a-0d41-4530-8ea0-c75f00b01a07",
   "metadata": {},
   "outputs": [],
   "source": [
    "def button_widgets(task):\n",
    "    butt_1=ipywidgets.Button(description=\"name\",disabled=True)\n",
    "    butt_2=ipywidgets.Button(description=\"NULL\",)\n",
    "    # butt_2.on_click=task.state.find_func_by_name(\"loop_timer\")\n",
    "    # task.start()\n",
    "    return (butt_1,butt_2)\n",
    "\n",
    "@add_to_state_button(s,button_widgets)\n",
    "async def task_await(task,C,sleep_interval=0.1):\n",
    "    async def sync_name():\n",
    "        def get_name():\n",
    "            if hasattr(C.pipeline,\"name\"):\n",
    "                return C.pipeline.name\n",
    "        view_button=[i for i in task.box.children if i.description == \"NULL\"][0]\n",
    "        while 1:\n",
    "            await asyncio.sleep(sleep_interval)\n",
    "            view_button.description=str(get_name())\n",
    "    await asyncio.gather(C.pipeline_caller(),await_tasks(C),sync_name())\n",
    "    \n",
    "task_await(\"await_tasks\",C)"
   ]
  },
  {
   "cell_type": "code",
   "execution_count": 5,
   "id": "a0131dfa-35db-44c6-b171-0ee10c775f10",
   "metadata": {},
   "outputs": [],
   "source": [
    "C.pipeline.s=s"
   ]
  },
  {
   "cell_type": "code",
   "execution_count": 6,
   "id": "aaa07495-ab5d-44a5-b69a-6ce9b4be4d13",
   "metadata": {},
   "outputs": [],
   "source": [
    "def text_widgets(task):\n",
    "    butt_1=ipywidgets.Button(description=\"send\",disabled=True)\n",
    "    tt=ipywidgets.Text(value=\"1/set_str\")\n",
    "    \n",
    "    butt_2=ipywidgets.Button(description=\"to\",disabled=True)\n",
    "    tt2=ipywidgets.Text()\n",
    "    \n",
    "    task.text_boxs=(tt,tt2)\n",
    "    task.start()\n",
    "    return (butt_1,tt2,butt_2,tt)\n",
    "\n",
    "@add_to_state_button(s,text_widgets)\n",
    "async def chan(task,C,sleep_interval=0.1):\n",
    "    task.box.children=tuple(i for i in task.box.children if hasattr(i,\"description\") and i.description not in [\"start\",\"stop\"])\n",
    "    \n",
    "    t1,t2=task.text_boxs\n",
    "    \n",
    "    def go_to(widget):\n",
    "        C.publish(t1.value,t2.value)\n",
    "    t2.on_submit(go_to)\n",
    "    \n",
    "chan(\"chan\",C)"
   ]
  },
  {
   "cell_type": "code",
   "execution_count": 7,
   "id": "a27cc221-268c-458a-99e3-822fb95ed463",
   "metadata": {},
   "outputs": [],
   "source": [
    "def text_only(task):\n",
    "    tt=ipywidgets.Text()\n",
    "    task.text_box=tt\n",
    "    task.start()\n",
    "    return (tt,)\n",
    "\n",
    "@add_to_state_button(s,text_only)\n",
    "async def foo(task,C,sleep_interval=0.1):\n",
    "    task.box.children=tuple(i for i in task.box.children if hasattr(i,\"description\") and i.description not in [\"start\",\"stop\"])\n",
    "    \n",
    "foo(\"foo\",C)"
   ]
  },
  {
   "cell_type": "code",
   "execution_count": 8,
   "id": "f1048d69-14c0-4bae-9c6a-26a2484995fa",
   "metadata": {},
   "outputs": [],
   "source": [
    "def set_str(C,S,topic,payload):\n",
    "    if not topic==\"set_str\":return\n",
    "    text=C.pipeline.s.find_func_by_name(\"foo\").text_box\n",
    "    text.value=payload\n",
    "    return True\n",
    "\n",
    "C.pipeline.func_list.append(set_str)"
   ]
  },
  {
   "cell_type": "code",
   "execution_count": null,
   "id": "e598216a-fc4a-4dfc-922d-06f33de986f2",
   "metadata": {},
   "outputs": [],
   "source": []
  },
  {
   "cell_type": "code",
   "execution_count": null,
   "id": "6d3d8555-1076-45ba-965b-1b2092783cc5",
   "metadata": {},
   "outputs": [],
   "source": []
  },
  {
   "cell_type": "code",
   "execution_count": 9,
   "id": "0dfe8385-0ef6-4470-b0ed-fe5fa9fa458a",
   "metadata": {},
   "outputs": [
    {
     "data": {
      "application/vnd.jupyter.widget-view+json": {
       "model_id": "12b9ed5213634901ac57a22d662e44d4",
       "version_major": 2,
       "version_minor": 0
      },
      "text/plain": [
       "Box(children=(Button(description='loop_timer', disabled=True, style=ButtonStyle()), Button(description='start'…"
      ]
     },
     "metadata": {},
     "output_type": "display_data"
    },
    {
     "data": {
      "application/vnd.jupyter.widget-view+json": {
       "model_id": "9fe41fe76b4f478b89318a272d181341",
       "version_major": 2,
       "version_minor": 0
      },
      "text/plain": [
       "Box(children=(Button(description='await_tasks', disabled=True, style=ButtonStyle()), Button(description='start…"
      ]
     },
     "metadata": {},
     "output_type": "display_data"
    },
    {
     "data": {
      "application/vnd.jupyter.widget-view+json": {
       "model_id": "ea5971e5c1514ec395da01a0e75cf32c",
       "version_major": 2,
       "version_minor": 0
      },
      "text/plain": [
       "Box(children=(Button(description='chan', disabled=True, style=ButtonStyle()), Button(description='send', disab…"
      ]
     },
     "metadata": {},
     "output_type": "display_data"
    },
    {
     "data": {
      "application/vnd.jupyter.widget-view+json": {
       "model_id": "8300b7750a6144c48846489737cd568e",
       "version_major": 2,
       "version_minor": 0
      },
      "text/plain": [
       "Box(children=(Button(description='foo', disabled=True, style=ButtonStyle()), Button(description='start', style…"
      ]
     },
     "metadata": {},
     "output_type": "display_data"
    }
   ],
   "source": [
    "s.display()\n",
    "s.find_func_by_name(\"loop_timer\").start()"
   ]
  },
  {
   "cell_type": "code",
   "execution_count": null,
   "id": "749c38f4-3b17-4c44-bc43-d0b4309d145a",
   "metadata": {},
   "outputs": [],
   "source": []
  },
  {
   "cell_type": "code",
   "execution_count": null,
   "id": "e9620025-a7d5-45e7-af98-7e33580ad494",
   "metadata": {},
   "outputs": [],
   "source": []
  },
  {
   "cell_type": "code",
   "execution_count": 10,
   "id": "41641214-81bd-4491-95fb-8214b9247e66",
   "metadata": {},
   "outputs": [],
   "source": [
    "ta=s.find_func_by_name(\"chan\")"
   ]
  },
  {
   "cell_type": "code",
   "execution_count": 11,
   "id": "76939604-4f53-4198-8742-2d6cd04aae48",
   "metadata": {},
   "outputs": [],
   "source": [
    "ta.task.exception()"
   ]
  },
  {
   "cell_type": "code",
   "execution_count": null,
   "id": "41092303-964a-4286-a8b0-36dcac1a64c9",
   "metadata": {},
   "outputs": [],
   "source": []
  },
  {
   "cell_type": "code",
   "execution_count": 12,
   "id": "f94eeba2-f91b-4929-aeed-b4a055469b01",
   "metadata": {},
   "outputs": [
    {
     "ename": "SyntaxError",
     "evalue": "'break' outside loop (668683560.py, line 1)",
     "output_type": "error",
     "traceback": [
      "\u001b[0;36m  File \u001b[0;32m\"/tmp/ipykernel_5848/668683560.py\"\u001b[0;36m, line \u001b[0;32m1\u001b[0m\n\u001b[0;31m    break\u001b[0m\n\u001b[0m    ^\u001b[0m\n\u001b[0;31mSyntaxError\u001b[0m\u001b[0;31m:\u001b[0m 'break' outside loop\n"
     ]
    }
   ],
   "source": [
    "break"
   ]
  },
  {
   "cell_type": "code",
   "execution_count": null,
   "id": "03ae381e-43c0-4bfa-964b-22b3789e476f",
   "metadata": {},
   "outputs": [],
   "source": [
    "C.publish(\"2/hihi\",\"thing\")"
   ]
  },
  {
   "cell_type": "code",
   "execution_count": null,
   "id": "7a6960ba-e95f-4900-b9e7-f35e6e684d31",
   "metadata": {},
   "outputs": [],
   "source": []
  },
  {
   "cell_type": "code",
   "execution_count": null,
   "id": "6e02e697-7856-4deb-8979-6e87fb64556e",
   "metadata": {},
   "outputs": [],
   "source": [
    "C.pipeline.state_dict"
   ]
  },
  {
   "cell_type": "code",
   "execution_count": null,
   "id": "95ddbc38-3678-48f5-a76e-8b6c0b19be92",
   "metadata": {},
   "outputs": [],
   "source": [
    "C.requests_func_list"
   ]
  },
  {
   "cell_type": "code",
   "execution_count": null,
   "id": "772a76a5-4477-4ba4-a083-79b98b015f18",
   "metadata": {},
   "outputs": [],
   "source": [
    "C.pipeline.names"
   ]
  },
  {
   "cell_type": "code",
   "execution_count": null,
   "id": "d1f8d052-ce6d-4f96-8117-e8db0a762b34",
   "metadata": {},
   "outputs": [],
   "source": [
    "k0.exception()"
   ]
  },
  {
   "cell_type": "code",
   "execution_count": null,
   "id": "6835560f-787b-4327-99dc-2f19b314110a",
   "metadata": {},
   "outputs": [],
   "source": [
    "k1.exception()"
   ]
  },
  {
   "cell_type": "code",
   "execution_count": null,
   "id": "3fdc4ae1-4fb9-475c-a002-33e37ae14025",
   "metadata": {},
   "outputs": [],
   "source": []
  },
  {
   "cell_type": "code",
   "execution_count": null,
   "id": "98ab7aa3-3e7a-4ad7-a2d0-1fbd3cb274d4",
   "metadata": {},
   "outputs": [],
   "source": []
  },
  {
   "cell_type": "code",
   "execution_count": null,
   "id": "b6503adc-1003-4206-b2e9-0bb792c1ba81",
   "metadata": {},
   "outputs": [],
   "source": [
    "def button_widgets(task):\n",
    "    butt_1=ipywidgets.Button(description=\"is_running\",disabled=True)\n",
    "    butt_2=ipywidgets.Button(description=\"False\",)\n",
    "    # butt_2.on_click=task.state.find_func_by_name(\"loop_timer\")\n",
    "    task.start()\n",
    "    return (butt_1,butt_2)\n",
    "\n",
    "@add_to_state_button(s,button_widgets)\n",
    "async def buttoner(task,sleep_interval=0.1):\n",
    "    task.box.children=tuple(i for i in task.box.children if i.description not in [\"start\",\"stop\"])\n",
    "    \n",
    "    lt=task.state.find_func_by_name(\"loop_timer\")\n",
    "    view_button=[i for i in task.box.children if i.description == \"False\"][0]\n",
    "    while 1:\n",
    "        await asyncio.sleep(sleep_interval)\n",
    "        view_button.description=str(lt.is_running)\n",
    "    \n",
    "        \n",
    "# buttoner(\"buttoner\")"
   ]
  },
  {
   "cell_type": "code",
   "execution_count": null,
   "id": "df5a2915-5443-4839-957b-1bae229fb520",
   "metadata": {},
   "outputs": [],
   "source": []
  },
  {
   "cell_type": "code",
   "execution_count": null,
   "id": "dd3196cc-89e6-4088-867d-0973cd027505",
   "metadata": {},
   "outputs": [],
   "source": []
  },
  {
   "cell_type": "code",
   "execution_count": null,
   "id": "e2983ef5-f567-4042-b176-5fd87b8b261e",
   "metadata": {},
   "outputs": [],
   "source": [
    "k1.cancel()"
   ]
  },
  {
   "cell_type": "code",
   "execution_count": null,
   "id": "b162b57e-a9ad-4f87-8663-294a51d0ffaa",
   "metadata": {},
   "outputs": [],
   "source": []
  }
 ],
 "metadata": {
  "kernelspec": {
   "display_name": "Python 3 (ipykernel)",
   "language": "python",
   "name": "python3"
  },
  "language_info": {
   "codemirror_mode": {
    "name": "ipython",
    "version": 3
   },
   "file_extension": ".py",
   "mimetype": "text/x-python",
   "name": "python",
   "nbconvert_exporter": "python",
   "pygments_lexer": "ipython3",
   "version": "3.9.7"
  }
 },
 "nbformat": 4,
 "nbformat_minor": 5
}
