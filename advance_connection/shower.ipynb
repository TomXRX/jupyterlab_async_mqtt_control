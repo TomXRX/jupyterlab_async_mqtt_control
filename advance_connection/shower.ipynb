{
 "cells": [
  {
   "cell_type": "code",
   "execution_count": 1,
   "id": "38b1a21f-985a-4c5a-ac5d-280a2aaafc2c",
   "metadata": {},
   "outputs": [],
   "source": [
    "#TODO:对称链接。\n",
    "#即，有一个自己的按钮，然后有几个别人的按钮"
   ]
  },
  {
   "cell_type": "code",
   "execution_count": 2,
   "id": "1919152f-824c-41bc-96f6-18296e79fc0f",
   "metadata": {},
   "outputs": [
    {
     "name": "stdout",
     "output_type": "stream",
     "text": [
      "ControlA:Connected with result code 0\n"
     ]
    }
   ],
   "source": [
    "%run auto_name.ipynb"
   ]
  },
  {
   "cell_type": "code",
   "execution_count": 3,
   "id": "f1c71f88-d7b4-4ca1-ac2d-537de379d482",
   "metadata": {},
   "outputs": [
    {
     "data": {
      "text/plain": [
       "<__main__.ControlA at 0x7f7a040aef70>"
      ]
     },
     "execution_count": 3,
     "metadata": {},
     "output_type": "execute_result"
    }
   ],
   "source": [
    "C"
   ]
  },
  {
   "cell_type": "code",
   "execution_count": 4,
   "id": "2a94360b-f2fe-4bbc-a70f-ab83db6b0e87",
   "metadata": {},
   "outputs": [
    {
     "name": "stdout",
     "output_type": "stream",
     "text": [
      "deque(['0', '0'])\n",
      "TODOTODOTODO\n",
      "deque(['0', '0'])\n",
      "TODOTODOTODO\n",
      "deque(['0', '0'])\n",
      "TODOTODOTODO\n",
      "bad_luck\n",
      "deque(['0', '0', '0'])\n",
      "TODOTODOTODO\n",
      "deque(['0', '0', '0'])\n",
      "TODOTODOTODO\n",
      "deque(['0', '0', '0'])\n",
      "TODOTODOTODO\n",
      "bad_luck\n",
      "deque(['0', '0', '0', '0'])\n",
      "TODOTODOTODO\n",
      "deque(['0', '0', '0', '0'])\n",
      "TODOTODOTODO\n",
      "deque(['0', '0', '0', '0'])\n",
      "TODOTODOTODO\n",
      "bad_luck\n",
      "deque(['0', '0', '0', '0', '0'])\n",
      "TODOTODOTODO\n",
      "deque(['0', '0', '0', '0', '0'])\n",
      "TODOTODOTODO\n",
      "deque(['0', '0', '0', '0', '0'])\n",
      "TODOTODOTODO\n",
      "bad_luck\n",
      "deque(['0', '0', '0', '0', '0', '0'])\n",
      "TODOTODOTODO\n",
      "deque(['0', '0', '0', '0', '0', '0'])\n",
      "TODOTODOTODO\n",
      "deque(['0', '0', '0', '0', '0', '0'])\n",
      "TODOTODOTODO\n",
      "bad_luck\n"
     ]
    },
    {
     "ename": "CancelledError",
     "evalue": "",
     "output_type": "error",
     "traceback": [
      "\u001b[0;31m---------------------------------------------------------------------------\u001b[0m",
      "\u001b[0;31mCancelledError\u001b[0m                            Traceback (most recent call last)",
      "\u001b[0;32m/tmp/ipykernel_6649/3478491419.py\u001b[0m in \u001b[0;36m<module>\u001b[0;34m\u001b[0m\n\u001b[0;32m----> 1\u001b[0;31m \u001b[0;32mawait\u001b[0m \u001b[0mawait_tasks\u001b[0m\u001b[0;34m(\u001b[0m\u001b[0mC\u001b[0m\u001b[0;34m)\u001b[0m\u001b[0;34m\u001b[0m\u001b[0;34m\u001b[0m\u001b[0m\n\u001b[0m",
      "\u001b[0;32m/tmp/ipykernel_6649/3743895286.py\u001b[0m in \u001b[0;36mawait_tasks\u001b[0;34m(C)\u001b[0m\n\u001b[1;32m      3\u001b[0m     \u001b[0;32mwhile\u001b[0m \u001b[0;36m1\u001b[0m\u001b[0;34m:\u001b[0m\u001b[0;34m\u001b[0m\u001b[0;34m\u001b[0m\u001b[0m\n\u001b[1;32m      4\u001b[0m         \u001b[0;32mif\u001b[0m \u001b[0;32mnot\u001b[0m \u001b[0;32mawait\u001b[0m \u001b[0mtask_1\u001b[0m\u001b[0;34m(\u001b[0m\u001b[0mC\u001b[0m\u001b[0;34m,\u001b[0m\u001b[0mS\u001b[0m\u001b[0;34m)\u001b[0m\u001b[0;34m:\u001b[0m\u001b[0;32mcontinue\u001b[0m\u001b[0;34m\u001b[0m\u001b[0;34m\u001b[0m\u001b[0m\n\u001b[0;32m----> 5\u001b[0;31m         \u001b[0;32mif\u001b[0m \u001b[0;32mnot\u001b[0m \u001b[0;32mawait\u001b[0m \u001b[0mtask_2\u001b[0m\u001b[0;34m(\u001b[0m\u001b[0mC\u001b[0m\u001b[0;34m,\u001b[0m\u001b[0mS\u001b[0m\u001b[0;34m)\u001b[0m\u001b[0;34m:\u001b[0m\u001b[0;32mcontinue\u001b[0m\u001b[0;34m\u001b[0m\u001b[0;34m\u001b[0m\u001b[0m\n\u001b[0m\u001b[1;32m      6\u001b[0m         \u001b[0;32mif\u001b[0m \u001b[0;32mnot\u001b[0m \u001b[0;32mawait\u001b[0m \u001b[0mtask_3\u001b[0m\u001b[0;34m(\u001b[0m\u001b[0mC\u001b[0m\u001b[0;34m,\u001b[0m\u001b[0mS\u001b[0m\u001b[0;34m)\u001b[0m\u001b[0;34m:\u001b[0m\u001b[0;32mcontinue\u001b[0m\u001b[0;34m\u001b[0m\u001b[0;34m\u001b[0m\u001b[0m\n\u001b[1;32m      7\u001b[0m         \u001b[0;32mif\u001b[0m \u001b[0;32mnot\u001b[0m \u001b[0;32mawait\u001b[0m \u001b[0mtask_4\u001b[0m\u001b[0;34m(\u001b[0m\u001b[0mC\u001b[0m\u001b[0;34m,\u001b[0m\u001b[0mS\u001b[0m\u001b[0;34m)\u001b[0m\u001b[0;34m:\u001b[0m\u001b[0;32mcontinue\u001b[0m\u001b[0;34m\u001b[0m\u001b[0;34m\u001b[0m\u001b[0m\n",
      "\u001b[0;32m/tmp/ipykernel_6649/953942727.py\u001b[0m in \u001b[0;36mtask_2\u001b[0;34m(C, S)\u001b[0m\n\u001b[1;32m     24\u001b[0m     \u001b[0mC\u001b[0m\u001b[0;34m.\u001b[0m\u001b[0msubscribe\u001b[0m\u001b[0;34m(\u001b[0m\u001b[0;34m\"name\"\u001b[0m\u001b[0;34m)\u001b[0m\u001b[0;34m\u001b[0m\u001b[0;34m\u001b[0m\u001b[0m\n\u001b[1;32m     25\u001b[0m \u001b[0;34m\u001b[0m\u001b[0m\n\u001b[0;32m---> 26\u001b[0;31m     \u001b[0;32mawait\u001b[0m \u001b[0masyncio\u001b[0m\u001b[0;34m.\u001b[0m\u001b[0msleep\u001b[0m\u001b[0;34m(\u001b[0m\u001b[0;36m1\u001b[0m\u001b[0;34m)\u001b[0m\u001b[0;34m\u001b[0m\u001b[0;34m\u001b[0m\u001b[0m\n\u001b[0m\u001b[1;32m     27\u001b[0m \u001b[0;34m\u001b[0m\u001b[0m\n\u001b[1;32m     28\u001b[0m     \u001b[0;31m#3: one own channel is created, for reciving data.\u001b[0m\u001b[0;34m\u001b[0m\u001b[0;34m\u001b[0m\u001b[0m\n",
      "\u001b[0;32m/opt/conda/lib/python3.9/asyncio/tasks.py\u001b[0m in \u001b[0;36msleep\u001b[0;34m(delay, result, loop)\u001b[0m\n\u001b[1;32m    653\u001b[0m                         future, result)\n\u001b[1;32m    654\u001b[0m     \u001b[0;32mtry\u001b[0m\u001b[0;34m:\u001b[0m\u001b[0;34m\u001b[0m\u001b[0;34m\u001b[0m\u001b[0m\n\u001b[0;32m--> 655\u001b[0;31m         \u001b[0;32mreturn\u001b[0m \u001b[0;32mawait\u001b[0m \u001b[0mfuture\u001b[0m\u001b[0;34m\u001b[0m\u001b[0;34m\u001b[0m\u001b[0m\n\u001b[0m\u001b[1;32m    656\u001b[0m     \u001b[0;32mfinally\u001b[0m\u001b[0;34m:\u001b[0m\u001b[0;34m\u001b[0m\u001b[0;34m\u001b[0m\u001b[0m\n\u001b[1;32m    657\u001b[0m         \u001b[0mh\u001b[0m\u001b[0;34m.\u001b[0m\u001b[0mcancel\u001b[0m\u001b[0;34m(\u001b[0m\u001b[0;34m)\u001b[0m\u001b[0;34m\u001b[0m\u001b[0;34m\u001b[0m\u001b[0m\n",
      "\u001b[0;31mCancelledError\u001b[0m: "
     ]
    }
   ],
   "source": [
    "await await_tasks(C)"
   ]
  },
  {
   "cell_type": "code",
   "execution_count": 12,
   "id": "6e02e697-7856-4deb-8979-6e87fb64556e",
   "metadata": {},
   "outputs": [
    {
     "data": {
      "text/plain": [
       "defaultdict(collections.deque,\n",
       "            {'names': deque([]),\n",
       "             'name': deque(['0',\n",
       "                    '0',\n",
       "                    '0',\n",
       "                    '0',\n",
       "                    '0',\n",
       "                    '0',\n",
       "                    '0',\n",
       "                    '0',\n",
       "                    '0',\n",
       "                    '0',\n",
       "                    '0',\n",
       "                    '0']),\n",
       "             '0': deque(['I should be first and only.',\n",
       "                    'I should be first and only.',\n",
       "                    'I should be first and only.',\n",
       "                    'I should be first and only.',\n",
       "                    'I should be first and only.',\n",
       "                    'I should be first and only.',\n",
       "                    'I should be first and only.',\n",
       "                    'I should be first and only.',\n",
       "                    'I should be first and only.',\n",
       "                    'I should be first and only.',\n",
       "                    'I should be first and only.']),\n",
       "             'requests_all': deque(['names',\n",
       "                    'names',\n",
       "                    'names',\n",
       "                    'names',\n",
       "                    'names',\n",
       "                    'names',\n",
       "                    'names',\n",
       "                    'names',\n",
       "                    'names',\n",
       "                    'names'])})"
      ]
     },
     "execution_count": 12,
     "metadata": {},
     "output_type": "execute_result"
    }
   ],
   "source": [
    "C.pipeline.state_dict"
   ]
  },
  {
   "cell_type": "code",
   "execution_count": 11,
   "id": "856887f1-c261-40d2-bc16-380476342cac",
   "metadata": {},
   "outputs": [
    {
     "data": {
      "text/plain": [
       "defaultdict(collections.deque,\n",
       "            {'names': deque([]),\n",
       "             'name': deque(['0', '0', '0', '0', '0', '0', '0']),\n",
       "             '0': deque(['I should be first and only.',\n",
       "                    'I should be first and only.',\n",
       "                    'I should be first and only.',\n",
       "                    'I should be first and only.',\n",
       "                    'I should be first and only.',\n",
       "                    'I should be first and only.']),\n",
       "             'requests_all': deque(['names',\n",
       "                    'names',\n",
       "                    'names',\n",
       "                    'names',\n",
       "                    'names',\n",
       "                    'names'])})"
      ]
     },
     "execution_count": 11,
     "metadata": {},
     "output_type": "execute_result"
    }
   ],
   "source": [
    "C.pipeline.state_dict"
   ]
  },
  {
   "cell_type": "code",
   "execution_count": 8,
   "id": "7a305539-d72d-4150-afc3-51dfc1f71a85",
   "metadata": {},
   "outputs": [
    {
     "data": {
      "text/plain": [
       "deque(['I should be first and only.',\n",
       "       'I should be first and only.',\n",
       "       'I should be first and only.',\n",
       "       'I should be first and only.',\n",
       "       'I should be first and only.',\n",
       "       'I should be first and only.'])"
      ]
     },
     "execution_count": 8,
     "metadata": {},
     "output_type": "execute_result"
    }
   ],
   "source": [
    "C.pipeline_checker(\"0\")"
   ]
  },
  {
   "cell_type": "code",
   "execution_count": 10,
   "id": "95ddbc38-3678-48f5-a76e-8b6c0b19be92",
   "metadata": {},
   "outputs": [
    {
     "data": {
      "text/plain": [
       "[<function __main__.names(C, S, topic, payload)>,\n",
       " <function __main__.record_names(C, S, topic, payload)>,\n",
       " <function __main__.respond_names(C, S, topic, payload)>,\n",
       " <function __main__.recv_data(C, S, topic, payload)>]"
      ]
     },
     "execution_count": 10,
     "metadata": {},
     "output_type": "execute_result"
    }
   ],
   "source": [
    "C.requests_func_list"
   ]
  },
  {
   "cell_type": "code",
   "execution_count": null,
   "id": "30767a09-bfd4-452c-a3ca-241a65f1b31d",
   "metadata": {},
   "outputs": [],
   "source": []
  }
 ],
 "metadata": {
  "kernelspec": {
   "display_name": "Python 3 (ipykernel)",
   "language": "python",
   "name": "python3"
  },
  "language_info": {
   "codemirror_mode": {
    "name": "ipython",
    "version": 3
   },
   "file_extension": ".py",
   "mimetype": "text/x-python",
   "name": "python",
   "nbconvert_exporter": "python",
   "pygments_lexer": "ipython3",
   "version": "3.9.7"
  }
 },
 "nbformat": 4,
 "nbformat_minor": 5
}
