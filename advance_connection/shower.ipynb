{
 "cells": [
  {
   "cell_type": "code",
   "execution_count": null,
   "id": "38b1a21f-985a-4c5a-ac5d-280a2aaafc2c",
   "metadata": {},
   "outputs": [],
   "source": [
    "#TODO:对称链接。\n",
    "#即，有一个自己的按钮，然后有几个别人的按钮"
   ]
  },
  {
   "cell_type": "code",
   "execution_count": null,
   "id": "0e74a18e-83f9-4138-beed-855944b530cb",
   "metadata": {},
   "outputs": [],
   "source": []
  },
  {
   "cell_type": "code",
   "execution_count": null,
   "id": "55946511-9a42-4932-8119-14b15b6dc9e3",
   "metadata": {},
   "outputs": [],
   "source": []
  }
 ],
 "metadata": {
  "kernelspec": {
   "display_name": "Python 3 (ipykernel)",
   "language": "python",
   "name": "python3"
  },
  "language_info": {
   "codemirror_mode": {
    "name": "ipython",
    "version": 3
   },
   "file_extension": ".py",
   "mimetype": "text/x-python",
   "name": "python",
   "nbconvert_exporter": "python",
   "pygments_lexer": "ipython3",
   "version": "3.9.7"
  }
 },
 "nbformat": 4,
 "nbformat_minor": 5
}
