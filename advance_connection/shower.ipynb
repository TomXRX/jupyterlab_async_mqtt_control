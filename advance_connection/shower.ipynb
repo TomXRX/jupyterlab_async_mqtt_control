{
 "cells": [
  {
   "cell_type": "code",
   "execution_count": 1,
   "id": "38b1a21f-985a-4c5a-ac5d-280a2aaafc2c",
   "metadata": {},
   "outputs": [],
   "source": [
    "#TODO:对称链接。\n",
    "#即，有一个自己的按钮，然后有几个别人的按钮"
   ]
  },
  {
   "cell_type": "code",
   "execution_count": 2,
   "id": "1919152f-824c-41bc-96f6-18296e79fc0f",
   "metadata": {},
   "outputs": [
    {
     "name": "stdout",
     "output_type": "stream",
     "text": [
      "ControlA:Connected with result code 0\n"
     ]
    }
   ],
   "source": [
    "%run auto_name.ipynb"
   ]
  },
  {
   "cell_type": "code",
   "execution_count": 3,
   "id": "f1c71f88-d7b4-4ca1-ac2d-537de379d482",
   "metadata": {},
   "outputs": [
    {
     "data": {
      "text/plain": [
       "<__main__.ControlA at 0x7fcc2867f5e0>"
      ]
     },
     "execution_count": 3,
     "metadata": {},
     "output_type": "execute_result"
    }
   ],
   "source": [
    "C"
   ]
  },
  {
   "cell_type": "code",
   "execution_count": 4,
   "id": "2a94360b-f2fe-4bbc-a70f-ab83db6b0e87",
   "metadata": {},
   "outputs": [
    {
     "name": "stdout",
     "output_type": "stream",
     "text": [
      "Have a message that is (0,b'\"I should be first and only.\"')\n"
     ]
    },
    {
     "data": {
      "text/plain": [
       "True"
      ]
     },
     "execution_count": 4,
     "metadata": {},
     "output_type": "execute_result"
    }
   ],
   "source": [
    "await await_tasks(C)"
   ]
  },
  {
   "cell_type": "code",
   "execution_count": null,
   "id": "5ab1316c-32fe-47fa-9ba0-90a2d272cee6",
   "metadata": {},
   "outputs": [
    {
     "name": "stdout",
     "output_type": "stream",
     "text": [
      "Have a message that is (requests_all,b'\"names\"')\n",
      "is recieved\n",
      "Have a message that is (names,b'[\"0\"]')\n",
      "Have a message that is (name,b'\"1\"')\n",
      "is recieved\n",
      "let's GO\n"
     ]
    }
   ],
   "source": [
    "await C.pipeline_caller()"
   ]
  },
  {
   "cell_type": "code",
   "execution_count": null,
   "id": "437bdf29-d6a6-497b-913b-ee149b53d962",
   "metadata": {},
   "outputs": [],
   "source": [
    "k1=asyncio.create_task(C.pipeline_caller())"
   ]
  },
  {
   "cell_type": "code",
   "execution_count": null,
   "id": "e2983ef5-f567-4042-b176-5fd87b8b261e",
   "metadata": {},
   "outputs": [],
   "source": [
    "k1.cancel()"
   ]
  },
  {
   "cell_type": "code",
   "execution_count": null,
   "id": "6e02e697-7856-4deb-8979-6e87fb64556e",
   "metadata": {},
   "outputs": [],
   "source": [
    "C.pipeline.state_dict"
   ]
  },
  {
   "cell_type": "code",
   "execution_count": null,
   "id": "7a305539-d72d-4150-afc3-51dfc1f71a85",
   "metadata": {},
   "outputs": [],
   "source": [
    "C.pipeline_checker(\"0\")"
   ]
  },
  {
   "cell_type": "code",
   "execution_count": null,
   "id": "95ddbc38-3678-48f5-a76e-8b6c0b19be92",
   "metadata": {},
   "outputs": [],
   "source": [
    "C.requests_func_list"
   ]
  },
  {
   "cell_type": "code",
   "execution_count": null,
   "id": "772a76a5-4477-4ba4-a083-79b98b015f18",
   "metadata": {},
   "outputs": [],
   "source": [
    "C.pipeline.names"
   ]
  },
  {
   "cell_type": "code",
   "execution_count": null,
   "id": "b162b57e-a9ad-4f87-8663-294a51d0ffaa",
   "metadata": {},
   "outputs": [],
   "source": []
  }
 ],
 "metadata": {
  "kernelspec": {
   "display_name": "Python 3 (ipykernel)",
   "language": "python",
   "name": "python3"
  },
  "language_info": {
   "codemirror_mode": {
    "name": "ipython",
    "version": 3
   },
   "file_extension": ".py",
   "mimetype": "text/x-python",
   "name": "python",
   "nbconvert_exporter": "python",
   "pygments_lexer": "ipython3",
   "version": "3.9.7"
  }
 },
 "nbformat": 4,
 "nbformat_minor": 5
}
