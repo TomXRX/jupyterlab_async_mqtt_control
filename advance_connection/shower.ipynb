{
 "cells": [
  {
   "cell_type": "code",
   "execution_count": null,
   "id": "38b1a21f-985a-4c5a-ac5d-280a2aaafc2c",
   "metadata": {},
   "outputs": [],
   "source": [
    "#TODO:对称链接。\n",
    "#即，有一个自己的按钮，然后有几个别人的按钮"
   ]
  },
  {
   "cell_type": "code",
   "execution_count": null,
   "id": "1919152f-824c-41bc-96f6-18296e79fc0f",
   "metadata": {},
   "outputs": [],
   "source": []
  },
  {
   "cell_type": "code",
   "execution_count": null,
   "id": "f1c71f88-d7b4-4ca1-ac2d-537de379d482",
   "metadata": {},
   "outputs": [],
   "source": []
  },
  {
   "cell_type": "code",
   "execution_count": null,
   "id": "2a94360b-f2fe-4bbc-a70f-ab83db6b0e87",
   "metadata": {},
   "outputs": [],
   "source": []
  }
 ],
 "metadata": {
  "kernelspec": {
   "display_name": "Python 3 (ipykernel)",
   "language": "python",
   "name": "python3"
  },
  "language_info": {
   "codemirror_mode": {
    "name": "ipython",
    "version": 3
   },
   "file_extension": ".py",
   "mimetype": "text/x-python",
   "name": "python",
   "nbconvert_exporter": "python",
   "pygments_lexer": "ipython3",
   "version": "3.9.7"
  }
 },
 "nbformat": 4,
 "nbformat_minor": 5
}
