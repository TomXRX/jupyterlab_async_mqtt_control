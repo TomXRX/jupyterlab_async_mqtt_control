{
 "cells": [
  {
   "cell_type": "code",
   "execution_count": 1,
   "id": "8f540167-9369-47be-a4d6-ab6cfc735568",
   "metadata": {},
   "outputs": [],
   "source": [
    "#check if mqtt can hear itself"
   ]
  },
  {
   "cell_type": "code",
   "execution_count": 2,
   "id": "eef06fe7-4451-4780-8ac4-f8e0efe919cc",
   "metadata": {},
   "outputs": [],
   "source": [
    "%run util_py_2.ipynb"
   ]
  },
  {
   "cell_type": "code",
   "execution_count": 3,
   "id": "71e75788-81de-404c-8d3c-e390aa1b4834",
   "metadata": {},
   "outputs": [
    {
     "name": "stdout",
     "output_type": "stream",
     "text": [
      "Connected with result code 0\n"
     ]
    }
   ],
   "source": [
    "C=Control()"
   ]
  },
  {
   "cell_type": "code",
   "execution_count": 4,
   "id": "91aa12dd-fcf5-4a84-bcde-fd53e223b7fa",
   "metadata": {},
   "outputs": [
    {
     "data": {
      "text/plain": [
       "(0, 2)"
      ]
     },
     "execution_count": 4,
     "metadata": {},
     "output_type": "execute_result"
    }
   ],
   "source": [
    "C.client.subscribe(\"control\")"
   ]
  },
  {
   "cell_type": "code",
   "execution_count": 5,
   "id": "00c59517-384b-42d6-abe3-e91aaab47997",
   "metadata": {},
   "outputs": [
    {
     "data": {
      "text/plain": [
       "<paho.mqtt.client.MQTTMessageInfo at 0x7f088b3c42c0>"
      ]
     },
     "execution_count": 5,
     "metadata": {},
     "output_type": "execute_result"
    },
    {
     "name": "stdout",
     "output_type": "stream",
     "text": [
      "b'hihi'\n"
     ]
    }
   ],
   "source": [
    "C.client.publish(\"control\",\"hihi\")"
   ]
  },
  {
   "cell_type": "code",
   "execution_count": null,
   "id": "409af62f-afc5-4627-bb28-4309c0fc103a",
   "metadata": {},
   "outputs": [],
   "source": []
  },
  {
   "cell_type": "code",
   "execution_count": 1,
   "id": "eb169bc3-4d9d-40f4-bbd3-dd742f20ed0e",
   "metadata": {},
   "outputs": [],
   "source": [
    "#check if tuple in list can be correctly removed"
   ]
  },
  {
   "cell_type": "code",
   "execution_count": 2,
   "id": "3f595892-30bb-4b35-9e97-c0cc4ea428cb",
   "metadata": {},
   "outputs": [
    {
     "data": {
      "text/plain": [
       "[(1, 2), (2, 3), ('23', 4), (b'e', b'b')]"
      ]
     },
     "execution_count": 2,
     "metadata": {},
     "output_type": "execute_result"
    }
   ],
   "source": [
    "k=[(1,2),(2,3),(\"23\",4),(b\"e\",b\"b\")]\n",
    "k"
   ]
  },
  {
   "cell_type": "code",
   "execution_count": 3,
   "id": "568baf71-4128-469c-8c07-47d6e02d82c0",
   "metadata": {},
   "outputs": [
    {
     "data": {
      "text/plain": [
       "[(2, 3), ('23', 4), (b'e', b'b')]"
      ]
     },
     "execution_count": 3,
     "metadata": {},
     "output_type": "execute_result"
    }
   ],
   "source": [
    "k.remove((1,2))\n",
    "k"
   ]
  },
  {
   "cell_type": "code",
   "execution_count": 4,
   "id": "9fd6294e-22f8-4c96-ae2a-28fb603447a4",
   "metadata": {},
   "outputs": [
    {
     "data": {
      "text/plain": [
       "True"
      ]
     },
     "execution_count": 4,
     "metadata": {},
     "output_type": "execute_result"
    }
   ],
   "source": [
    "(b\"e\",b\"b\") in k"
   ]
  },
  {
   "cell_type": "code",
   "execution_count": null,
   "id": "c1f498a5-05ad-4f8c-9154-3275b76ad1d2",
   "metadata": {},
   "outputs": [],
   "source": []
  },
  {
   "cell_type": "code",
   "execution_count": 5,
   "id": "dbf49988-03d1-4bca-9556-453139077418",
   "metadata": {},
   "outputs": [],
   "source": [
    "#json set serializable"
   ]
  },
  {
   "cell_type": "code",
   "execution_count": 7,
   "id": "cd6a7e5a-cdb0-4cdd-a9b4-50091e6bb3dc",
   "metadata": {},
   "outputs": [
    {
     "name": "stdout",
     "output_type": "stream",
     "text": [
      "error\n"
     ]
    }
   ],
   "source": [
    "import json\n",
    "try:json.dumps({\"1\",1,2})\n",
    "except TypeError:print(\"error\")"
   ]
  },
  {
   "cell_type": "code",
   "execution_count": 8,
   "id": "6300fa19-b3e1-4ee9-b1b3-ce59d7b9f54f",
   "metadata": {},
   "outputs": [
    {
     "name": "stdout",
     "output_type": "stream",
     "text": [
      "error\n"
     ]
    }
   ],
   "source": [
    "import json\n",
    "try:json.dumps({\"1\":{\"1\",1,2}})\n",
    "except TypeError:print(\"error\")"
   ]
  },
  {
   "cell_type": "code",
   "execution_count": null,
   "id": "484ccb85-e97b-48d9-9ac8-85b7aad81fc0",
   "metadata": {},
   "outputs": [],
   "source": []
  },
  {
   "cell_type": "code",
   "execution_count": null,
   "id": "b01812cd-8354-4131-bdb9-a20364484d85",
   "metadata": {},
   "outputs": [],
   "source": []
  },
  {
   "cell_type": "code",
   "execution_count": null,
   "id": "f3098374-b7fa-46de-b6ba-03294e0e3ab8",
   "metadata": {},
   "outputs": [],
   "source": []
  },
  {
   "cell_type": "code",
   "execution_count": null,
   "id": "2c3d186c-4642-4729-bbd1-091b989e3946",
   "metadata": {},
   "outputs": [],
   "source": []
  }
 ],
 "metadata": {
  "kernelspec": {
   "display_name": "Python 3 (ipykernel)",
   "language": "python",
   "name": "python3"
  },
  "language_info": {
   "codemirror_mode": {
    "name": "ipython",
    "version": 3
   },
   "file_extension": ".py",
   "mimetype": "text/x-python",
   "name": "python",
   "nbconvert_exporter": "python",
   "pygments_lexer": "ipython3",
   "version": "3.9.7"
  }
 },
 "nbformat": 4,
 "nbformat_minor": 5
}
