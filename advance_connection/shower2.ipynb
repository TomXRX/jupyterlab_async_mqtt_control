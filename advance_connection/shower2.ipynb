{
 "cells": [
  {
   "cell_type": "code",
   "execution_count": 1,
   "id": "e938d372-0466-4232-b4d2-21b771b7eb9f",
   "metadata": {},
   "outputs": [],
   "source": [
    "# TODO:need to test confilct (same name)"
   ]
  },
  {
   "cell_type": "code",
   "execution_count": 2,
   "id": "1331e8f9-8dce-4691-8d88-532fb47f5ee0",
   "metadata": {},
   "outputs": [
    {
     "name": "stdout",
     "output_type": "stream",
     "text": [
      "Connected with result code 0\n"
     ]
    }
   ],
   "source": [
    "from auto_name import *"
   ]
  },
  {
   "cell_type": "code",
   "execution_count": 3,
   "id": "e0892bc7-f893-4ea7-bb88-004de235d705",
   "metadata": {},
   "outputs": [],
   "source": [
    "C.debug=True"
   ]
  },
  {
   "cell_type": "code",
   "execution_count": 4,
   "id": "d9ecc963-ef3d-45ff-9663-82e51a780392",
   "metadata": {},
   "outputs": [],
   "source": [
    "k0=asyncio.create_task(await_tasks(C))\n",
    "\n",
    "k1=asyncio.create_task(C.pipeline_caller())"
   ]
  },
  {
   "cell_type": "code",
   "execution_count": 5,
   "id": "98445a91-74ee-4662-be7d-300fb1c7aa6c",
   "metadata": {},
   "outputs": [
    {
     "ename": "SyntaxError",
     "evalue": "'break' outside loop (668683560.py, line 1)",
     "output_type": "error",
     "traceback": [
      "\u001b[0;36m  File \u001b[0;32m\"/tmp/ipykernel_1684/668683560.py\"\u001b[0;36m, line \u001b[0;32m1\u001b[0m\n\u001b[0;31m    break\u001b[0m\n\u001b[0m    ^\u001b[0m\n\u001b[0;31mSyntaxError\u001b[0m\u001b[0;31m:\u001b[0m 'break' outside loop\n"
     ]
    }
   ],
   "source": [
    "break"
   ]
  },
  {
   "cell_type": "code",
   "execution_count": 6,
   "id": "052d32d6-9e4c-464b-925a-00cfbbf63cf9",
   "metadata": {},
   "outputs": [
    {
     "data": {
      "text/plain": [
       "True"
      ]
     },
     "execution_count": 6,
     "metadata": {},
     "output_type": "execute_result"
    }
   ],
   "source": [
    "C.client.is_connected()"
   ]
  },
  {
   "cell_type": "code",
   "execution_count": 23,
   "id": "6aac0e6d-1669-4154-a14b-fcb1ba72e9ad",
   "metadata": {},
   "outputs": [
    {
     "data": {
      "text/plain": [
       "('0',\n",
       " {'1652990130.2035491': '0',\n",
       "  '24262': '1',\n",
       "  '25901': '2',\n",
       "  '25947': '3',\n",
       "  '28694': '4',\n",
       "  '28902': '5',\n",
       "  '30095': '6',\n",
       "  '32248': '7'})"
      ]
     },
     "execution_count": 23,
     "metadata": {},
     "output_type": "execute_result"
    }
   ],
   "source": [
    "C.pipeline.name,C.pipeline.names"
   ]
  },
  {
   "cell_type": "code",
   "execution_count": null,
   "id": "fb6eb798-0b22-4b9b-9950-1fbf69dd25e0",
   "metadata": {},
   "outputs": [],
   "source": []
  },
  {
   "cell_type": "code",
   "execution_count": null,
   "id": "ae9ff73e-018d-4037-a784-da44980e079a",
   "metadata": {},
   "outputs": [],
   "source": [
    "k1.exception()"
   ]
  },
  {
   "cell_type": "code",
   "execution_count": null,
   "id": "9dd6e21a-1be7-4d35-b393-75ea37c60c13",
   "metadata": {},
   "outputs": [],
   "source": []
  },
  {
   "cell_type": "code",
   "execution_count": null,
   "id": "4c335599-5a53-4f8d-8820-6215fa90fe4c",
   "metadata": {},
   "outputs": [],
   "source": []
  },
  {
   "cell_type": "code",
   "execution_count": null,
   "id": "2dcb6ac7-826e-4595-9548-c0356b40310c",
   "metadata": {},
   "outputs": [],
   "source": [
    "C.pipeline.state_dict"
   ]
  },
  {
   "cell_type": "code",
   "execution_count": null,
   "id": "580bb4a3-8055-4665-9b71-5e558fb04f7b",
   "metadata": {},
   "outputs": [],
   "source": [
    "C.subscribed"
   ]
  },
  {
   "cell_type": "code",
   "execution_count": null,
   "id": "f92f4fba-d174-4117-a3c3-62cfd0fa53b2",
   "metadata": {},
   "outputs": [],
   "source": [
    "k0.exception()"
   ]
  },
  {
   "cell_type": "code",
   "execution_count": null,
   "id": "7fa65cc0-a235-4d8c-a2ba-551a65840637",
   "metadata": {},
   "outputs": [],
   "source": [
    "C.pipeline.state_dict"
   ]
  },
  {
   "cell_type": "code",
   "execution_count": null,
   "id": "3a017616-79cb-462c-b325-ed788410cda1",
   "metadata": {},
   "outputs": [],
   "source": [
    "C.pipeline.func_list"
   ]
  },
  {
   "cell_type": "code",
   "execution_count": null,
   "id": "d15996ad-f3d3-486d-a765-987adcef8f96",
   "metadata": {},
   "outputs": [],
   "source": [
    "break"
   ]
  },
  {
   "cell_type": "code",
   "execution_count": 24,
   "id": "8d0a8fcb-bcfc-4a73-8920-ac922d00dbe5",
   "metadata": {},
   "outputs": [
    {
     "name": "stdout",
     "output_type": "stream",
     "text": [
      "Have a message that is (lastwill,b'32248')\n",
      "is recieved\n",
      "grieving\n",
      "Have a message that is (lastwill,b'32248')\n",
      "is recieved\n",
      "grieving\n",
      "not_supposed\n"
     ]
    }
   ],
   "source": [
    "C.publish(\"7/close\",\"go\")"
   ]
  },
  {
   "cell_type": "code",
   "execution_count": 19,
   "id": "df9e1833-cb98-4fd7-8abb-2bcf68c3040e",
   "metadata": {},
   "outputs": [],
   "source": [
    "C.publish(\"6/exec\",\"print('hihi')\")"
   ]
  },
  {
   "cell_type": "code",
   "execution_count": null,
   "id": "fda09dfd-b28b-4c5a-81e9-d6d6628bbdd5",
   "metadata": {},
   "outputs": [],
   "source": []
  },
  {
   "cell_type": "code",
   "execution_count": null,
   "id": "4a12900b-2f9c-4aec-9c5e-cb32a61c274a",
   "metadata": {},
   "outputs": [],
   "source": [
    "break"
   ]
  },
  {
   "cell_type": "code",
   "execution_count": null,
   "id": "a2c7e263-5673-4f88-9365-6c75abf87c3b",
   "metadata": {},
   "outputs": [],
   "source": [
    "await await_tasks(C)"
   ]
  },
  {
   "cell_type": "code",
   "execution_count": null,
   "id": "b278a834-8fdf-4fd6-93fe-aac10e853599",
   "metadata": {},
   "outputs": [],
   "source": []
  },
  {
   "cell_type": "code",
   "execution_count": null,
   "id": "65d7b904-d262-4ec4-898b-6ac0095f9be9",
   "metadata": {},
   "outputs": [],
   "source": []
  },
  {
   "cell_type": "code",
   "execution_count": null,
   "id": "3289ec2a-00c9-464b-8f8e-94671aaee263",
   "metadata": {},
   "outputs": [],
   "source": []
  }
 ],
 "metadata": {
  "kernelspec": {
   "display_name": "Python 3 (ipykernel)",
   "language": "python",
   "name": "python3"
  },
  "language_info": {
   "codemirror_mode": {
    "name": "ipython",
    "version": 3
   },
   "file_extension": ".py",
   "mimetype": "text/x-python",
   "name": "python",
   "nbconvert_exporter": "python",
   "pygments_lexer": "ipython3",
   "version": "3.9.7"
  }
 },
 "nbformat": 4,
 "nbformat_minor": 5
}
