{
 "cells": [
  {
   "cell_type": "code",
   "execution_count": 1,
   "id": "e938d372-0466-4232-b4d2-21b771b7eb9f",
   "metadata": {},
   "outputs": [],
   "source": [
    "# TODO:need to test confilct (same name)"
   ]
  },
  {
   "cell_type": "code",
   "execution_count": 2,
   "id": "1331e8f9-8dce-4691-8d88-532fb47f5ee0",
   "metadata": {},
   "outputs": [
    {
     "name": "stdout",
     "output_type": "stream",
     "text": [
      "ControlA:Connected with result code 0\n"
     ]
    }
   ],
   "source": [
    "%run auto_name.ipynb"
   ]
  },
  {
   "cell_type": "code",
   "execution_count": 3,
   "id": "437bdf29-d6a6-497b-913b-ee149b53d962",
   "metadata": {},
   "outputs": [],
   "source": [
    "k0=asyncio.create_task(await_tasks(C))"
   ]
  },
  {
   "cell_type": "code",
   "execution_count": 4,
   "id": "698263bb-d2ed-4f7c-b5d7-0194ec8cef5c",
   "metadata": {},
   "outputs": [],
   "source": [
    "k1=asyncio.create_task(C.pipeline_caller())"
   ]
  },
  {
   "cell_type": "code",
   "execution_count": 6,
   "id": "6aac0e6d-1669-4154-a14b-fcb1ba72e9ad",
   "metadata": {},
   "outputs": [
    {
     "data": {
      "text/plain": [
       "'0'"
      ]
     },
     "execution_count": 6,
     "metadata": {},
     "output_type": "execute_result"
    }
   ],
   "source": [
    "C.pipeline.name"
   ]
  },
  {
   "cell_type": "code",
   "execution_count": 7,
   "id": "9dd6e21a-1be7-4d35-b393-75ea37c60c13",
   "metadata": {},
   "outputs": [
    {
     "data": {
      "text/plain": [
       "{'0'}"
      ]
     },
     "execution_count": 7,
     "metadata": {},
     "output_type": "execute_result"
    },
    {
     "name": "stdout",
     "output_type": "stream",
     "text": [
      "let's GO\n"
     ]
    }
   ],
   "source": [
    "C.pipeline.names"
   ]
  },
  {
   "cell_type": "code",
   "execution_count": 8,
   "id": "2dcb6ac7-826e-4595-9548-c0356b40310c",
   "metadata": {},
   "outputs": [
    {
     "data": {
      "text/plain": [
       "defaultdict(collections.deque,\n",
       "            {'names': deque([]), 'name': deque([]), 'requests_all': deque([])})"
      ]
     },
     "execution_count": 8,
     "metadata": {},
     "output_type": "execute_result"
    }
   ],
   "source": [
    "C.pipeline.state_dict"
   ]
  },
  {
   "cell_type": "code",
   "execution_count": 9,
   "id": "580bb4a3-8055-4665-9b71-5e558fb04f7b",
   "metadata": {},
   "outputs": [
    {
     "data": {
      "text/plain": [
       "['names', 'requests_all', '0', 'name', '0/#']"
      ]
     },
     "execution_count": 9,
     "metadata": {},
     "output_type": "execute_result"
    }
   ],
   "source": [
    "C.subscribed"
   ]
  },
  {
   "cell_type": "code",
   "execution_count": 11,
   "id": "f92f4fba-d174-4117-a3c3-62cfd0fa53b2",
   "metadata": {},
   "outputs": [],
   "source": [
    "k0.exception()"
   ]
  },
  {
   "cell_type": "code",
   "execution_count": 12,
   "id": "ae9ff73e-018d-4037-a784-da44980e079a",
   "metadata": {},
   "outputs": [
    {
     "ename": "InvalidStateError",
     "evalue": "Exception is not set.",
     "output_type": "error",
     "traceback": [
      "\u001b[0;31m---------------------------------------------------------------------------\u001b[0m",
      "\u001b[0;31mInvalidStateError\u001b[0m                         Traceback (most recent call last)",
      "\u001b[0;32m/tmp/ipykernel_4088/2419051063.py\u001b[0m in \u001b[0;36m<module>\u001b[0;34m\u001b[0m\n\u001b[0;32m----> 1\u001b[0;31m \u001b[0mk1\u001b[0m\u001b[0;34m.\u001b[0m\u001b[0mexception\u001b[0m\u001b[0;34m(\u001b[0m\u001b[0;34m)\u001b[0m\u001b[0;34m\u001b[0m\u001b[0;34m\u001b[0m\u001b[0m\n\u001b[0m",
      "\u001b[0;31mInvalidStateError\u001b[0m: Exception is not set."
     ]
    },
    {
     "name": "stdout",
     "output_type": "stream",
     "text": [
      "always using pickle as protocol\n",
      "hihi 0/1 thing\n"
     ]
    }
   ],
   "source": [
    "k1.exception()"
   ]
  },
  {
   "cell_type": "code",
   "execution_count": 10,
   "id": "7fa65cc0-a235-4d8c-a2ba-551a65840637",
   "metadata": {},
   "outputs": [
    {
     "data": {
      "text/plain": [
       "defaultdict(collections.deque,\n",
       "            {'names': deque([]), 'name': deque([]), 'requests_all': deque([])})"
      ]
     },
     "execution_count": 10,
     "metadata": {},
     "output_type": "execute_result"
    }
   ],
   "source": [
    "C.pipeline.state_dict"
   ]
  },
  {
   "cell_type": "code",
   "execution_count": null,
   "id": "3a017616-79cb-462c-b325-ed788410cda1",
   "metadata": {},
   "outputs": [],
   "source": []
  },
  {
   "cell_type": "code",
   "execution_count": null,
   "id": "8d0a8fcb-bcfc-4a73-8920-ac922d00dbe5",
   "metadata": {},
   "outputs": [],
   "source": []
  }
 ],
 "metadata": {
  "kernelspec": {
   "display_name": "Python 3 (ipykernel)",
   "language": "python",
   "name": "python3"
  },
  "language_info": {
   "codemirror_mode": {
    "name": "ipython",
    "version": 3
   },
   "file_extension": ".py",
   "mimetype": "text/x-python",
   "name": "python",
   "nbconvert_exporter": "python",
   "pygments_lexer": "ipython3",
   "version": "3.9.7"
  }
 },
 "nbformat": 4,
 "nbformat_minor": 5
}
