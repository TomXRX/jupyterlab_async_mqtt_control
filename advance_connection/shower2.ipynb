{
 "cells": [
  {
   "cell_type": "code",
   "execution_count": 1,
   "id": "e938d372-0466-4232-b4d2-21b771b7eb9f",
   "metadata": {},
   "outputs": [],
   "source": [
    "# TODO:need to test confilct (same name)"
   ]
  },
  {
   "cell_type": "code",
   "execution_count": 2,
   "id": "1331e8f9-8dce-4691-8d88-532fb47f5ee0",
   "metadata": {},
   "outputs": [
    {
     "name": "stdout",
     "output_type": "stream",
     "text": [
      "\n",
      "    be aware that names are not updated.\n",
      "    names can get very long if not having a full rest, with every client restart.\n",
      "    \n",
      "    \n",
      "ControlA:Connected with result code 0\n"
     ]
    }
   ],
   "source": [
    "%run auto_name.ipynb"
   ]
  },
  {
   "cell_type": "code",
   "execution_count": 3,
   "id": "437bdf29-d6a6-497b-913b-ee149b53d962",
   "metadata": {},
   "outputs": [],
   "source": [
    "k0=asyncio.create_task(await_tasks(C))"
   ]
  },
  {
   "cell_type": "code",
   "execution_count": 4,
   "id": "698263bb-d2ed-4f7c-b5d7-0194ec8cef5c",
   "metadata": {},
   "outputs": [],
   "source": [
    "k1=asyncio.create_task(C.pipeline_caller())"
   ]
  },
  {
   "cell_type": "code",
   "execution_count": 8,
   "id": "6aac0e6d-1669-4154-a14b-fcb1ba72e9ad",
   "metadata": {},
   "outputs": [
    {
     "data": {
      "text/plain": [
       "'2'"
      ]
     },
     "execution_count": 8,
     "metadata": {},
     "output_type": "execute_result"
    }
   ],
   "source": [
    "C.pipeline.name"
   ]
  },
  {
   "cell_type": "code",
   "execution_count": 9,
   "id": "9dd6e21a-1be7-4d35-b393-75ea37c60c13",
   "metadata": {},
   "outputs": [
    {
     "data": {
      "text/plain": [
       "{'0', '1', '2', '3', '4'}"
      ]
     },
     "execution_count": 9,
     "metadata": {},
     "output_type": "execute_result"
    }
   ],
   "source": [
    "C.pipeline.names"
   ]
  },
  {
   "cell_type": "code",
   "execution_count": null,
   "id": "2dcb6ac7-826e-4595-9548-c0356b40310c",
   "metadata": {},
   "outputs": [],
   "source": [
    "C.pipeline.state_dict"
   ]
  },
  {
   "cell_type": "code",
   "execution_count": null,
   "id": "580bb4a3-8055-4665-9b71-5e558fb04f7b",
   "metadata": {},
   "outputs": [],
   "source": [
    "C.subscribed"
   ]
  },
  {
   "cell_type": "code",
   "execution_count": null,
   "id": "f92f4fba-d174-4117-a3c3-62cfd0fa53b2",
   "metadata": {},
   "outputs": [],
   "source": [
    "k0.exception()"
   ]
  },
  {
   "cell_type": "code",
   "execution_count": null,
   "id": "ae9ff73e-018d-4037-a784-da44980e079a",
   "metadata": {},
   "outputs": [],
   "source": [
    "k1.exception()"
   ]
  },
  {
   "cell_type": "code",
   "execution_count": null,
   "id": "7fa65cc0-a235-4d8c-a2ba-551a65840637",
   "metadata": {},
   "outputs": [],
   "source": [
    "C.pipeline.state_dict"
   ]
  },
  {
   "cell_type": "code",
   "execution_count": null,
   "id": "3a017616-79cb-462c-b325-ed788410cda1",
   "metadata": {},
   "outputs": [],
   "source": [
    "C.pipeline.func_list"
   ]
  },
  {
   "cell_type": "code",
   "execution_count": null,
   "id": "d15996ad-f3d3-486d-a765-987adcef8f96",
   "metadata": {},
   "outputs": [],
   "source": [
    "break"
   ]
  },
  {
   "cell_type": "code",
   "execution_count": 17,
   "id": "8d0a8fcb-bcfc-4a73-8920-ac922d00dbe5",
   "metadata": {},
   "outputs": [],
   "source": [
    "C.publish(\"7/set_str\",\"go\")"
   ]
  },
  {
   "cell_type": "code",
   "execution_count": null,
   "id": "fda09dfd-b28b-4c5a-81e9-d6d6628bbdd5",
   "metadata": {},
   "outputs": [],
   "source": []
  }
 ],
 "metadata": {
  "kernelspec": {
   "display_name": "Python 3 (ipykernel)",
   "language": "python",
   "name": "python3"
  },
  "language_info": {
   "codemirror_mode": {
    "name": "ipython",
    "version": 3
   },
   "file_extension": ".py",
   "mimetype": "text/x-python",
   "name": "python",
   "nbconvert_exporter": "python",
   "pygments_lexer": "ipython3",
   "version": "3.9.7"
  }
 },
 "nbformat": 4,
 "nbformat_minor": 5
}
