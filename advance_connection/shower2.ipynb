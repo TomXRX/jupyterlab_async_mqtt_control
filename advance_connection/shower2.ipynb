{
 "cells": [
  {
   "cell_type": "code",
   "execution_count": 1,
   "id": "e938d372-0466-4232-b4d2-21b771b7eb9f",
   "metadata": {},
   "outputs": [],
   "source": [
    "# TODO:need to test confilct (same name)"
   ]
  },
  {
   "cell_type": "code",
   "execution_count": 2,
   "id": "1331e8f9-8dce-4691-8d88-532fb47f5ee0",
   "metadata": {},
   "outputs": [
    {
     "name": "stdout",
     "output_type": "stream",
     "text": [
      "ControlA:Connected with result code 0\n"
     ]
    }
   ],
   "source": [
    "%run auto_name.ipynb"
   ]
  },
  {
   "cell_type": "code",
   "execution_count": 3,
   "id": "9514fb7d-ac34-4ae0-91f3-02adee0618f8",
   "metadata": {},
   "outputs": [
    {
     "name": "stdout",
     "output_type": "stream",
     "text": [
      "Have a message that is (names,b'[\"0\"]')\n",
      "is recieved\n",
      "Have a message that is (1,b'\"I should be first and only.\"')\n"
     ]
    },
    {
     "data": {
      "text/plain": [
       "True"
      ]
     },
     "execution_count": 3,
     "metadata": {},
     "output_type": "execute_result"
    }
   ],
   "source": [
    "await await_tasks(C)"
   ]
  },
  {
   "cell_type": "code",
   "execution_count": null,
   "id": "1ea3e70b-2c0f-495e-95ee-e849a17cbc46",
   "metadata": {},
   "outputs": [],
   "source": [
    "await C.pipeline_caller()"
   ]
  },
  {
   "cell_type": "code",
   "execution_count": null,
   "id": "6aac0e6d-1669-4154-a14b-fcb1ba72e9ad",
   "metadata": {},
   "outputs": [],
   "source": [
    "C.pipeline.name"
   ]
  },
  {
   "cell_type": "code",
   "execution_count": null,
   "id": "9dd6e21a-1be7-4d35-b393-75ea37c60c13",
   "metadata": {},
   "outputs": [],
   "source": [
    "C.pipeline.names"
   ]
  },
  {
   "cell_type": "code",
   "execution_count": null,
   "id": "2dcb6ac7-826e-4595-9548-c0356b40310c",
   "metadata": {},
   "outputs": [],
   "source": [
    "C.pipeline.state_dict"
   ]
  },
  {
   "cell_type": "code",
   "execution_count": null,
   "id": "f92f4fba-d174-4117-a3c3-62cfd0fa53b2",
   "metadata": {},
   "outputs": [],
   "source": []
  }
 ],
 "metadata": {
  "kernelspec": {
   "display_name": "Python 3 (ipykernel)",
   "language": "python",
   "name": "python3"
  },
  "language_info": {
   "codemirror_mode": {
    "name": "ipython",
    "version": 3
   },
   "file_extension": ".py",
   "mimetype": "text/x-python",
   "name": "python",
   "nbconvert_exporter": "python",
   "pygments_lexer": "ipython3",
   "version": "3.9.7"
  }
 },
 "nbformat": 4,
 "nbformat_minor": 5
}
