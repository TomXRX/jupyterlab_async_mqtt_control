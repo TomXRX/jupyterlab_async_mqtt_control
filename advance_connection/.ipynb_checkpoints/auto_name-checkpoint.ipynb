{
 "cells": [
  {
   "cell_type": "code",
   "execution_count": 7,
   "id": "ae380a08-76fc-4a88-91ac-ba9106e832a4",
   "metadata": {},
   "outputs": [],
   "source": [
    "#not random, just number sequence\n",
    "#1: request others name and record name (ask everyone?)\n",
    "#2: generate its own name, publish it to let others confirm there is no conflicts\n",
    "#3: one own channel is created, if no confilct, json format reading.\n",
    "#3: if conflict, random a number to wait on their \"own\" chanel, and claim it as its own. the other start from 1.\n",
    "#4: in their own channel, when other want to send some special message like raw data, a new channel is created.\n",
    "#4: may have two different channel to send and recieve data for a client. "
   ]
  },
  {
   "cell_type": "code",
   "execution_count": null,
   "id": "94943758-d124-41d1-97ba-c968fd7e1bff",
   "metadata": {},
   "outputs": [],
   "source": []
  },
  {
   "cell_type": "code",
   "execution_count": 1,
   "id": "0e3954dd-1471-4442-ba0a-fa88dc48a53f",
   "metadata": {},
   "outputs": [],
   "source": [
    "%run util_py_2.ipynb"
   ]
  },
  {
   "cell_type": "code",
   "execution_count": 20,
   "id": "121befdc-575f-49d6-b6a1-9d2024911169",
   "metadata": {},
   "outputs": [],
   "source": [
    "from collections import defaultdict,deque\n",
    "import asyncio\n",
    "class ControlA(ControlAdvance):\n",
    "    def on_connect(self,client, userdata, flags, rc):\n",
    "        print(\"ControlA:Connected with result code \"+str(rc))\n",
    "        client.subscribe(\"control\")\n",
    "    def subscribe(self,get:str):\n",
    "        self.client.subscribe(get)\n",
    "    \n",
    "    def pipeline_checker(self,topic):\n",
    "        #decrypted\n",
    "        #should let others give a callback to it then let it use caller when state updated.\n",
    "        #TODO:\n",
    "        #I mean, it's good to do, but writing this kind of function is a little bit mind blowing.\n",
    "        return self.pipeline.state_dict[topic]\n",
    "    \n",
    "    new_message=0\n",
    "    def on_message(self,client,userdata,msg):\n",
    "        self.pipeline(msg.topic,msg.payload)\n",
    "        self.new_message+=1\n",
    "        \n",
    "    async def pipeline_caller(self):\n",
    "        while 1:\n",
    "            if self.new_message:\n",
    "                self.new_message-=1\n",
    "            else:\n",
    "                await asyncio.sleep(0.001)\n",
    "                continue\n",
    "            for key,item in self.pipline.state_dict.items():\n",
    "                if len(item):\n",
    "                    if hasattr(self,key):\n",
    "                        g=getattr(self,key)\n",
    "                        g(self,self.pipeline,item.popleft())\n",
    "\n",
    "    def update(self):\n",
    "        self.pipeline_caller()\n",
    "                    \n",
    "    def requests_all(self,things):\n",
    "        for func in self.requests_func_list:\n",
    "            ret=func(self,self.pipeline,things)\n",
    "            if ret is None:continue\n",
    "            return ret\n",
    "    \n",
    "    class Channel:\n",
    "        json=False\n",
    "        auto_define=True\n",
    "        sended=False\n",
    "    \n",
    "    sended_warned=0\n",
    "    channels=defaultdict(Channel)\n",
    "    def on_message(self,client,userdata,msg):\n",
    "        topic=msg.topic\n",
    "        payload=msg.payload\n",
    "        \n",
    "        channel=self.channels[topic]\n",
    "        if channel.auto_define and not self.sended_warned and not channel.sended:\n",
    "            print(\"impossible to auto_define without sending data first\")\n",
    "            self.sended_warned=1\n",
    "        if channel.json:\n",
    "            import json\n",
    "            payload=json.loads(payload.decode())\n",
    "            return self.pipeline(topic,payload)\n",
    "        return self.pipeline(topic,payload)\n",
    "        \n",
    "        \n",
    "    def publish(self,topic,payload):\n",
    "        def json_transform(payload):\n",
    "            import json\n",
    "            return json.dumps(payload).encode()\n",
    "        channel=self.channels[topic]\n",
    "        \n",
    "        if channel.auto_define and not channel.sended:\n",
    "            channel.json=not payload is bytes\n",
    "            \n",
    "        \n",
    "        if channel.json:\n",
    "            payload=json_transform(payload)\n",
    "        self.client.publish(topic,payload)\n",
    "        \n",
    "        channel.sended=True\n",
    "        \n",
    "        "
   ]
  },
  {
   "cell_type": "code",
   "execution_count": 3,
   "id": "57575465-6cbd-41b2-b2b4-06c497ab81cf",
   "metadata": {},
   "outputs": [
    {
     "name": "stdout",
     "output_type": "stream",
     "text": [
      "ControlA:Connected with result code 0\n"
     ]
    }
   ],
   "source": [
    "C=ControlA()"
   ]
  },
  {
   "cell_type": "code",
   "execution_count": null,
   "id": "600a1b4c-e6e1-465b-92f2-e001f0e691c6",
   "metadata": {},
   "outputs": [],
   "source": []
  },
  {
   "cell_type": "code",
   "execution_count": 44,
   "id": "bfb75911-c525-410a-9fdb-b9bcd2036807",
   "metadata": {},
   "outputs": [
    {
     "data": {
      "text/plain": [
       "True"
      ]
     },
     "execution_count": 44,
     "metadata": {},
     "output_type": "execute_result"
    }
   ],
   "source": [
    "type(b\"\") is bytes"
   ]
  },
  {
   "cell_type": "code",
   "execution_count": null,
   "id": "60815596-464a-4097-8e90-d78d429ae5fb",
   "metadata": {},
   "outputs": [],
   "source": []
  },
  {
   "cell_type": "code",
   "execution_count": null,
   "id": "bae84d63-0825-4956-aa03-a332932cd476",
   "metadata": {},
   "outputs": [],
   "source": []
  },
  {
   "cell_type": "code",
   "execution_count": 7,
   "id": "525eafd2-f3ab-422f-b036-95195718c637",
   "metadata": {},
   "outputs": [],
   "source": [
    "def name_iterator(name_list):\n",
    "    for i in range(int(10e5)):\n",
    "        i=str(i)\n",
    "        if i not in name_list:\n",
    "            return i"
   ]
  },
  {
   "cell_type": "code",
   "execution_count": null,
   "id": "b3f6516e-0ace-4d1d-b4e8-4ddbd6aee4b1",
   "metadata": {},
   "outputs": [],
   "source": []
  },
  {
   "cell_type": "code",
   "execution_count": 19,
   "id": "5c4559df-1f99-4fd3-884d-feb608641965",
   "metadata": {},
   "outputs": [
    {
     "name": "stdout",
     "output_type": "stream",
     "text": [
      "1231"
     ]
    }
   ],
   "source": [
    "for i in set([\"1\",1,\"1\",1,2,3]):\n",
    "    print(i,end=\"\")"
   ]
  },
  {
   "cell_type": "code",
   "execution_count": 36,
   "id": "9d81c33a-0353-48a6-b64a-aaf058400f4b",
   "metadata": {},
   "outputs": [
    {
     "data": {
      "text/plain": [
       "b'\\xf0\\x9f\\x8c\\xbb'"
      ]
     },
     "execution_count": 36,
     "metadata": {},
     "output_type": "execute_result"
    }
   ],
   "source": [
    "\"🌻\".encode()"
   ]
  },
  {
   "cell_type": "code",
   "execution_count": 41,
   "id": "8e0e9fc7-0667-4aad-8b68-49d8d58d99a7",
   "metadata": {},
   "outputs": [
    {
     "data": {
      "text/plain": [
       "1"
      ]
     },
     "execution_count": 41,
     "metadata": {},
     "output_type": "execute_result"
    }
   ],
   "source": [
    "import json\n",
    "json.loads(json.dumps(1))"
   ]
  },
  {
   "cell_type": "code",
   "execution_count": null,
   "id": "3f2d426e-62f0-4788-866b-09294ab369b5",
   "metadata": {},
   "outputs": [],
   "source": []
  },
  {
   "cell_type": "code",
   "execution_count": null,
   "id": "934cb256-5f95-480a-be27-845965d43562",
   "metadata": {},
   "outputs": [],
   "source": [
    "def names(C,S,things):\n",
    "    if not things==\"names\":return\n",
    "    C.client.publish(\"names\",C.names)\n",
    "    \n",
    "C.requests_func_list.append(names)"
   ]
  },
  {
   "cell_type": "code",
   "execution_count": null,
   "id": "09f3ca68-3ab6-48ab-8951-2b5b70f0fabc",
   "metadata": {},
   "outputs": [],
   "source": []
  },
  {
   "cell_type": "code",
   "execution_count": 8,
   "id": "3299b7ba-30fa-44c9-bf13-1cfdc9139d1b",
   "metadata": {},
   "outputs": [],
   "source": [
    "import asyncio\n",
    "async def task_1(C,S):\n",
    "    #1: request others name and record name (ask everyone?)\n",
    "    C.subscribe(\"names\")\n",
    "    C.publish(\"requests_all\",\"names\")\n",
    "    # get_others requested name\n",
    "    await asyncio.sleep(1)\n",
    "    li=C.pipeline_checker(\"names\")\n",
    "    eli=[]\n",
    "    haved_len=0\n",
    "    for i in range(len(li)):\n",
    "        lii=li.pop()\n",
    "        eli.extend(lii)\n",
    "        if haved_len!=len(lii):\n",
    "            if haved_len==0:\n",
    "                haved_len=len(lii)\n",
    "            else:\n",
    "                print(\"not identical name list, should be error\")\n",
    "                print(lii,haved_len)\n",
    "                print(\"=\"*20)\n",
    "    S.names=set(eli)\n",
    "    "
   ]
  },
  {
   "cell_type": "code",
   "execution_count": null,
   "id": "ba168dc5-787b-4302-aa42-13d70b20e9c1",
   "metadata": {},
   "outputs": [],
   "source": []
  },
  {
   "cell_type": "code",
   "execution_count": 51,
   "id": "6b499235-de53-4250-9a31-cfca04ad03b3",
   "metadata": {},
   "outputs": [
    {
     "data": {
      "text/plain": [
       "({1, 2, 3}, True)"
      ]
     },
     "execution_count": 51,
     "metadata": {},
     "output_type": "execute_result"
    }
   ],
   "source": [
    "s=set((1,2))\n",
    "s.add(3)\n",
    "s,3 in s"
   ]
  },
  {
   "cell_type": "code",
   "execution_count": null,
   "id": "7e1502c9-4c12-4b59-bfae-c478ef2940d6",
   "metadata": {},
   "outputs": [],
   "source": []
  },
  {
   "cell_type": "code",
   "execution_count": 45,
   "id": "6aa92507-e9fc-4c8f-beb9-b0cb53a259dd",
   "metadata": {},
   "outputs": [],
   "source": [
    "def record_names(C,S,things):\n",
    "    if not things==\"name\":return\n",
    "    \n",
    "    if  S.names:\n",
    "        \n",
    "        C.publish(S.name,\"name already taken\")\n",
    "    S.names.add()\n",
    "    \n",
    "C.append(record_names)\n",
    "\n",
    "\n",
    "async def task_2(C,S):\n",
    "    #2: generate its own name, publish it to let others confirm there is no conflicts\n",
    "    C.subscribe(\"requests_all\")\n",
    "    S.name=name_iterator(S.names)\n",
    "    \n",
    "    C.publish(\"name\",S.name)\n",
    "    C.subscribe(\"name\")\n",
    "\n",
    "    await asyncio.sleep(1)\n",
    "    \n",
    "    #3: one own channel is created, for reciving data.\n",
    "    C.publish(S.name,\"I should be first and only.\")\n",
    "    C.subscribe(S.name)\n",
    "    await asyncio.sleep(1)\n",
    "    \n",
    "    \n",
    "    \n",
    "    "
   ]
  },
  {
   "cell_type": "code",
   "execution_count": null,
   "id": "d5aefa2c-9601-4651-858d-1a603365b516",
   "metadata": {},
   "outputs": [],
   "source": [
    "async def task_3(C,S):\n",
    "    #3:  if no confilct, json format reading.\n",
    "    \n",
    "    \n",
    "    \n",
    "    "
   ]
  },
  {
   "cell_type": "code",
   "execution_count": null,
   "id": "ae71b3b7-5325-4bfe-8f74-dc896001cd08",
   "metadata": {},
   "outputs": [],
   "source": []
  },
  {
   "cell_type": "code",
   "execution_count": null,
   "id": "e45b1dee-adbd-4c5c-96c3-1a061c5b0b58",
   "metadata": {},
   "outputs": [],
   "source": [
    "async def\n",
    "\n"
   ]
  },
  {
   "cell_type": "code",
   "execution_count": null,
   "id": "2988ff5d-6ea0-45aa-b101-b0564129b530",
   "metadata": {},
   "outputs": [],
   "source": [
    "def name_checker(name_list,):\n",
    "    "
   ]
  },
  {
   "cell_type": "code",
   "execution_count": null,
   "id": "49d7c213-a3c0-47f8-9ecc-7e9ed3080323",
   "metadata": {},
   "outputs": [],
   "source": []
  },
  {
   "cell_type": "code",
   "execution_count": null,
   "id": "7fa204f8-dbb8-4f30-9643-860396fbd879",
   "metadata": {},
   "outputs": [],
   "source": [
    "class StateMachine:\n",
    "    def __init__(self,):\n",
    "        ...\n",
    "    def state(self,):\n",
    "        ...\n",
    "    def next_step(self,):\n",
    "        ...\n",
    "    "
   ]
  },
  {
   "cell_type": "code",
   "execution_count": null,
   "id": "d5df707a-8695-4eb9-a94d-ea0654271e3c",
   "metadata": {},
   "outputs": [],
   "source": []
  },
  {
   "cell_type": "code",
   "execution_count": null,
   "id": "754fd643-f93a-477a-9af9-2c7f5f8fb293",
   "metadata": {},
   "outputs": [],
   "source": []
  },
  {
   "cell_type": "code",
   "execution_count": 9,
   "id": "a3858992-0406-4660-b571-ed6c9689cac6",
   "metadata": {},
   "outputs": [
    {
     "name": "stdout",
     "output_type": "stream",
     "text": [
      "Connected with result code 0\n"
     ]
    }
   ],
   "source": []
  },
  {
   "cell_type": "code",
   "execution_count": null,
   "id": "6eff44c4-c15f-48b4-9a24-07d4eed28929",
   "metadata": {},
   "outputs": [],
   "source": []
  },
  {
   "cell_type": "code",
   "execution_count": null,
   "id": "9897bf53-7402-4130-bf85-852afb1f91b6",
   "metadata": {},
   "outputs": [],
   "source": []
  },
  {
   "cell_type": "code",
   "execution_count": null,
   "id": "981f464e-15fd-4872-b189-d177400114b3",
   "metadata": {},
   "outputs": [],
   "source": []
  }
 ],
 "metadata": {
  "kernelspec": {
   "display_name": "Python 3 (ipykernel)",
   "language": "python",
   "name": "python3"
  },
  "language_info": {
   "codemirror_mode": {
    "name": "ipython",
    "version": 3
   },
   "file_extension": ".py",
   "mimetype": "text/x-python",
   "name": "python",
   "nbconvert_exporter": "python",
   "pygments_lexer": "ipython3",
   "version": "3.9.7"
  }
 },
 "nbformat": 4,
 "nbformat_minor": 5
}
