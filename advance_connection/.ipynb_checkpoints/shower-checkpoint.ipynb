{
 "cells": [
  {
   "cell_type": "code",
   "execution_count": 1,
   "id": "38b1a21f-985a-4c5a-ac5d-280a2aaafc2c",
   "metadata": {},
   "outputs": [],
   "source": [
    "#TODO:对称链接。\n",
    "#即，有一个自己的按钮，然后有几个别人的按钮"
   ]
  },
  {
   "cell_type": "code",
   "execution_count": 2,
   "id": "1919152f-824c-41bc-96f6-18296e79fc0f",
   "metadata": {},
   "outputs": [
    {
     "name": "stdout",
     "output_type": "stream",
     "text": [
      "ControlA:Connected with result code 0\n"
     ]
    }
   ],
   "source": [
    "%run auto_name.ipynb"
   ]
  },
  {
   "cell_type": "code",
   "execution_count": 3,
   "id": "f1c71f88-d7b4-4ca1-ac2d-537de379d482",
   "metadata": {},
   "outputs": [
    {
     "data": {
      "text/plain": [
       "<__main__.ControlA at 0x7ff5285836a0>"
      ]
     },
     "execution_count": 3,
     "metadata": {},
     "output_type": "execute_result"
    }
   ],
   "source": [
    "C"
   ]
  },
  {
   "cell_type": "code",
   "execution_count": 4,
   "id": "437bdf29-d6a6-497b-913b-ee149b53d962",
   "metadata": {},
   "outputs": [],
   "source": [
    "k0=asyncio.create_task(await_tasks(C))"
   ]
  },
  {
   "cell_type": "code",
   "execution_count": 5,
   "id": "698263bb-d2ed-4f7c-b5d7-0194ec8cef5c",
   "metadata": {},
   "outputs": [],
   "source": [
    "k1=asyncio.create_task(C.pipeline_caller())"
   ]
  },
  {
   "cell_type": "code",
   "execution_count": null,
   "id": "03ae381e-43c0-4bfa-964b-22b3789e476f",
   "metadata": {},
   "outputs": [],
   "source": []
  },
  {
   "cell_type": "code",
   "execution_count": 6,
   "id": "6e02e697-7856-4deb-8979-6e87fb64556e",
   "metadata": {},
   "outputs": [
    {
     "data": {
      "text/plain": [
       "defaultdict(collections.deque, {})"
      ]
     },
     "execution_count": 6,
     "metadata": {},
     "output_type": "execute_result"
    }
   ],
   "source": [
    "C.pipeline.state_dict"
   ]
  },
  {
   "cell_type": "code",
   "execution_count": 7,
   "id": "95ddbc38-3678-48f5-a76e-8b6c0b19be92",
   "metadata": {},
   "outputs": [
    {
     "data": {
      "text/plain": [
       "[<function __main__.names(C, S, topic, payload)>,\n",
       " <function __main__.record_names(C, S, topic, payload)>,\n",
       " <function __main__.respond_names(C, S, topic, payload)>,\n",
       " <function __main__.recv_data(C, S, topic, payload)>]"
      ]
     },
     "execution_count": 7,
     "metadata": {},
     "output_type": "execute_result"
    }
   ],
   "source": [
    "C.requests_func_list"
   ]
  },
  {
   "cell_type": "code",
   "execution_count": 9,
   "id": "772a76a5-4477-4ba4-a083-79b98b015f18",
   "metadata": {},
   "outputs": [
    {
     "data": {
      "text/plain": [
       "{'0', '1'}"
      ]
     },
     "execution_count": 9,
     "metadata": {},
     "output_type": "execute_result"
    }
   ],
   "source": [
    "C.pipeline.names"
   ]
  },
  {
   "cell_type": "code",
   "execution_count": null,
   "id": "d1f8d052-ce6d-4f96-8117-e8db0a762b34",
   "metadata": {},
   "outputs": [],
   "source": [
    "k0.exception()"
   ]
  },
  {
   "cell_type": "code",
   "execution_count": null,
   "id": "6835560f-787b-4327-99dc-2f19b314110a",
   "metadata": {},
   "outputs": [],
   "source": [
    "k1.exception()"
   ]
  },
  {
   "cell_type": "code",
   "execution_count": null,
   "id": "3fdc4ae1-4fb9-475c-a002-33e37ae14025",
   "metadata": {},
   "outputs": [],
   "source": []
  },
  {
   "cell_type": "code",
   "execution_count": null,
   "id": "98ab7aa3-3e7a-4ad7-a2d0-1fbd3cb274d4",
   "metadata": {},
   "outputs": [],
   "source": []
  },
  {
   "cell_type": "code",
   "execution_count": null,
   "id": "df5a2915-5443-4839-957b-1bae229fb520",
   "metadata": {},
   "outputs": [],
   "source": []
  },
  {
   "cell_type": "code",
   "execution_count": null,
   "id": "dd3196cc-89e6-4088-867d-0973cd027505",
   "metadata": {},
   "outputs": [],
   "source": []
  },
  {
   "cell_type": "code",
   "execution_count": null,
   "id": "e2983ef5-f567-4042-b176-5fd87b8b261e",
   "metadata": {},
   "outputs": [
    {
     "name": "stdout",
     "output_type": "stream",
     "text": [
      "Have a message that is (requests_all,b'\"names\"')\n",
      "is recieved\n",
      "Have a message that is (names,b'[\"0\"]')\n",
      "Have a message that is (name,b'\"1\"')\n",
      "is recieved\n",
      "let's GO\n"
     ]
    }
   ],
   "source": [
    "k1.cancel()"
   ]
  },
  {
   "cell_type": "code",
   "execution_count": null,
   "id": "b162b57e-a9ad-4f87-8663-294a51d0ffaa",
   "metadata": {},
   "outputs": [],
   "source": []
  }
 ],
 "metadata": {
  "kernelspec": {
   "display_name": "Python 3 (ipykernel)",
   "language": "python",
   "name": "python3"
  },
  "language_info": {
   "codemirror_mode": {
    "name": "ipython",
    "version": 3
   },
   "file_extension": ".py",
   "mimetype": "text/x-python",
   "name": "python",
   "nbconvert_exporter": "python",
   "pygments_lexer": "ipython3",
   "version": "3.9.7"
  }
 },
 "nbformat": 4,
 "nbformat_minor": 5
}
