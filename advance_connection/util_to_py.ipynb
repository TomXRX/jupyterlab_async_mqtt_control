{
 "cells": [
  {
   "cell_type": "code",
   "execution_count": null,
   "id": "a6898a25-ea30-422e-a353-8610fa0b1c45",
   "metadata": {},
   "outputs": [],
   "source": [
    "#TODO: to do means not doing that yet. So please do not care about it.\n",
    "#TODO: micropython, one thread integration."
   ]
  },
  {
   "cell_type": "code",
   "execution_count": 5,
   "id": "0fc95c8f-04f9-4b5f-8ba2-f0fb2d3a9a73",
   "metadata": {},
   "outputs": [],
   "source": [
    "import time\n",
    "from collections import deque"
   ]
  },
  {
   "cell_type": "code",
   "execution_count": null,
   "id": "42751901-7821-4d02-8c5d-6adbf023fc78",
   "metadata": {},
   "outputs": [],
   "source": []
  },
  {
   "cell_type": "code",
   "execution_count": 8,
   "id": "9aa3fb73-2b7a-478d-b7b5-aa4fbf05197d",
   "metadata": {},
   "outputs": [],
   "source": [
    "class Control:    \n",
    "    def __init__(self,mqtt_config=(\"mqtt\",1883,(\"tom\",\"xiao\"))):\n",
    "        self.HOST,self.PORT,self.client_pw=mqtt_config\n",
    "        self.client=self.client_start()\n",
    "        self.client.loop_start()\n",
    "    \n",
    "    def client_start(self):\n",
    "        import paho.mqtt.client as mqtt\n",
    "        client = mqtt.Client(str(time.time()))\n",
    "        client.username_pw_set(*self.client_pw)\n",
    "        client.on_connect = self.on_connect\n",
    "        client.on_message = self.on_message\n",
    "        client.connect(self.HOST, self.PORT, 60)\n",
    "        return client\n",
    "\n",
    "    def on_connect(self,client, userdata, flags, rc):\n",
    "        print(\"Connected with result code \"+str(rc))\n",
    "        client.subscribe(\"control\")\n",
    "        \n",
    "    def __call__(self,*args):\n",
    "        self.publish(*args)\n",
    "        \n",
    "    def publish(self,thing):\n",
    "        self.client.publish(\"control_back\",thing)\n",
    "        \n",
    "    result=deque((),10)\n",
    "    #TODO: possible too_much\n",
    "    #to not flood result_keeper with too much out-dated info\n",
    "    def on_message(self,client, userdata, msg):\n",
    "        print(msg.payload)\n",
    "        self.result.append(msg.payload)\n",
    "        \n",
    "    def pop_result(self):\n",
    "        try:return self.result.popleft()\n",
    "        except:pass\n",
    "        "
   ]
  },
  {
   "cell_type": "code",
   "execution_count": null,
   "id": "f0825328-7e91-4617-9028-2aa8c7cb164a",
   "metadata": {},
   "outputs": [],
   "source": []
  },
  {
   "cell_type": "code",
   "execution_count": 23,
   "id": "da00ae48-29ef-41e9-81f0-13393b52db52",
   "metadata": {},
   "outputs": [],
   "source": [
    "from collections import defaultdict,deque"
   ]
  },
  {
   "cell_type": "code",
   "execution_count": 26,
   "id": "f425d65a-6552-4379-b1cf-34c727e3e84b",
   "metadata": {},
   "outputs": [],
   "source": [
    "k=defaultdict(deque)\n",
    "#only deque((),n) is micropython integratable\n",
    "#can try functools.partial"
   ]
  },
  {
   "cell_type": "code",
   "execution_count": 27,
   "id": "caee70dd-8836-492b-8b1a-4ea6f28716ff",
   "metadata": {},
   "outputs": [],
   "source": [
    "k[0].append(\"hihi\")"
   ]
  },
  {
   "cell_type": "code",
   "execution_count": 28,
   "id": "f61b5c8d-f8cf-4f8e-a533-3cf47f964f40",
   "metadata": {},
   "outputs": [
    {
     "data": {
      "text/plain": [
       "defaultdict(collections.deque, {0: deque(['hihi'])})"
      ]
     },
     "execution_count": 28,
     "metadata": {},
     "output_type": "execute_result"
    }
   ],
   "source": [
    "k"
   ]
  },
  {
   "cell_type": "code",
   "execution_count": null,
   "id": "2d42f203-ce8d-4560-90a1-cca96f44f4df",
   "metadata": {},
   "outputs": [],
   "source": []
  },
  {
   "cell_type": "code",
   "execution_count": null,
   "id": "e1472561-84a4-468a-a5c1-467fa4001844",
   "metadata": {},
   "outputs": [],
   "source": [
    "class ExecPipeline:\n",
    "    def __init__(self):\n",
    "        \"\"\"save state\n",
    "        \"\"\"\n",
    "        self.state_dict=defaultdict(deque)\n",
    "        \n",
    "    def add_thing(self,topic,data):\n",
    "        self.state_dict[topic].append(data)\n",
    "    \n",
    "    def __call__(self,*args):\n",
    "        self.add_thing(*args)\n",
    "\n",
    "class ControlAdvance(Control):\n",
    "    def __init__(self,*args,pipeline=None,**kwargs):\n",
    "        if pipeline is None:pipeline=ExecPipeline()\n",
    "        self.pipeline=pipeline\n",
    "        self.super().__init__(*args,**kwargs)\n",
    "    \n",
    "    def on_message(self,client,userdata,msg):\n",
    "        msg.topic.startwith(\"\"):\n",
    "        "
   ]
  },
  {
   "cell_type": "code",
   "execution_count": null,
   "id": "286ff2e1-9598-44f5-9c13-a69aebc16421",
   "metadata": {},
   "outputs": [],
   "source": []
  },
  {
   "cell_type": "code",
   "execution_count": null,
   "id": "36b9015a-987d-4cd5-a8b2-838942203888",
   "metadata": {},
   "outputs": [],
   "source": []
  },
  {
   "cell_type": "code",
   "execution_count": null,
   "id": "cdbb5a92-08cf-4e0d-9941-d41300c7d8ce",
   "metadata": {},
   "outputs": [],
   "source": []
  },
  {
   "cell_type": "code",
   "execution_count": null,
   "id": "602831c5-ae84-4622-af1a-dc43cc0f53db",
   "metadata": {},
   "outputs": [],
   "source": []
  },
  {
   "cell_type": "code",
   "execution_count": null,
   "id": "3c2b2cf2-11ae-4394-8b47-d3e5d8ea3ce5",
   "metadata": {},
   "outputs": [],
   "source": []
  },
  {
   "cell_type": "code",
   "execution_count": null,
   "id": "b0efd7d3-f6f1-4b52-941a-7333cdc6d895",
   "metadata": {},
   "outputs": [],
   "source": []
  },
  {
   "cell_type": "code",
   "execution_count": null,
   "id": "4e5fca69-af81-4efd-a1cf-0d62e617f6d4",
   "metadata": {},
   "outputs": [],
   "source": []
  },
  {
   "cell_type": "code",
   "execution_count": null,
   "id": "b0732fe6-b846-476f-9200-7a810a51d31f",
   "metadata": {},
   "outputs": [],
   "source": []
  },
  {
   "cell_type": "code",
   "execution_count": null,
   "id": "f902d418-d296-4cc5-b974-2fc62ef894a3",
   "metadata": {},
   "outputs": [],
   "source": []
  },
  {
   "cell_type": "code",
   "execution_count": 9,
   "id": "6a6fb17d-0258-41da-b9af-f6eef52ee3d7",
   "metadata": {},
   "outputs": [
    {
     "name": "stdout",
     "output_type": "stream",
     "text": [
      "Connected with result code 0\n"
     ]
    }
   ],
   "source": [
    "C=ControlE()"
   ]
  },
  {
   "cell_type": "code",
   "execution_count": null,
   "id": "14f3d466-b3d5-4626-8ddd-a937f7712483",
   "metadata": {},
   "outputs": [],
   "source": []
  },
  {
   "cell_type": "code",
   "execution_count": 1,
   "id": "b753ab35-b4a3-40a9-9d22-3bde71754635",
   "metadata": {},
   "outputs": [
    {
     "ename": "NameError",
     "evalue": "name 'msg' is not defined",
     "output_type": "error",
     "traceback": [
      "\u001b[0;31m---------------------------------------------------------------------------\u001b[0m",
      "\u001b[0;31mNameError\u001b[0m                                 Traceback (most recent call last)",
      "\u001b[0;32m/tmp/ipykernel_145/1673645255.py\u001b[0m in \u001b[0;36m<module>\u001b[0;34m\u001b[0m\n\u001b[0;32m----> 1\u001b[0;31m \u001b[0mmsg\u001b[0m\u001b[0;34m.\u001b[0m\u001b[0mtopic\u001b[0m\u001b[0;34m==\u001b[0m\u001b[0;34m\"links\"\u001b[0m\u001b[0;34m\u001b[0m\u001b[0;34m\u001b[0m\u001b[0m\n\u001b[0m",
      "\u001b[0;31mNameError\u001b[0m: name 'msg' is not defined"
     ]
    }
   ],
   "source": []
  },
  {
   "cell_type": "code",
   "execution_count": null,
   "id": "da114b7c-a3bf-4de9-936d-350bc2834692",
   "metadata": {},
   "outputs": [],
   "source": []
  },
  {
   "cell_type": "code",
   "execution_count": null,
   "id": "23d255e6-3279-4336-82f9-ab0cfd0b7e9d",
   "metadata": {},
   "outputs": [],
   "source": []
  },
  {
   "cell_type": "code",
   "execution_count": null,
   "id": "7d8c205f-1d5d-47b2-b7e7-66173e37f6f9",
   "metadata": {},
   "outputs": [],
   "source": []
  },
  {
   "cell_type": "code",
   "execution_count": null,
   "id": "c914b29d-c4e4-4668-8656-cf50af5e88d7",
   "metadata": {},
   "outputs": [],
   "source": []
  },
  {
   "cell_type": "code",
   "execution_count": 2,
   "id": "fd9867f9-936e-45c7-b7fb-a2ca35124a3c",
   "metadata": {},
   "outputs": [],
   "source": [
    "async def exec_pipeline():\n",
    "    pass"
   ]
  },
  {
   "cell_type": "code",
   "execution_count": 3,
   "id": "e73b13c4-4a5e-4216-a77e-497b5a7ffdc5",
   "metadata": {},
   "outputs": [
    {
     "ename": "SyntaxError",
     "evalue": "invalid syntax (3142158469.py, line 2)",
     "output_type": "error",
     "traceback": [
      "\u001b[0;36m  File \u001b[0;32m\"/tmp/ipykernel_145/3142158469.py\"\u001b[0;36m, line \u001b[0;32m2\u001b[0m\n\u001b[0;31m    async def exec_pipline_with_payload(,payload_name:deque):\u001b[0m\n\u001b[0m                                        ^\u001b[0m\n\u001b[0;31mSyntaxError\u001b[0m\u001b[0;31m:\u001b[0m invalid syntax\n"
     ]
    }
   ],
   "source": [
    "from collections import deque\n",
    "import asyncio\n",
    "async def exec_pipline_with_payload(,payload_name:deque):\n",
    "    pass"
   ]
  },
  {
   "cell_type": "code",
   "execution_count": null,
   "id": "9dac354c-6d57-449a-83c2-4c871f8bd046",
   "metadata": {},
   "outputs": [],
   "source": []
  }
 ],
 "metadata": {
  "kernelspec": {
   "display_name": "Python 3 (ipykernel)",
   "language": "python",
   "name": "python3"
  },
  "language_info": {
   "codemirror_mode": {
    "name": "ipython",
    "version": 3
   },
   "file_extension": ".py",
   "mimetype": "text/x-python",
   "name": "python",
   "nbconvert_exporter": "python",
   "pygments_lexer": "ipython3",
   "version": "3.9.7"
  }
 },
 "nbformat": 4,
 "nbformat_minor": 5
}
