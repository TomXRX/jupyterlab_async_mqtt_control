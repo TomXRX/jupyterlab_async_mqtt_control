{
 "cells": [
  {
   "cell_type": "code",
   "execution_count": null,
   "id": "a6898a25-ea30-422e-a353-8610fa0b1c45",
   "metadata": {},
   "outputs": [],
   "source": [
    "#TODO: to do means not doing that yet. So please do not care about it.\n",
    "#TODO: micropython, one thread integration."
   ]
  },
  {
   "cell_type": "code",
   "execution_count": 5,
   "id": "0fc95c8f-04f9-4b5f-8ba2-f0fb2d3a9a73",
   "metadata": {},
   "outputs": [],
   "source": [
    "import time\n",
    "from collections import deque"
   ]
  },
  {
   "cell_type": "code",
   "execution_count": null,
   "id": "8341e219-ec15-49ed-83aa-8d183373346a",
   "metadata": {},
   "outputs": [],
   "source": []
  },
  {
   "cell_type": "code",
   "execution_count": 8,
   "id": "9aa3fb73-2b7a-478d-b7b5-aa4fbf05197d",
   "metadata": {},
   "outputs": [],
   "source": [
    "%run util_py_2.ipynb"
   ]
  },
  {
   "cell_type": "code",
   "execution_count": 23,
   "id": "da00ae48-29ef-41e9-81f0-13393b52db52",
   "metadata": {},
   "outputs": [],
   "source": []
  },
  {
   "cell_type": "code",
   "execution_count": 26,
   "id": "f425d65a-6552-4379-b1cf-34c727e3e84b",
   "metadata": {},
   "outputs": [],
   "source": [
    "k=defaultdict(deque)\n",
    "#only deque((),n) is micropython integratable\n",
    "#can try functools.partial"
   ]
  },
  {
   "cell_type": "code",
   "execution_count": 27,
   "id": "caee70dd-8836-492b-8b1a-4ea6f28716ff",
   "metadata": {},
   "outputs": [],
   "source": [
    "k[0].append(\"hihi\")"
   ]
  },
  {
   "cell_type": "code",
   "execution_count": 28,
   "id": "f61b5c8d-f8cf-4f8e-a533-3cf47f964f40",
   "metadata": {},
   "outputs": [
    {
     "data": {
      "text/plain": [
       "defaultdict(collections.deque, {0: deque(['hihi'])})"
      ]
     },
     "execution_count": 28,
     "metadata": {},
     "output_type": "execute_result"
    }
   ],
   "source": [
    "k"
   ]
  },
  {
   "cell_type": "code",
   "execution_count": null,
   "id": "b0732fe6-b846-476f-9200-7a810a51d31f",
   "metadata": {},
   "outputs": [],
   "source": []
  },
  {
   "cell_type": "code",
   "execution_count": null,
   "id": "f902d418-d296-4cc5-b974-2fc62ef894a3",
   "metadata": {},
   "outputs": [],
   "source": []
  },
  {
   "cell_type": "code",
   "execution_count": 9,
   "id": "6a6fb17d-0258-41da-b9af-f6eef52ee3d7",
   "metadata": {},
   "outputs": [
    {
     "name": "stdout",
     "output_type": "stream",
     "text": [
      "Connected with result code 0\n"
     ]
    }
   ],
   "source": [
    "C=Control()"
   ]
  },
  {
   "cell_type": "code",
   "execution_count": null,
   "id": "14f3d466-b3d5-4626-8ddd-a937f7712483",
   "metadata": {},
   "outputs": [],
   "source": []
  },
  {
   "cell_type": "code",
   "execution_count": 30,
   "id": "da114b7c-a3bf-4de9-936d-350bc2834692",
   "metadata": {},
   "outputs": [
    {
     "data": {
      "text/plain": [
       "(4, None)"
      ]
     },
     "execution_count": 30,
     "metadata": {},
     "output_type": "execute_result"
    }
   ],
   "source": [
    "C.client.subscribe(\"control\")"
   ]
  },
  {
   "cell_type": "code",
   "execution_count": 31,
   "id": "e85cfc35-ec7b-4baf-95a3-7c5729f6b285",
   "metadata": {},
   "outputs": [
    {
     "data": {
      "text/plain": [
       "<paho.mqtt.client.MQTTMessageInfo at 0x7f4f2e95cdb0>"
      ]
     },
     "execution_count": 31,
     "metadata": {},
     "output_type": "execute_result"
    }
   ],
   "source": [
    "C.client.publish(\"control\",\"hihi\")"
   ]
  },
  {
   "cell_type": "code",
   "execution_count": null,
   "id": "23d255e6-3279-4336-82f9-ab0cfd0b7e9d",
   "metadata": {},
   "outputs": [],
   "source": []
  },
  {
   "cell_type": "code",
   "execution_count": null,
   "id": "7d8c205f-1d5d-47b2-b7e7-66173e37f6f9",
   "metadata": {},
   "outputs": [],
   "source": []
  },
  {
   "cell_type": "code",
   "execution_count": null,
   "id": "c914b29d-c4e4-4668-8656-cf50af5e88d7",
   "metadata": {},
   "outputs": [],
   "source": []
  },
  {
   "cell_type": "code",
   "execution_count": null,
   "id": "9dac354c-6d57-449a-83c2-4c871f8bd046",
   "metadata": {},
   "outputs": [],
   "source": []
  }
 ],
 "metadata": {
  "kernelspec": {
   "display_name": "Python 3 (ipykernel)",
   "language": "python",
   "name": "python3"
  },
  "language_info": {
   "codemirror_mode": {
    "name": "ipython",
    "version": 3
   },
   "file_extension": ".py",
   "mimetype": "text/x-python",
   "name": "python",
   "nbconvert_exporter": "python",
   "pygments_lexer": "ipython3",
   "version": "3.9.7"
  }
 },
 "nbformat": 4,
 "nbformat_minor": 5
}
