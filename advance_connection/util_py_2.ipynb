{
 "cells": [
  {
   "cell_type": "code",
   "execution_count": 4,
   "id": "062dd612-3c6d-4934-9833-6f3efe840697",
   "metadata": {},
   "outputs": [],
   "source": [
    "class Control:    \n",
    "    def __init__(self,mqtt_config=(\"mqtt\",1883,(\"tom\",\"xiao\"))):\n",
    "        self.HOST,self.PORT,self.client_pw=mqtt_config\n",
    "        self.client=self.client_start()\n",
    "        self.client.loop_start()\n",
    "    \n",
    "    def client_start(self):\n",
    "        import time\n",
    "        import paho.mqtt.client as mqtt\n",
    "        client = mqtt.Client(str(time.time()))\n",
    "        client.username_pw_set(*self.client_pw)\n",
    "        client.on_connect = self.on_connect\n",
    "        client.on_message = self.on_message\n",
    "        client.connect(self.HOST, self.PORT, 60)\n",
    "        return client\n",
    "\n",
    "    def on_connect(self,client, userdata, flags, rc):\n",
    "        print(\"Connected with result code \"+str(rc))\n",
    "        client.subscribe(\"control\")\n",
    "        \n",
    "    def __call__(self,*args):\n",
    "        self.publish(*args)\n",
    "        \n",
    "    def publish(self,thing):\n",
    "        self.client.publish(\"control_back\",thing)\n",
    "        \n",
    "    # result=deque((),10)\n",
    "    #TODO: possible too_much\n",
    "    #to not flood result_keeper with too much out-dated info\n",
    "    def on_message(self,client, userdata, msg):\n",
    "        print(msg.payload)\n",
    "        # self.result.append(msg.payload)\n",
    "        \n",
    "    def pop_result(self):\n",
    "        try:return self.result.popleft()\n",
    "        except:pass\n",
    "        "
   ]
  },
  {
   "cell_type": "code",
   "execution_count": 5,
   "id": "ad307b3d-271d-4507-9df4-c096d860ed28",
   "metadata": {},
   "outputs": [],
   "source": [
    "from collections import defaultdict,deque\n",
    "class ExecPipeline:\n",
    "    state_dict=defaultdict(deque)\n",
    "        \n",
    "    def add_thing(self,topic,data):\n",
    "        self.state_dict[topic].append(data)\n",
    "        \n",
    "    #TODO:be aware of the list too big.\n",
    "        \n",
    "    # async def\n",
    "        #with payload\n",
    "    \n",
    "    def __call__(self,*args):\n",
    "        self.add_thing(*args)\n",
    "\n",
    "class ControlAdvance(Control):\n",
    "    def __init__(self,*args,pipeline=None,**kwargs):\n",
    "        if pipeline is None:pipeline=ExecPipeline()\n",
    "        self.pipeline=pipeline\n",
    "        super().__init__(*args,**kwargs)\n",
    "    \n",
    "    def on_message(self,client,userdata,msg):\n",
    "        self.pipeline(msg.topic,msg.payload)\n",
    "        "
   ]
  },
  {
   "cell_type": "code",
   "execution_count": null,
   "id": "11f630df-b9c4-4008-bb6e-1e22134d6405",
   "metadata": {},
   "outputs": [],
   "source": []
  }
 ],
 "metadata": {
  "kernelspec": {
   "display_name": "Python 3 (ipykernel)",
   "language": "python",
   "name": "python3"
  },
  "language_info": {
   "codemirror_mode": {
    "name": "ipython",
    "version": 3
   },
   "file_extension": ".py",
   "mimetype": "text/x-python",
   "name": "python",
   "nbconvert_exporter": "python",
   "pygments_lexer": "ipython3",
   "version": "3.9.7"
  }
 },
 "nbformat": 4,
 "nbformat_minor": 5
}
