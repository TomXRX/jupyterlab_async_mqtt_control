{
 "cells": [
  {
   "cell_type": "code",
   "execution_count": 1,
   "id": "5a58a801",
   "metadata": {},
   "outputs": [],
   "source": [
    "import paho.mqtt.client as mqtt\n",
    "import time\n",
    "import paho.mqtt.publish as publish\n",
    "from collections import deque\n",
    "class Controllee:\n",
    "    HOST = \"mqtt\"\n",
    "\n",
    "    PORT = 1883\n",
    "    \n",
    "    def __init__(self,mqtt_config=(\"mqtt\",1883,(\"tom\",\"xiao\"))):\n",
    "        self.HOST,self.PORT,self.client_pw=mqtt_config\n",
    "        self.client=self.client_start()\n",
    "        self.client.loop_start()\n",
    "    \n",
    "    def client_start(self):\n",
    "        client = mqtt.Client(str(time.time()))\n",
    "        client.username_pw_set(*self.client_pw)\n",
    "        client.on_connect = self.on_connect\n",
    "        client.on_message = self.on_message\n",
    "        client.connect(self.HOST, self.PORT, 60)\n",
    "        return client\n",
    "\n",
    "    def on_connect(self,client, userdata, flags, rc):\n",
    "        print(\"Connected with result code \"+str(rc))\n",
    "        client.subscribe(\"control\")\n",
    "        \n",
    "    def __call__(self,*args):\n",
    "        self.publish(*args)\n",
    "        \n",
    "    def publish(self,thing):\n",
    "        self.client.publish(\"control_back\",thing)\n",
    "        \n",
    "    result=deque((),10)\n",
    "    #TODO: possible too_much\n",
    "    #to not flood result_keeper with too much out-dated info\n",
    "    def on_message(self,client, userdata, msg):\n",
    "#         print(msg.payload)\n",
    "        self.result.append(msg.payload)\n",
    "#         C=msg.payload.decode(\"utf-8\")\n",
    "#         result.append(C)\n",
    "        \n",
    "    def pop_result(self):\n",
    "        try:return self.result.popleft()\n",
    "        except:pass\n",
    "        "
   ]
  },
  {
   "cell_type": "code",
   "execution_count": 2,
   "id": "9d28b2d4",
   "metadata": {},
   "outputs": [
    {
     "name": "stdout",
     "output_type": "stream",
     "text": [
      "Connected with result code 0\n"
     ]
    }
   ],
   "source": [
    "C=Controllee()"
   ]
  },
  {
   "cell_type": "code",
   "execution_count": null,
   "id": "f39b8021",
   "metadata": {},
   "outputs": [],
   "source": []
  },
  {
   "cell_type": "code",
   "execution_count": 3,
   "id": "657ef7a7",
   "metadata": {},
   "outputs": [],
   "source": [
    "class State:pass\n",
    "s=State()"
   ]
  },
  {
   "cell_type": "code",
   "execution_count": 4,
   "id": "4144aa54",
   "metadata": {},
   "outputs": [],
   "source": [
    "import asyncio"
   ]
  },
  {
   "cell_type": "code",
   "execution_count": null,
   "id": "b74cda4a",
   "metadata": {},
   "outputs": [],
   "source": []
  },
  {
   "cell_type": "code",
   "execution_count": 5,
   "id": "0d7e289e",
   "metadata": {},
   "outputs": [],
   "source": [
    "async def result_keeper(state,get_from,sleep_interval=0.001,keep_len=10,to_value_name=\"result\"):\n",
    "    assert callable(get_from)\n",
    "    from collections import deque\n",
    "    \n",
    "    result=deque((),keep_len)\n",
    "    setattr(state,to_value_name,result)\n",
    "    \n",
    "    while 1:\n",
    "        await asyncio.sleep(sleep_interval)\n",
    "        got=get_from()\n",
    "        if got is None:continue\n",
    "        result.append(got)\n",
    "rk=asyncio.create_task(result_keeper(s,C.pop_result))"
   ]
  },
  {
   "cell_type": "code",
   "execution_count": 6,
   "id": "15ef022e",
   "metadata": {},
   "outputs": [],
   "source": [
    "async def result_runner(state,C,keep_len=10,\n",
    "                     from_value_name=\"result\",\n",
    "                     sync_time=0.01):\n",
    "    while 1:\n",
    "        await asyncio.sleep(sync_time)\n",
    "        if hasattr(state,from_value_name):break\n",
    "    de=getattr(state,from_value_name)\n",
    "    \n",
    "    from collections import deque\n",
    "    ret=deque((),keep_len)\n",
    "#     setattr(state,to_value_name,result)\n",
    "    \n",
    "    while 1:\n",
    "        await asyncio.sleep(sync_time)\n",
    "        try:x=de.popleft()\n",
    "        except:continue\n",
    "        try:exec(x)\n",
    "        except Exception as e:\n",
    "            C.publish(\"error\")\n",
    "            C.publish(str(e))\n",
    "        try:g=ret.popleft()\n",
    "        except:continue\n",
    "        print(g)\n",
    "        C.publish(g)\n",
    "\n",
    "rr=asyncio.create_task(result_runner(s,C))"
   ]
  },
  {
   "cell_type": "code",
   "execution_count": null,
   "id": "498cab99",
   "metadata": {},
   "outputs": [],
   "source": []
  },
  {
   "cell_type": "code",
   "execution_count": 7,
   "id": "957b027f",
   "metadata": {},
   "outputs": [
    {
     "ename": "AttributeError",
     "evalue": "'State' object has no attribute 'result'",
     "output_type": "error",
     "traceback": [
      "\u001b[0;31m---------------------------------------------------------------------------\u001b[0m",
      "\u001b[0;31mAttributeError\u001b[0m                            Traceback (most recent call last)",
      "\u001b[0;32m/tmp/ipykernel_487/1191017452.py\u001b[0m in \u001b[0;36m<module>\u001b[0;34m\u001b[0m\n\u001b[0;32m----> 1\u001b[0;31m \u001b[0ms\u001b[0m\u001b[0;34m.\u001b[0m\u001b[0mresult\u001b[0m\u001b[0;34m\u001b[0m\u001b[0;34m\u001b[0m\u001b[0m\n\u001b[0m",
      "\u001b[0;31mAttributeError\u001b[0m: 'State' object has no attribute 'result'"
     ]
    }
   ],
   "source": [
    "s.result"
   ]
  },
  {
   "cell_type": "code",
   "execution_count": null,
   "id": "b7db783e",
   "metadata": {},
   "outputs": [],
   "source": []
  },
  {
   "cell_type": "code",
   "execution_count": null,
   "id": "4fcaf210",
   "metadata": {},
   "outputs": [],
   "source": [
    "rk.result()"
   ]
  },
  {
   "cell_type": "code",
   "execution_count": null,
   "id": "6b2c5abf",
   "metadata": {},
   "outputs": [],
   "source": [
    "rr.result()"
   ]
  },
  {
   "cell_type": "code",
   "execution_count": null,
   "id": "676337c8",
   "metadata": {},
   "outputs": [],
   "source": [
    "a,b,c,d"
   ]
  },
  {
   "cell_type": "code",
   "execution_count": null,
   "id": "a98c12ae",
   "metadata": {},
   "outputs": [],
   "source": [
    "a"
   ]
  },
  {
   "cell_type": "code",
   "execution_count": null,
   "id": "04978f2e",
   "metadata": {},
   "outputs": [
    {
     "name": "stdout",
     "output_type": "stream",
     "text": [
      "b'ret.append(1)'\n",
      "1\n",
      "b'ret=2'\n",
      "b'ret.append(1)'\n",
      "1\n",
      "b'ret.append(1)'\n",
      "1\n",
      "b'ret=2'\n",
      "b'ret.append(1)'\n",
      "1\n",
      "b'hihi'\n"
     ]
    }
   ],
   "source": [
    "a"
   ]
  },
  {
   "cell_type": "code",
   "execution_count": null,
   "id": "df268baf",
   "metadata": {},
   "outputs": [],
   "source": []
  }
 ],
 "metadata": {
  "kernelspec": {
   "display_name": "Python 3 (ipykernel)",
   "language": "python",
   "name": "python3"
  },
  "language_info": {
   "codemirror_mode": {
    "name": "ipython",
    "version": 3
   },
   "file_extension": ".py",
   "mimetype": "text/x-python",
   "name": "python",
   "nbconvert_exporter": "python",
   "pygments_lexer": "ipython3",
   "version": "3.9.7"
  }
 },
 "nbformat": 4,
 "nbformat_minor": 5
}
