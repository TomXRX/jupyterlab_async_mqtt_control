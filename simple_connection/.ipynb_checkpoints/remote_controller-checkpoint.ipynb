{
 "cells": [
  {
   "cell_type": "code",
   "execution_count": 1,
   "id": "5a58a801",
   "metadata": {},
   "outputs": [],
   "source": [
    "import paho.mqtt.client as mqtt\n",
    "import time\n",
    "import paho.mqtt.publish as publish\n",
    "from collections import deque\n",
    "class Controller:\n",
    "    HOST = \"mqtt\"\n",
    "\n",
    "    PORT = 1883\n",
    "    \n",
    "    def __init__(self,mqtt_config=(\"mqtt\",1883,(\"tom\",\"xiao\"))):\n",
    "        self.HOST,self.PORT,self.client_pw=mqtt_config\n",
    "        self.client=self.client_start()\n",
    "        self.client.loop_start()\n",
    "    \n",
    "    def client_start(self):\n",
    "        client = mqtt.Client(str(time.time()))\n",
    "        client.username_pw_set(*self.client_pw)\n",
    "        client.on_connect = self.on_connect\n",
    "        client.on_message = self.on_message\n",
    "        client.connect(self.HOST, self.PORT, 60)\n",
    "        return client\n",
    "\n",
    "    def on_connect(self,client, userdata, flags, rc):\n",
    "        print(\"Connected with result code \"+str(rc))\n",
    "        client.subscribe(\"control_back\")\n",
    "        \n",
    "    def __call__(self,*args):\n",
    "        self.publish(*args)\n",
    "        \n",
    "    def publish(self,thing):\n",
    "        self.client.publish(\"control\",thing)\n",
    "        \n",
    "    result=deque((),10)\n",
    "    #TODO: possible too_much\n",
    "    #to not flood result_keeper with too much out-dated info\n",
    "    def on_message(self,client, userdata, msg):\n",
    "        self.result.append(msg.payload)\n",
    "#         print(msg.payload)\n",
    "#         C=msg.payload.decode(\"utf-8\")\n",
    "#         result.append(C)\n",
    "        \n",
    "    def pop_result(self):\n",
    "        try:return self.result.popleft()\n",
    "        except:pass\n",
    "        "
   ]
  },
  {
   "cell_type": "code",
   "execution_count": 2,
   "id": "6b488757",
   "metadata": {},
   "outputs": [
    {
     "name": "stdout",
     "output_type": "stream",
     "text": [
      "Connected with result code 0\n"
     ]
    }
   ],
   "source": [
    "C=Controller()"
   ]
  },
  {
   "cell_type": "code",
   "execution_count": null,
   "id": "5285e6b2",
   "metadata": {},
   "outputs": [],
   "source": []
  },
  {
   "cell_type": "code",
   "execution_count": 3,
   "id": "53da06e6",
   "metadata": {},
   "outputs": [],
   "source": [
    "class State:pass\n",
    "s=State()"
   ]
  },
  {
   "cell_type": "code",
   "execution_count": 4,
   "id": "acbd1ec9",
   "metadata": {},
   "outputs": [],
   "source": [
    "import asyncio"
   ]
  },
  {
   "cell_type": "code",
   "execution_count": 5,
   "id": "a68f6285",
   "metadata": {},
   "outputs": [],
   "source": [
    "async def result_keeper(state,get_from,sleep_interval=0.001,keep_len=10,to_value_name=\"result\"):\n",
    "    assert callable(get_from)\n",
    "    from collections import deque\n",
    "    \n",
    "    result=deque((),keep_len)\n",
    "    setattr(state,to_value_name,result)\n",
    "    \n",
    "    while 1:\n",
    "        await asyncio.sleep(sleep_interval)\n",
    "        got=get_from()\n",
    "        if got is None:continue\n",
    "        result.append(got)\n",
    "rk=asyncio.create_task(result_keeper(s,C.pop_result))"
   ]
  },
  {
   "cell_type": "code",
   "execution_count": null,
   "id": "e65ce88c",
   "metadata": {},
   "outputs": [],
   "source": []
  },
  {
   "cell_type": "code",
   "execution_count": 6,
   "id": "2fb32942",
   "metadata": {},
   "outputs": [],
   "source": [
    "async def result_printer(state,sleep_interval=0.001,keep_len=10,\n",
    "                     from_value_name=\"result\",sync_time=0.01):\n",
    "    while 1:\n",
    "        await asyncio.sleep(sync_time)\n",
    "        if hasattr(state,from_value_name):break\n",
    "    de=getattr(state,from_value_name)\n",
    "    \n",
    "    while 1:\n",
    "        await asyncio.sleep(sync_time)\n",
    "        try:x=de.popleft()\n",
    "        except:continue\n",
    "        print(x)\n",
    "\n",
    "rp=asyncio.create_task(result_printer(s))"
   ]
  },
  {
   "cell_type": "code",
   "execution_count": null,
   "id": "81d3f828",
   "metadata": {},
   "outputs": [],
   "source": []
  },
  {
   "cell_type": "code",
   "execution_count": 7,
   "id": "adf30830",
   "metadata": {},
   "outputs": [
    {
     "ename": "SyntaxError",
     "evalue": "'break' outside loop (668683560.py, line 1)",
     "output_type": "error",
     "traceback": [
      "\u001b[0;36m  File \u001b[0;32m\"/tmp/ipykernel_521/668683560.py\"\u001b[0;36m, line \u001b[0;32m1\u001b[0m\n\u001b[0;31m    break\u001b[0m\n\u001b[0m    ^\u001b[0m\n\u001b[0;31mSyntaxError\u001b[0m\u001b[0;31m:\u001b[0m 'break' outside loop\n"
     ]
    }
   ],
   "source": [
    "break"
   ]
  },
  {
   "cell_type": "code",
   "execution_count": 10,
   "id": "ccc77657",
   "metadata": {},
   "outputs": [
    {
     "name": "stdout",
     "output_type": "stream",
     "text": [
      "b'1'\n",
      "b'1'\n"
     ]
    }
   ],
   "source": [
    "C.publish(\"ret.append(1)\")"
   ]
  },
  {
   "cell_type": "code",
   "execution_count": 9,
   "id": "47a60a5c",
   "metadata": {},
   "outputs": [],
   "source": [
    "C.publish(\"ret=2\")"
   ]
  },
  {
   "cell_type": "code",
   "execution_count": null,
   "id": "6144d2d4",
   "metadata": {},
   "outputs": [],
   "source": []
  },
  {
   "cell_type": "code",
   "execution_count": 12,
   "id": "8d834dc2",
   "metadata": {},
   "outputs": [
    {
     "name": "stdout",
     "output_type": "stream",
     "text": [
      "b'error'\n",
      "b\"name 'hihi' is not defined\"\n",
      "b'error'\n",
      "b\"name 'hihi' is not defined\"\n"
     ]
    }
   ],
   "source": [
    "C.publish(\"hihi\")"
   ]
  },
  {
   "cell_type": "code",
   "execution_count": null,
   "id": "0d6bc8ea",
   "metadata": {},
   "outputs": [],
   "source": [
    "k=deque((),10)"
   ]
  },
  {
   "cell_type": "code",
   "execution_count": null,
   "id": "6c62e0eb",
   "metadata": {},
   "outputs": [],
   "source": [
    "j=k"
   ]
  },
  {
   "cell_type": "code",
   "execution_count": null,
   "id": "c6ca2215",
   "metadata": {},
   "outputs": [],
   "source": [
    "j.append(0)"
   ]
  },
  {
   "cell_type": "code",
   "execution_count": null,
   "id": "a624b9c3",
   "metadata": {},
   "outputs": [],
   "source": [
    "j,k"
   ]
  },
  {
   "cell_type": "code",
   "execution_count": null,
   "id": "bd1e010f",
   "metadata": {},
   "outputs": [],
   "source": []
  },
  {
   "cell_type": "code",
   "execution_count": null,
   "id": "c08b8c94",
   "metadata": {},
   "outputs": [],
   "source": []
  },
  {
   "cell_type": "code",
   "execution_count": null,
   "id": "9d28b2d4",
   "metadata": {},
   "outputs": [],
   "source": [
    "C=Controller()"
   ]
  },
  {
   "cell_type": "code",
   "execution_count": null,
   "id": "17915e69",
   "metadata": {},
   "outputs": [],
   "source": [
    "C.client."
   ]
  },
  {
   "cell_type": "code",
   "execution_count": null,
   "id": "4dcc8e94",
   "metadata": {},
   "outputs": [],
   "source": [
    "C.publish(\"hihi\")"
   ]
  },
  {
   "cell_type": "code",
   "execution_count": null,
   "id": "4fcaf210",
   "metadata": {},
   "outputs": [],
   "source": []
  }
 ],
 "metadata": {
  "kernelspec": {
   "display_name": "Python 3 (ipykernel)",
   "language": "python",
   "name": "python3"
  },
  "language_info": {
   "codemirror_mode": {
    "name": "ipython",
    "version": 3
   },
   "file_extension": ".py",
   "mimetype": "text/x-python",
   "name": "python",
   "nbconvert_exporter": "python",
   "pygments_lexer": "ipython3",
   "version": "3.9.7"
  }
 },
 "nbformat": 4,
 "nbformat_minor": 5
}
