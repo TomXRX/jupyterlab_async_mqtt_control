{
 "cells": [
  {
   "cell_type": "code",
   "execution_count": 1,
   "id": "1919152f-824c-41bc-96f6-18296e79fc0f",
   "metadata": {},
   "outputs": [
    {
     "name": "stdout",
     "output_type": "stream",
     "text": [
      "Connected with result code 0\n"
     ]
    }
   ],
   "source": [
    "%run ../advance_connection/auto_name.py"
   ]
  },
  {
   "cell_type": "code",
   "execution_count": 2,
   "id": "0e7b3cbd-1933-48a4-8301-46edb51690ec",
   "metadata": {},
   "outputs": [
    {
     "name": "stdout",
     "output_type": "stream",
     "text": [
      "info\n",
      "        \n",
      "        Always be aware that this version of dashboard is instanced when defination.\n",
      "        Which means that there cannot be two dashboard in the same ipynb kernel.\n",
      "        \n",
      "        \n"
     ]
    }
   ],
   "source": [
    "%run ../util_interfaces/buttons_text_dashboard.ipynb"
   ]
  },
  {
   "cell_type": "code",
   "execution_count": 3,
   "id": "5d4c3c19-b7a0-4c28-a316-dbc03f776198",
   "metadata": {},
   "outputs": [],
   "source": [
    "preferred_name=\"controllee\""
   ]
  },
  {
   "cell_type": "code",
   "execution_count": 4,
   "id": "835a968a-0d41-4530-8ea0-c75f00b01a07",
   "metadata": {},
   "outputs": [],
   "source": [
    "def button_widgets(task):\n",
    "    butt_1=task.button(description=\"name\",disabled=True)\n",
    "    butt_2=task.button(description=\"NULL\",)\n",
    "    # butt_2.on_click=task.state.find_func_by_name(\"loop_timer\")\n",
    "    # task.start()\n",
    "    return (butt_1,butt_2)\n",
    "\n",
    "@add_to_state_button(s,button_widgets)\n",
    "async def task_await(task,C,sleep_interval=0.1):\n",
    "    async def sync_name():\n",
    "        def get_name():\n",
    "            if hasattr(C.pipeline,\"name\"):\n",
    "                return C.pipeline.name\n",
    "        view_button=[i for i in task.box.children if i.description == \"NULL\"][0]\n",
    "        while 1:\n",
    "            await asyncio.sleep(sleep_interval)\n",
    "            view_button.description=str(get_name())\n",
    "    await asyncio.gather(C.pipeline_caller(),await_tasks(C,preferred_name),sync_name())\n",
    "    \n",
    "task_await(\"await_tasks\",C)"
   ]
  },
  {
   "cell_type": "code",
   "execution_count": 5,
   "id": "a0131dfa-35db-44c6-b171-0ee10c775f10",
   "metadata": {},
   "outputs": [],
   "source": [
    "C.pipeline.s=s"
   ]
  },
  {
   "cell_type": "code",
   "execution_count": 6,
   "id": "a27cc221-268c-458a-99e3-822fb95ed463",
   "metadata": {},
   "outputs": [],
   "source": [
    "def text_only(task):\n",
    "    tt=task.wtext()\n",
    "    task.text_box=tt\n",
    "    task.start()\n",
    "    return (tt,)\n",
    "\n",
    "@add_to_state_button(s,text_only)\n",
    "async def foo(task,C,sleep_interval=0.1):\n",
    "    task.box.children=tuple(i for i in task.box.children if hasattr(i,\"description\") and i.description not in [\"start\",\"stop\"])\n",
    "    \n",
    "foo(\"last_run\",C)"
   ]
  },
  {
   "cell_type": "code",
   "execution_count": 7,
   "id": "f1048d69-14c0-4bae-9c6a-26a2484995fa",
   "metadata": {},
   "outputs": [],
   "source": [
    "def set_str(C,S,topic,payload):\n",
    "    if not topic==\"exec\":return\n",
    "    text=C.pipeline.s.find_func_by_name(\"last_run\").text_box\n",
    "    text.value=payload\n",
    "\n",
    "C.pipeline.func_list.insert(0,set_str)"
   ]
  },
  {
   "cell_type": "code",
   "execution_count": null,
   "id": "e598216a-fc4a-4dfc-922d-06f33de986f2",
   "metadata": {},
   "outputs": [],
   "source": []
  },
  {
   "cell_type": "code",
   "execution_count": null,
   "id": "6d3d8555-1076-45ba-965b-1b2092783cc5",
   "metadata": {},
   "outputs": [],
   "source": []
  },
  {
   "cell_type": "code",
   "execution_count": 8,
   "id": "0dfe8385-0ef6-4470-b0ed-fe5fa9fa458a",
   "metadata": {},
   "outputs": [
    {
     "data": {
      "application/vnd.jupyter.widget-view+json": {
       "model_id": "e3efc69625504cd0a5b25e3070e403ab",
       "version_major": 2,
       "version_minor": 0
      },
      "text/plain": [
       "Box(children=(Button(description='loop_timer', disabled=True, layout=Layout(height='30px', width='auto'), styl…"
      ]
     },
     "metadata": {},
     "output_type": "display_data"
    },
    {
     "data": {
      "application/vnd.jupyter.widget-view+json": {
       "model_id": "170270a39f7c42ba9e76fa3292760a67",
       "version_major": 2,
       "version_minor": 0
      },
      "text/plain": [
       "Box(children=(Button(description='await_tasks', disabled=True, layout=Layout(height='30px', width='auto'), sty…"
      ]
     },
     "metadata": {},
     "output_type": "display_data"
    },
    {
     "data": {
      "application/vnd.jupyter.widget-view+json": {
       "model_id": "413ff77fb8b44f5abc761080045bc170",
       "version_major": 2,
       "version_minor": 0
      },
      "text/plain": [
       "Box(children=(Button(description='last_run', disabled=True, layout=Layout(height='30px', width='auto'), style=…"
      ]
     },
     "metadata": {},
     "output_type": "display_data"
    }
   ],
   "source": [
    "s.display()\n",
    "s.find_func_by_name(\"loop_timer\").start()"
   ]
  },
  {
   "cell_type": "code",
   "execution_count": null,
   "id": "ee047377-4e7b-41fd-801c-773fddf56bcd",
   "metadata": {},
   "outputs": [],
   "source": []
  },
  {
   "cell_type": "code",
   "execution_count": 9,
   "id": "41641214-81bd-4491-95fb-8214b9247e66",
   "metadata": {},
   "outputs": [],
   "source": [
    "ta=s.find_func_by_name(\"await_tasks\")"
   ]
  },
  {
   "cell_type": "code",
   "execution_count": 10,
   "id": "76939604-4f53-4198-8742-2d6cd04aae48",
   "metadata": {},
   "outputs": [
    {
     "ename": "AttributeError",
     "evalue": "'NoneType' object has no attribute 'exception'",
     "output_type": "error",
     "traceback": [
      "\u001b[0;31m---------------------------------------------------------------------------\u001b[0m",
      "\u001b[0;31mAttributeError\u001b[0m                            Traceback (most recent call last)",
      "\u001b[0;32m/tmp/ipykernel_5485/2105273514.py\u001b[0m in \u001b[0;36m<module>\u001b[0;34m\u001b[0m\n\u001b[0;32m----> 1\u001b[0;31m \u001b[0mta\u001b[0m\u001b[0;34m.\u001b[0m\u001b[0mtask\u001b[0m\u001b[0;34m.\u001b[0m\u001b[0mexception\u001b[0m\u001b[0;34m(\u001b[0m\u001b[0;34m)\u001b[0m\u001b[0;34m\u001b[0m\u001b[0;34m\u001b[0m\u001b[0m\n\u001b[0m",
      "\u001b[0;31mAttributeError\u001b[0m: 'NoneType' object has no attribute 'exception'"
     ]
    }
   ],
   "source": [
    "ta.task.exception()"
   ]
  },
  {
   "cell_type": "code",
   "execution_count": null,
   "id": "41092303-964a-4286-a8b0-36dcac1a64c9",
   "metadata": {},
   "outputs": [],
   "source": []
  },
  {
   "cell_type": "code",
   "execution_count": null,
   "id": "f94eeba2-f91b-4929-aeed-b4a055469b01",
   "metadata": {},
   "outputs": [],
   "source": [
    "break"
   ]
  },
  {
   "cell_type": "code",
   "execution_count": null,
   "id": "03ae381e-43c0-4bfa-964b-22b3789e476f",
   "metadata": {},
   "outputs": [],
   "source": [
    "C.publish(\"2/hihi\",\"thing\")"
   ]
  },
  {
   "cell_type": "code",
   "execution_count": 11,
   "id": "7a6960ba-e95f-4900-b9e7-f35e6e684d31",
   "metadata": {},
   "outputs": [
    {
     "data": {
      "text/plain": [
       "('controllee',\n",
       " {'1653083154.52743': 'micropython_controllee',\n",
       "  '1653084482.1974568': '0',\n",
       "  '1653084491.1666124': '1',\n",
       "  '1653084600.769736': 'controllee',\n",
       "  '1653084643.713377': '2'})"
      ]
     },
     "execution_count": 11,
     "metadata": {},
     "output_type": "execute_result"
    }
   ],
   "source": [
    "S=C.pipeline\n",
    "S.name,S.names"
   ]
  },
  {
   "cell_type": "code",
   "execution_count": null,
   "id": "73ecc081-04af-4059-be2d-c28695e03775",
   "metadata": {},
   "outputs": [],
   "source": [
    "C.client.is_connected()"
   ]
  },
  {
   "cell_type": "code",
   "execution_count": null,
   "id": "0117e4ca-ee0e-4410-b540-3f9aaf0381ef",
   "metadata": {},
   "outputs": [],
   "source": [
    "C.subscribed"
   ]
  },
  {
   "cell_type": "code",
   "execution_count": null,
   "id": "6e02e697-7856-4deb-8979-6e87fb64556e",
   "metadata": {},
   "outputs": [],
   "source": [
    "C.pipeline.state_dict"
   ]
  },
  {
   "cell_type": "code",
   "execution_count": null,
   "id": "95ddbc38-3678-48f5-a76e-8b6c0b19be92",
   "metadata": {},
   "outputs": [],
   "source": [
    "C.requests_func_list"
   ]
  },
  {
   "cell_type": "code",
   "execution_count": null,
   "id": "eecee855-fd3c-414a-8b09-42d16c3600fc",
   "metadata": {},
   "outputs": [],
   "source": []
  },
  {
   "cell_type": "code",
   "execution_count": null,
   "id": "8690b329-ca63-4bda-80ed-2ff9284691dc",
   "metadata": {},
   "outputs": [],
   "source": [
    "k0=asyncio.create_task(await_tasks(C))\n",
    "\n",
    "k1=asyncio.create_task(C.pipeline_caller())"
   ]
  },
  {
   "cell_type": "code",
   "execution_count": null,
   "id": "38942192-8667-458e-9d8b-a55ecd2c176f",
   "metadata": {},
   "outputs": [],
   "source": []
  },
  {
   "cell_type": "code",
   "execution_count": null,
   "id": "f92f4fba-d174-4117-a3c3-62cfd0fa53b2",
   "metadata": {},
   "outputs": [],
   "source": [
    "k0.exception()"
   ]
  },
  {
   "cell_type": "code",
   "execution_count": null,
   "id": "ae9ff73e-018d-4037-a784-da44980e079a",
   "metadata": {},
   "outputs": [],
   "source": [
    "k1.exception()"
   ]
  },
  {
   "cell_type": "code",
   "execution_count": null,
   "id": "01a933ed-38f2-4ecc-a6c0-4821fdf566be",
   "metadata": {},
   "outputs": [],
   "source": []
  },
  {
   "cell_type": "code",
   "execution_count": null,
   "id": "772a76a5-4477-4ba4-a083-79b98b015f18",
   "metadata": {},
   "outputs": [],
   "source": [
    "C.pipeline.names"
   ]
  },
  {
   "cell_type": "code",
   "execution_count": null,
   "id": "3fdc4ae1-4fb9-475c-a002-33e37ae14025",
   "metadata": {},
   "outputs": [],
   "source": []
  },
  {
   "cell_type": "code",
   "execution_count": null,
   "id": "12844d11-fca6-489c-b207-d711a792b2bc",
   "metadata": {},
   "outputs": [],
   "source": []
  },
  {
   "cell_type": "code",
   "execution_count": null,
   "id": "98ab7aa3-3e7a-4ad7-a2d0-1fbd3cb274d4",
   "metadata": {},
   "outputs": [],
   "source": []
  },
  {
   "cell_type": "code",
   "execution_count": null,
   "id": "b162b57e-a9ad-4f87-8663-294a51d0ffaa",
   "metadata": {},
   "outputs": [],
   "source": []
  }
 ],
 "metadata": {
  "kernelspec": {
   "display_name": "Python 3 (ipykernel)",
   "language": "python",
   "name": "python3"
  },
  "language_info": {
   "codemirror_mode": {
    "name": "ipython",
    "version": 3
   },
   "file_extension": ".py",
   "mimetype": "text/x-python",
   "name": "python",
   "nbconvert_exporter": "python",
   "pygments_lexer": "ipython3",
   "version": "3.9.7"
  }
 },
 "nbformat": 4,
 "nbformat_minor": 5
}
