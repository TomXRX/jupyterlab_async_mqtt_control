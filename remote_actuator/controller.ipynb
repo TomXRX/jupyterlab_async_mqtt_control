{
 "cells": [
  {
   "cell_type": "code",
   "execution_count": 1,
   "id": "1919152f-824c-41bc-96f6-18296e79fc0f",
   "metadata": {},
   "outputs": [
    {
     "name": "stdout",
     "output_type": "stream",
     "text": [
      "Connected with result code 0\n"
     ]
    }
   ],
   "source": [
    "%run ../advance_connection/auto_name.py"
   ]
  },
  {
   "cell_type": "code",
   "execution_count": 2,
   "id": "0e7b3cbd-1933-48a4-8301-46edb51690ec",
   "metadata": {},
   "outputs": [
    {
     "name": "stdout",
     "output_type": "stream",
     "text": [
      "info\n",
      "        \n",
      "        Always be aware that this version of dashboard is instanced when defination.\n",
      "        Which means that there cannot be two dashboard in the same ipynb kernel.\n",
      "        \n",
      "        \n"
     ]
    }
   ],
   "source": [
    "%run ../util_interfaces/buttons_text_dashboard.ipynb"
   ]
  },
  {
   "cell_type": "code",
   "execution_count": null,
   "id": "5d4c3c19-b7a0-4c28-a316-dbc03f776198",
   "metadata": {},
   "outputs": [],
   "source": []
  },
  {
   "cell_type": "code",
   "execution_count": 3,
   "id": "835a968a-0d41-4530-8ea0-c75f00b01a07",
   "metadata": {},
   "outputs": [],
   "source": [
    "def button_widgets(task):\n",
    "    butt_1=task.button(description=\"name\",disabled=True)\n",
    "    butt_2=task.button(description=\"NULL\",)\n",
    "    # butt_2.on_click=task.state.find_func_by_name(\"loop_timer\")\n",
    "    # task.start()\n",
    "    return (butt_1,butt_2)\n",
    "\n",
    "@add_to_state_button(s,button_widgets)\n",
    "async def task_await(task,C,sleep_interval=0.1):\n",
    "    async def sync_name():\n",
    "        def get_name():\n",
    "            if hasattr(C.pipeline,\"name\"):\n",
    "                return C.pipeline.name\n",
    "        view_button=[i for i in task.box.children if i.description == \"NULL\"][0]\n",
    "        while 1:\n",
    "            await asyncio.sleep(sleep_interval)\n",
    "            view_button.description=str(get_name())\n",
    "    await asyncio.gather(C.pipeline_caller(),await_tasks(C),sync_name())\n",
    "    \n",
    "task_await(\"await_tasks\",C)"
   ]
  },
  {
   "cell_type": "code",
   "execution_count": 4,
   "id": "a0131dfa-35db-44c6-b171-0ee10c775f10",
   "metadata": {},
   "outputs": [],
   "source": [
    "C.pipeline.s=s"
   ]
  },
  {
   "cell_type": "code",
   "execution_count": 5,
   "id": "35771887-aee8-41cd-bc7d-1620c03e919f",
   "metadata": {},
   "outputs": [],
   "source": [
    "exec_place=\"controllee/exec\"\n",
    "ret_place=\"ret_\"+exec_place\n",
    "C.subscribe(ret_place)"
   ]
  },
  {
   "cell_type": "code",
   "execution_count": null,
   "id": "1801864f-a0ac-4fff-bc23-9f769caf0516",
   "metadata": {},
   "outputs": [],
   "source": []
  },
  {
   "cell_type": "code",
   "execution_count": 6,
   "id": "aaa07495-ab5d-44a5-b69a-6ce9b4be4d13",
   "metadata": {},
   "outputs": [],
   "source": [
    "def text_widgets(task):\n",
    "    butt_1=task.button(description=\"send\",disabled=True)\n",
    "    tt=task.wtext(value=exec_place)\n",
    "    \n",
    "    butt_2=task.button(description=\"to\",disabled=True)\n",
    "    tt2=task.wtext()\n",
    "    \n",
    "    task.text_boxs=(tt,tt2)\n",
    "    task.start()\n",
    "    return (butt_1,tt2,butt_2,tt)\n",
    "\n",
    "@add_to_state_button(s,text_widgets)\n",
    "async def chan(task,C,sleep_interval=0.1):\n",
    "    task.box.children=tuple(i for i in task.box.children if hasattr(i,\"description\") and i.description not in [\"start\",\"stop\"])\n",
    "    \n",
    "    t1,t2=task.text_boxs\n",
    "    \n",
    "    def go_to(widget):\n",
    "        C.publish(t1.value,t2.value)\n",
    "    t2.on_submit(go_to)\n",
    "    \n",
    "chan(\"chan\",C)"
   ]
  },
  {
   "cell_type": "code",
   "execution_count": 7,
   "id": "a27cc221-268c-458a-99e3-822fb95ed463",
   "metadata": {},
   "outputs": [],
   "source": [
    "def text_only(task):\n",
    "    tt=ipywidgets.Text()\n",
    "    task.text_box=tt\n",
    "    task.start()\n",
    "    return (tt,)\n",
    "\n",
    "@add_to_state_button(s,text_only)\n",
    "async def foo(task,C,sleep_interval=0.1):\n",
    "    task.box.children=tuple(i for i in task.box.children if hasattr(i,\"description\") and i.description not in [\"start\",\"stop\"])\n",
    "    \n",
    "foo(\"ret\",C)"
   ]
  },
  {
   "cell_type": "code",
   "execution_count": 8,
   "id": "51784cb4-a873-420a-b237-c8451668df82",
   "metadata": {},
   "outputs": [],
   "source": [
    "def set_str(C,S,topic,payload):\n",
    "    if not topic==ret_place:return\n",
    "    text=C.pipeline.s.find_func_by_name(\"ret\").text_box\n",
    "    text.value=str(payload)\n",
    "    return True\n",
    "\n",
    "C.requests_func_list.append(set_str)"
   ]
  },
  {
   "cell_type": "code",
   "execution_count": 9,
   "id": "314674e5-f563-4fbc-be96-5ebb1e3d9ae0",
   "metadata": {},
   "outputs": [],
   "source": [
    "def on_click_func(c):\n",
    "    C.publish(\"controllee/exec\",\"(5,print('bulibuli'))\")"
   ]
  },
  {
   "cell_type": "code",
   "execution_count": 10,
   "id": "b6503adc-1003-4206-b2e9-0bb792c1ba81",
   "metadata": {},
   "outputs": [],
   "source": [
    "def button_widgets(task):\n",
    "    butt_1=ipywidgets.Button(description=\"False\",disabled=True)\n",
    "    butt_2=ipywidgets.Button(description=\"print_something\",)\n",
    "    butt_2.on_click(on_click_func)\n",
    "    task.start()\n",
    "    return (butt_1,butt_2)\n",
    "\n",
    "@add_to_state_button(s,button_widgets)\n",
    "async def buttoner(task,sleep_interval=0.1):\n",
    "    task.box.children=tuple(i for i in task.box.children if i.description not in [\"start\",\"stop\"])\n",
    "    \n",
    "    lt=task.state.find_func_by_name(\"await_tasks\")\n",
    "    view_button=[i for i in task.box.children if i.description == \"False\"][0]\n",
    "    r=None\n",
    "    while 1:\n",
    "        await asyncio.sleep(sleep_interval)\n",
    "        if r==lt.is_running:continue\n",
    "        r=lt.is_running\n",
    "        if lt.is_running:\n",
    "            view_button.description=\"runing\"\n",
    "        else:\n",
    "            view_button.description=\"down\"\n",
    "        \n",
    "buttoner(\"buttons\")"
   ]
  },
  {
   "cell_type": "code",
   "execution_count": null,
   "id": "0dfb2669-a9a6-45c2-8a41-d9cf039ac4a6",
   "metadata": {},
   "outputs": [],
   "source": []
  },
  {
   "cell_type": "code",
   "execution_count": 11,
   "id": "b7eeca40-d218-4924-8b15-717534fb2680",
   "metadata": {},
   "outputs": [
    {
     "data": {
      "application/vnd.jupyter.widget-view+json": {
       "model_id": "af84d50fd6564fc9821fe8ea3ab416d7",
       "version_major": 2,
       "version_minor": 0
      },
      "text/plain": [
       "Box(children=(Button(description='loop_timer', disabled=True, layout=Layout(height='30px', width='auto'), styl…"
      ]
     },
     "metadata": {},
     "output_type": "display_data"
    },
    {
     "data": {
      "application/vnd.jupyter.widget-view+json": {
       "model_id": "9c012a4f5fdf47c19118439e57609af4",
       "version_major": 2,
       "version_minor": 0
      },
      "text/plain": [
       "Box(children=(Button(description='await_tasks', disabled=True, layout=Layout(height='30px', width='auto'), sty…"
      ]
     },
     "metadata": {},
     "output_type": "display_data"
    },
    {
     "data": {
      "application/vnd.jupyter.widget-view+json": {
       "model_id": "242a2117e4ac4ea781e6cfc1940f26a3",
       "version_major": 2,
       "version_minor": 0
      },
      "text/plain": [
       "Box(children=(Button(description='chan', disabled=True, layout=Layout(height='30px', width='auto'), style=Butt…"
      ]
     },
     "metadata": {},
     "output_type": "display_data"
    },
    {
     "data": {
      "application/vnd.jupyter.widget-view+json": {
       "model_id": "8fc2ad9843ec4b12a7dbf1cb3da2828e",
       "version_major": 2,
       "version_minor": 0
      },
      "text/plain": [
       "Box(children=(Button(description='ret', disabled=True, layout=Layout(height='30px', width='auto'), style=Butto…"
      ]
     },
     "metadata": {},
     "output_type": "display_data"
    },
    {
     "data": {
      "application/vnd.jupyter.widget-view+json": {
       "model_id": "018bf95fa17640d9ba3829c963c02658",
       "version_major": 2,
       "version_minor": 0
      },
      "text/plain": [
       "Box(children=(Button(description='buttons', disabled=True, layout=Layout(height='30px', width='auto'), style=B…"
      ]
     },
     "metadata": {},
     "output_type": "display_data"
    }
   ],
   "source": [
    "s.display()\n",
    "# s.find_func_by_name(\"loop_timer\").start()"
   ]
  },
  {
   "cell_type": "code",
   "execution_count": 12,
   "id": "74be1248-d8d3-4403-bc9e-bcc00115bd1d",
   "metadata": {},
   "outputs": [
    {
     "ename": "SyntaxError",
     "evalue": "'break' outside loop (668683560.py, line 1)",
     "output_type": "error",
     "traceback": [
      "\u001b[0;36m  File \u001b[0;32m\"/tmp/ipykernel_5503/668683560.py\"\u001b[0;36m, line \u001b[0;32m1\u001b[0m\n\u001b[0;31m    break\u001b[0m\n\u001b[0m    ^\u001b[0m\n\u001b[0;31mSyntaxError\u001b[0m\u001b[0;31m:\u001b[0m 'break' outside loop\n"
     ]
    }
   ],
   "source": [
    "break"
   ]
  },
  {
   "cell_type": "code",
   "execution_count": null,
   "id": "82fa2cb4-5268-49b3-8d96-3c29a328a63a",
   "metadata": {},
   "outputs": [],
   "source": [
    "C.debug=True"
   ]
  },
  {
   "cell_type": "code",
   "execution_count": null,
   "id": "27ef3e4d-e68b-4e29-a508-e779b4b6c4ab",
   "metadata": {},
   "outputs": [],
   "source": [
    "C.publish(\"controllee/exec\",\"S.s.funclist[1].name\")"
   ]
  },
  {
   "cell_type": "code",
   "execution_count": null,
   "id": "6d3d8555-1076-45ba-965b-1b2092783cc5",
   "metadata": {},
   "outputs": [],
   "source": [
    "await asyncio.gather(C.pipeline_caller(),await_tasks(C))"
   ]
  },
  {
   "cell_type": "code",
   "execution_count": null,
   "id": "0af36a6c-e68f-47ac-942c-45d11e6f0f29",
   "metadata": {},
   "outputs": [],
   "source": []
  },
  {
   "cell_type": "code",
   "execution_count": null,
   "id": "41641214-81bd-4491-95fb-8214b9247e66",
   "metadata": {},
   "outputs": [],
   "source": [
    "ta=s.find_func_by_name(\"await_tasks\")"
   ]
  },
  {
   "cell_type": "code",
   "execution_count": null,
   "id": "4671e8e3-f19a-494f-9ad2-8da736bc8f5f",
   "metadata": {},
   "outputs": [],
   "source": [
    "ta=s.find_func_by_name(\"buttons\")"
   ]
  },
  {
   "cell_type": "code",
   "execution_count": null,
   "id": "76939604-4f53-4198-8742-2d6cd04aae48",
   "metadata": {},
   "outputs": [],
   "source": [
    "ta.task.exception()"
   ]
  },
  {
   "cell_type": "code",
   "execution_count": null,
   "id": "41092303-964a-4286-a8b0-36dcac1a64c9",
   "metadata": {},
   "outputs": [],
   "source": []
  },
  {
   "cell_type": "code",
   "execution_count": null,
   "id": "f94eeba2-f91b-4929-aeed-b4a055469b01",
   "metadata": {},
   "outputs": [],
   "source": [
    "break"
   ]
  },
  {
   "cell_type": "code",
   "execution_count": null,
   "id": "03ae381e-43c0-4bfa-964b-22b3789e476f",
   "metadata": {},
   "outputs": [],
   "source": [
    "C.publish(\"2/hihi\",\"thing\")"
   ]
  },
  {
   "cell_type": "code",
   "execution_count": null,
   "id": "7a6960ba-e95f-4900-b9e7-f35e6e684d31",
   "metadata": {},
   "outputs": [],
   "source": [
    "S=C.pipeline\n",
    "S.name,S.names"
   ]
  },
  {
   "cell_type": "code",
   "execution_count": null,
   "id": "73ecc081-04af-4059-be2d-c28695e03775",
   "metadata": {},
   "outputs": [],
   "source": [
    "C.client.is_connected()"
   ]
  },
  {
   "cell_type": "code",
   "execution_count": null,
   "id": "0117e4ca-ee0e-4410-b540-3f9aaf0381ef",
   "metadata": {},
   "outputs": [],
   "source": [
    "C.subscribed"
   ]
  },
  {
   "cell_type": "code",
   "execution_count": null,
   "id": "6e02e697-7856-4deb-8979-6e87fb64556e",
   "metadata": {},
   "outputs": [],
   "source": [
    "C.pipeline.state_dict"
   ]
  },
  {
   "cell_type": "code",
   "execution_count": null,
   "id": "95ddbc38-3678-48f5-a76e-8b6c0b19be92",
   "metadata": {},
   "outputs": [],
   "source": [
    "C.requests_func_list"
   ]
  },
  {
   "cell_type": "code",
   "execution_count": null,
   "id": "eecee855-fd3c-414a-8b09-42d16c3600fc",
   "metadata": {},
   "outputs": [],
   "source": []
  },
  {
   "cell_type": "code",
   "execution_count": null,
   "id": "8690b329-ca63-4bda-80ed-2ff9284691dc",
   "metadata": {},
   "outputs": [],
   "source": [
    "k0=asyncio.create_task(await_tasks(C))\n",
    "\n",
    "k1=asyncio.create_task(C.pipeline_caller())"
   ]
  },
  {
   "cell_type": "code",
   "execution_count": null,
   "id": "38942192-8667-458e-9d8b-a55ecd2c176f",
   "metadata": {},
   "outputs": [],
   "source": []
  },
  {
   "cell_type": "code",
   "execution_count": null,
   "id": "f92f4fba-d174-4117-a3c3-62cfd0fa53b2",
   "metadata": {},
   "outputs": [],
   "source": [
    "k0.exception()"
   ]
  },
  {
   "cell_type": "code",
   "execution_count": null,
   "id": "ae9ff73e-018d-4037-a784-da44980e079a",
   "metadata": {},
   "outputs": [],
   "source": [
    "k1.exception()"
   ]
  },
  {
   "cell_type": "code",
   "execution_count": null,
   "id": "01a933ed-38f2-4ecc-a6c0-4821fdf566be",
   "metadata": {},
   "outputs": [],
   "source": []
  },
  {
   "cell_type": "code",
   "execution_count": null,
   "id": "772a76a5-4477-4ba4-a083-79b98b015f18",
   "metadata": {},
   "outputs": [],
   "source": [
    "C.pipeline.names"
   ]
  },
  {
   "cell_type": "code",
   "execution_count": null,
   "id": "3fdc4ae1-4fb9-475c-a002-33e37ae14025",
   "metadata": {},
   "outputs": [],
   "source": []
  },
  {
   "cell_type": "code",
   "execution_count": null,
   "id": "12844d11-fca6-489c-b207-d711a792b2bc",
   "metadata": {},
   "outputs": [],
   "source": []
  },
  {
   "cell_type": "code",
   "execution_count": null,
   "id": "98ab7aa3-3e7a-4ad7-a2d0-1fbd3cb274d4",
   "metadata": {},
   "outputs": [],
   "source": []
  },
  {
   "cell_type": "code",
   "execution_count": null,
   "id": "df5a2915-5443-4839-957b-1bae229fb520",
   "metadata": {},
   "outputs": [],
   "source": []
  },
  {
   "cell_type": "code",
   "execution_count": null,
   "id": "dd3196cc-89e6-4088-867d-0973cd027505",
   "metadata": {},
   "outputs": [],
   "source": []
  },
  {
   "cell_type": "code",
   "execution_count": null,
   "id": "e2983ef5-f567-4042-b176-5fd87b8b261e",
   "metadata": {},
   "outputs": [],
   "source": [
    "k1.cancel()"
   ]
  },
  {
   "cell_type": "code",
   "execution_count": null,
   "id": "b162b57e-a9ad-4f87-8663-294a51d0ffaa",
   "metadata": {},
   "outputs": [],
   "source": []
  }
 ],
 "metadata": {
  "kernelspec": {
   "display_name": "Python 3 (ipykernel)",
   "language": "python",
   "name": "python3"
  },
  "language_info": {
   "codemirror_mode": {
    "name": "ipython",
    "version": 3
   },
   "file_extension": ".py",
   "mimetype": "text/x-python",
   "name": "python",
   "nbconvert_exporter": "python",
   "pygments_lexer": "ipython3",
   "version": "3.9.7"
  }
 },
 "nbformat": 4,
 "nbformat_minor": 5
}
